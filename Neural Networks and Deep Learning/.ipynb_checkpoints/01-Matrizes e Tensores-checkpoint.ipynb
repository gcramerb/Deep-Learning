{
 "cells": [
  {
   "cell_type": "markdown",
   "metadata": {
    "colab_type": "text",
    "id": "zZEtg6kMTT92"
   },
   "source": [
    "# Aprendizado Profundo - UFMG\n",
    "\n",
    "## Preâmbulo\n",
    "\n",
    "O código abaixo consiste dos imports comuns. Além do mais, configuramos as imagens para ficar de um tamanho aceitável e criamos algumas funções auxiliares. No geral, você pode ignorar a próxima célula.\n",
    "\n",
    "O curso nosso vai fazer uso extensivo de [mxnet](http://mxnet.apache.org). Importamos o mesmo com as seguintes linhas:\n",
    "\n",
    "```python\n",
    "import mxnet as mx\n",
    "import mxnet.ndarray as nd```\n",
    "\n",
    "Para instalar no collab, descomente e execute a célula abaixo."
   ]
  },
  {
   "cell_type": "code",
   "execution_count": 1,
   "metadata": {
    "colab": {
     "base_uri": "https://localhost:8080/",
     "height": 598
    },
    "colab_type": "code",
    "executionInfo": {
     "elapsed": 69280,
     "status": "ok",
     "timestamp": 1567600934598,
     "user": {
      "displayName": "Guilherme Cramer",
      "photoUrl": "",
      "userId": "08509545871907917206"
     },
     "user_tz": 180
    },
    "id": "8CDVsEjnTT96",
    "outputId": "2020c8a1-7bcd-45cd-ba99-7df9d22e50ef"
   },
   "outputs": [],
   "source": [
    "import numpy \n",
    "a = 10 "
   ]
  },
  {
   "cell_type": "code",
   "execution_count": 0,
   "metadata": {
    "colab": {},
    "colab_type": "code",
    "id": "iwlSMh0RTT-A"
   },
   "outputs": [],
   "source": [
    "# -*- coding: utf8\n",
    "\n",
    "import matplotlib.pyplot as plt\n",
    "\n",
    "import mxnet as mx\n",
    "import mxnet.ndarray as nd\n",
    "\n",
    "import numpy as np\n",
    "\n",
    "import pandas as pd\n",
    "\n",
    "plt.rcParams['figure.figsize']  = (18, 10)\n",
    "plt.rcParams['axes.labelsize']  = 20\n",
    "plt.rcParams['axes.titlesize']  = 20\n",
    "plt.rcParams['legend.fontsize'] = 20\n",
    "plt.rcParams['xtick.labelsize'] = 20\n",
    "plt.rcParams['ytick.labelsize'] = 20\n",
    "plt.rcParams['lines.linewidth'] = 4"
   ]
  },
  {
   "cell_type": "code",
   "execution_count": 0,
   "metadata": {
    "colab": {},
    "colab_type": "code",
    "id": "WATJtVytTT-E"
   },
   "outputs": [],
   "source": [
    "plt.ion()\n",
    "\n",
    "plt.style.use('seaborn-colorblind')\n",
    "plt.rcParams['figure.figsize']  = (12, 8)"
   ]
  },
  {
   "cell_type": "markdown",
   "metadata": {
    "colab_type": "text",
    "id": "6z_bz3cmTT-I"
   },
   "source": [
    "Para testar o resultado dos seus algoritmos vamos usar o módulo testing do numpy."
   ]
  },
  {
   "cell_type": "code",
   "execution_count": 0,
   "metadata": {
    "colab": {},
    "colab_type": "code",
    "id": "MbbYFz_GTT-J"
   },
   "outputs": [],
   "source": [
    "from numpy.testing import assert_equal\n",
    "from numpy.testing import assert_almost_equal\n",
    "from numpy.testing import assert_array_almost_equal"
   ]
  },
  {
   "cell_type": "markdown",
   "metadata": {
    "colab_type": "text",
    "id": "BFi3KW5STT-N"
   },
   "source": [
    "## Aula 01 - Programação Diferenciável e Tensores\n",
    "\n",
    "Quando pensamos no lado prático do aprendizado profundo, um aspecto chave que ajuda na implementação de novos algoritmos é a chamada programação diferenciável. Na próxima aula vamos voltar na mesma. No momento, o importante é salientar que a programação diferenciável faz uso extensivo de Tensores. Um [Tensor](http://en.wikipedia.org/wiki/Tensor) é uma generalização de matrizes para mais dimensões. Quando falamos de tensores, temos três casos especiais e um genérico que engloba os outros três:\n",
    "\n",
    "1. **Escalar:** Um tensor de zero dimensões"
   ]
  },
  {
   "cell_type": "code",
   "execution_count": 5,
   "metadata": {
    "colab": {
     "base_uri": "https://localhost:8080/",
     "height": 34
    },
    "colab_type": "code",
    "executionInfo": {
     "elapsed": 696,
     "status": "ok",
     "timestamp": 1567601005886,
     "user": {
      "displayName": "Guilherme Cramer",
      "photoUrl": "",
      "userId": "08509545871907917206"
     },
     "user_tz": 180
    },
    "id": "mWM8He4oTT-O",
    "outputId": "cef2c497-62b2-496f-83e5-0a27fc4ebc4e"
   },
   "outputs": [
    {
     "data": {
      "text/plain": [
       "1"
      ]
     },
     "execution_count": 5,
     "metadata": {
      "tags": []
     },
     "output_type": "execute_result"
    }
   ],
   "source": [
    "1"
   ]
  },
  {
   "cell_type": "markdown",
   "metadata": {
    "colab_type": "text",
    "id": "CbOybAUATT-S"
   },
   "source": [
    "1. **Vetor:** Um tensor de uma dimensão"
   ]
  },
  {
   "cell_type": "code",
   "execution_count": 6,
   "metadata": {
    "colab": {
     "base_uri": "https://localhost:8080/",
     "height": 34
    },
    "colab_type": "code",
    "executionInfo": {
     "elapsed": 666,
     "status": "ok",
     "timestamp": 1567601011455,
     "user": {
      "displayName": "Guilherme Cramer",
      "photoUrl": "",
      "userId": "08509545871907917206"
     },
     "user_tz": 180
    },
    "id": "exiqdTWyTT-T",
    "outputId": "2bbeb3ce-ac08-4203-c5bc-e2d835ef9371"
   },
   "outputs": [
    {
     "data": {
      "text/plain": [
       "array([1, 2])"
      ]
     },
     "execution_count": 6,
     "metadata": {
      "tags": []
     },
     "output_type": "execute_result"
    }
   ],
   "source": [
    "np.array([1, 2])"
   ]
  },
  {
   "cell_type": "markdown",
   "metadata": {
    "colab_type": "text",
    "id": "M1dr-j1TTT-Y"
   },
   "source": [
    "1. **Matrizes:** Um tensor de duas dimensões"
   ]
  },
  {
   "cell_type": "code",
   "execution_count": 7,
   "metadata": {
    "colab": {
     "base_uri": "https://localhost:8080/",
     "height": 51
    },
    "colab_type": "code",
    "executionInfo": {
     "elapsed": 664,
     "status": "ok",
     "timestamp": 1567601015415,
     "user": {
      "displayName": "Guilherme Cramer",
      "photoUrl": "",
      "userId": "08509545871907917206"
     },
     "user_tz": 180
    },
    "id": "5-khi_oYTT-Z",
    "outputId": "f4c06da2-0613-498f-fbae-69acec9bb2b7"
   },
   "outputs": [
    {
     "data": {
      "text/plain": [
       "array([[1, 2],\n",
       "       [2, 2]])"
      ]
     },
     "execution_count": 7,
     "metadata": {
      "tags": []
     },
     "output_type": "execute_result"
    }
   ],
   "source": [
    "np.array([[1, 2], [2, 2]])"
   ]
  },
  {
   "cell_type": "markdown",
   "metadata": {
    "colab_type": "text",
    "id": "MGdw44K_TT-d"
   },
   "source": [
    "1. **Tensores**. Caso geral, representam n-dimensões. Na figura temos um tensor 3x3x3.\n",
    "\n",
    "![](./figs/tensor.png)\n",
    "\n",
    "No exemplo abaixo, temos um tensor 3x2x2. Note ao selecionar elementos da primeira dimensão ficamos com matrizes 2x2. "
   ]
  },
  {
   "cell_type": "code",
   "execution_count": 9,
   "metadata": {
    "colab": {
     "base_uri": "https://localhost:8080/",
     "height": 51
    },
    "colab_type": "code",
    "executionInfo": {
     "elapsed": 661,
     "status": "ok",
     "timestamp": 1567601119729,
     "user": {
      "displayName": "Guilherme Cramer",
      "photoUrl": "",
      "userId": "08509545871907917206"
     },
     "user_tz": 180
    },
    "id": "MePWMrqwTT-f",
    "outputId": "c45c949b-ccbc-4424-bea4-e162bcf70568"
   },
   "outputs": [
    {
     "data": {
      "text/plain": [
       "array([[-0.54563059, -0.12513971],\n",
       "       [-0.22973117, -0.76895623]])"
      ]
     },
     "execution_count": 9,
     "metadata": {
      "tags": []
     },
     "output_type": "execute_result"
    }
   ],
   "source": [
    "X = np.random.randn(3, 2, 2) # Gera números aleatórios de uma normal\n",
    "X[0]"
   ]
  },
  {
   "cell_type": "code",
   "execution_count": 10,
   "metadata": {
    "colab": {
     "base_uri": "https://localhost:8080/",
     "height": 51
    },
    "colab_type": "code",
    "executionInfo": {
     "elapsed": 656,
     "status": "ok",
     "timestamp": 1567601122738,
     "user": {
      "displayName": "Guilherme Cramer",
      "photoUrl": "",
      "userId": "08509545871907917206"
     },
     "user_tz": 180
    },
    "id": "bxPgIv_hTT-l",
    "outputId": "ad0e2b7c-dd63-4777-8ffd-db802c6974c7"
   },
   "outputs": [
    {
     "data": {
      "text/plain": [
       "array([[-1.30230812,  0.66170824],\n",
       "       [ 1.23791818, -0.48039425]])"
      ]
     },
     "execution_count": 10,
     "metadata": {
      "tags": []
     },
     "output_type": "execute_result"
    }
   ],
   "source": [
    "X[1]"
   ]
  },
  {
   "cell_type": "code",
   "execution_count": 11,
   "metadata": {
    "colab": {
     "base_uri": "https://localhost:8080/",
     "height": 51
    },
    "colab_type": "code",
    "executionInfo": {
     "elapsed": 674,
     "status": "ok",
     "timestamp": 1567601125379,
     "user": {
      "displayName": "Guilherme Cramer",
      "photoUrl": "",
      "userId": "08509545871907917206"
     },
     "user_tz": 180
    },
    "id": "c87ufLGJTT-q",
    "outputId": "934cb560-7812-4961-b349-58717bfad09a"
   },
   "outputs": [
    {
     "data": {
      "text/plain": [
       "array([[ 0.92904215,  0.82045445],\n",
       "       [-0.61462707,  0.63401222]])"
      ]
     },
     "execution_count": 11,
     "metadata": {
      "tags": []
     },
     "output_type": "execute_result"
    }
   ],
   "source": [
    "X[2]"
   ]
  },
  {
   "cell_type": "markdown",
   "metadata": {
    "colab_type": "text",
    "id": "-fpjWQGPTT-u"
   },
   "source": [
    "## Indexando\n",
    "\n",
    "Sendo X uma matriz:"
   ]
  },
  {
   "cell_type": "code",
   "execution_count": 0,
   "metadata": {
    "colab": {
     "base_uri": "https://localhost:8080/",
     "height": 51
    },
    "colab_type": "code",
    "executionInfo": {
     "elapsed": 698,
     "status": "ok",
     "timestamp": 1566601000401,
     "user": {
      "displayName": "Guilherme Cramer",
      "photoUrl": "",
      "userId": "08509545871907917206"
     },
     "user_tz": 180
    },
    "id": "qgenFFRvTT-v",
    "outputId": "58fc3c6c-60bd-4c70-e5e1-22d4aee8a92b"
   },
   "outputs": [
    {
     "data": {
      "text/plain": [
       "array([[1, 2],\n",
       "       [2, 2]])"
      ]
     },
     "execution_count": 12,
     "metadata": {
      "tags": []
     },
     "output_type": "execute_result"
    }
   ],
   "source": [
    "X = np.array([[1, 2], [2, 2]])\n",
    "X"
   ]
  },
  {
   "cell_type": "markdown",
   "metadata": {
    "colab_type": "text",
    "id": "cXzVLkMLTT-z"
   },
   "source": [
    "`X[l]` pega uma linha"
   ]
  },
  {
   "cell_type": "code",
   "execution_count": 12,
   "metadata": {
    "colab": {
     "base_uri": "https://localhost:8080/",
     "height": 51
    },
    "colab_type": "code",
    "executionInfo": {
     "elapsed": 701,
     "status": "ok",
     "timestamp": 1567601247010,
     "user": {
      "displayName": "Guilherme Cramer",
      "photoUrl": "",
      "userId": "08509545871907917206"
     },
     "user_tz": 180
    },
    "id": "P2RDOcdJTT-0",
    "outputId": "91ce7b06-dc56-449f-a277-1735e6307cff"
   },
   "outputs": [
    {
     "data": {
      "text/plain": [
       "array([[-0.54563059, -0.12513971],\n",
       "       [-0.22973117, -0.76895623]])"
      ]
     },
     "execution_count": 12,
     "metadata": {
      "tags": []
     },
     "output_type": "execute_result"
    }
   ],
   "source": [
    "X[0]"
   ]
  },
  {
   "cell_type": "markdown",
   "metadata": {
    "colab_type": "text",
    "id": "SJ7dMIFiTT-4"
   },
   "source": [
    "`X[:, c]` pega uma coluna"
   ]
  },
  {
   "cell_type": "code",
   "execution_count": 13,
   "metadata": {
    "colab": {
     "base_uri": "https://localhost:8080/",
     "height": 68
    },
    "colab_type": "code",
    "executionInfo": {
     "elapsed": 689,
     "status": "ok",
     "timestamp": 1567601256583,
     "user": {
      "displayName": "Guilherme Cramer",
      "photoUrl": "",
      "userId": "08509545871907917206"
     },
     "user_tz": 180
    },
    "id": "D7xA8BkmTT-5",
    "outputId": "d7f084bd-13f2-46a8-c821-c39e29ccded2"
   },
   "outputs": [
    {
     "data": {
      "text/plain": [
       "array([[-0.54563059, -0.12513971],\n",
       "       [-1.30230812,  0.66170824],\n",
       "       [ 0.92904215,  0.82045445]])"
      ]
     },
     "execution_count": 13,
     "metadata": {
      "tags": []
     },
     "output_type": "execute_result"
    }
   ],
   "source": [
    "X[:, 0]"
   ]
  },
  {
   "cell_type": "markdown",
   "metadata": {
    "colab_type": "text",
    "id": "i9wn460gTT-9"
   },
   "source": [
    "`X[um_vetor]` pega as linhas do vetor. `X[:, um_vetor]` pega as colunas"
   ]
  },
  {
   "cell_type": "code",
   "execution_count": 14,
   "metadata": {
    "colab": {
     "base_uri": "https://localhost:8080/",
     "height": 51
    },
    "colab_type": "code",
    "executionInfo": {
     "elapsed": 683,
     "status": "ok",
     "timestamp": 1567601277621,
     "user": {
      "displayName": "Guilherme Cramer",
      "photoUrl": "",
      "userId": "08509545871907917206"
     },
     "user_tz": 180
    },
    "id": "aSG1UxemTT--",
    "outputId": "ea9d8824-689b-4593-d00e-5ae8d206aa79"
   },
   "outputs": [
    {
     "data": {
      "text/plain": [
       "array([[2, 3],\n",
       "       [2, 2]])"
      ]
     },
     "execution_count": 14,
     "metadata": {
      "tags": []
     },
     "output_type": "execute_result"
    }
   ],
   "source": [
    "X = np.array([[1, 2, 3], [2, 2, 2]])\n",
    "X[:, [1, 2]]"
   ]
  },
  {
   "cell_type": "markdown",
   "metadata": {
    "colab_type": "text",
    "id": "alCaFIm8TT_C"
   },
   "source": [
    "`X[vetor_booleano]` Retorna as linhas (ou colunas quando `X[:, vetor_booleano]`) onde o vetor é true"
   ]
  },
  {
   "cell_type": "code",
   "execution_count": 15,
   "metadata": {
    "colab": {
     "base_uri": "https://localhost:8080/",
     "height": 34
    },
    "colab_type": "code",
    "executionInfo": {
     "elapsed": 666,
     "status": "ok",
     "timestamp": 1567601306970,
     "user": {
      "displayName": "Guilherme Cramer",
      "photoUrl": "",
      "userId": "08509545871907917206"
     },
     "user_tz": 180
    },
    "id": "jSPM2lGiTT_D",
    "outputId": "88803d0e-8833-439f-cd16-b379631cccfc"
   },
   "outputs": [
    {
     "data": {
      "text/plain": [
       "array([[2, 2, 2]])"
      ]
     },
     "execution_count": 15,
     "metadata": {
      "tags": []
     },
     "output_type": "execute_result"
    }
   ],
   "source": [
    "X[[False, True]]"
   ]
  },
  {
   "cell_type": "markdown",
   "metadata": {
    "colab_type": "text",
    "id": "_j1x7k8uTT_H"
   },
   "source": [
    "## Shape, Reshape e Ravel\n",
    "\n",
    "Todo vetor, matriz e tensor pode ser redimensionado. Observe como no tensor abaixo temos `3x2x2=12` elementos. Podemos redimensionar os mesmos para outros arrays de tamanho 12."
   ]
  },
  {
   "cell_type": "code",
   "execution_count": 16,
   "metadata": {
    "colab": {
     "base_uri": "https://localhost:8080/",
     "height": 34
    },
    "colab_type": "code",
    "executionInfo": {
     "elapsed": 672,
     "status": "ok",
     "timestamp": 1567601343927,
     "user": {
      "displayName": "Guilherme Cramer",
      "photoUrl": "",
      "userId": "08509545871907917206"
     },
     "user_tz": 180
    },
    "id": "pkxPmHuSTT_I",
    "outputId": "7ef43eda-5ea3-4c4d-c95b-5931273c1e93"
   },
   "outputs": [
    {
     "data": {
      "text/plain": [
       "(3, 2, 2)"
      ]
     },
     "execution_count": 16,
     "metadata": {
      "tags": []
     },
     "output_type": "execute_result"
    }
   ],
   "source": [
    "X = np.random.randn(3, 2, 2)\n",
    "X.shape"
   ]
  },
  {
   "cell_type": "markdown",
   "metadata": {
    "colab_type": "text",
    "id": "VcEw46BqTT_O"
   },
   "source": [
    "Como matriz"
   ]
  },
  {
   "cell_type": "code",
   "execution_count": 17,
   "metadata": {
    "colab": {
     "base_uri": "https://localhost:8080/",
     "height": 85
    },
    "colab_type": "code",
    "executionInfo": {
     "elapsed": 661,
     "status": "ok",
     "timestamp": 1567601348932,
     "user": {
      "displayName": "Guilherme Cramer",
      "photoUrl": "",
      "userId": "08509545871907917206"
     },
     "user_tz": 180
    },
    "id": "XkqSWU5dTT_P",
    "outputId": "ccd1cb72-ecdd-473e-f31b-48e3358b10c5"
   },
   "outputs": [
    {
     "data": {
      "text/plain": [
       "array([[-0.65466914,  0.4360776 ,  1.16233408, -0.1576386 , -0.59833835,\n",
       "        -0.87772478],\n",
       "       [-1.2693394 , -1.68193505, -0.83488351,  1.04221318,  1.39370394,\n",
       "         0.03147092]])"
      ]
     },
     "execution_count": 17,
     "metadata": {
      "tags": []
     },
     "output_type": "execute_result"
    }
   ],
   "source": [
    "X.reshape((2, 6))"
   ]
  },
  {
   "cell_type": "markdown",
   "metadata": {
    "colab_type": "text",
    "id": "VP-3M3oVTT_W"
   },
   "source": [
    "Outra Matriz"
   ]
  },
  {
   "cell_type": "code",
   "execution_count": 18,
   "metadata": {
    "colab": {
     "base_uri": "https://localhost:8080/",
     "height": 119
    },
    "colab_type": "code",
    "executionInfo": {
     "elapsed": 662,
     "status": "ok",
     "timestamp": 1567601354876,
     "user": {
      "displayName": "Guilherme Cramer",
      "photoUrl": "",
      "userId": "08509545871907917206"
     },
     "user_tz": 180
    },
    "id": "Eb3HqtWhTT_Z",
    "outputId": "8746a9fa-623c-4160-a779-c108c84ebad5"
   },
   "outputs": [
    {
     "data": {
      "text/plain": [
       "array([[-0.65466914,  0.4360776 ],\n",
       "       [ 1.16233408, -0.1576386 ],\n",
       "       [-0.59833835, -0.87772478],\n",
       "       [-1.2693394 , -1.68193505],\n",
       "       [-0.83488351,  1.04221318],\n",
       "       [ 1.39370394,  0.03147092]])"
      ]
     },
     "execution_count": 18,
     "metadata": {
      "tags": []
     },
     "output_type": "execute_result"
    }
   ],
   "source": [
    "X.reshape((6, 2))"
   ]
  },
  {
   "cell_type": "markdown",
   "metadata": {
    "colab_type": "text",
    "id": "OWnNkePaTT_e"
   },
   "source": [
    "Um Tensor"
   ]
  },
  {
   "cell_type": "code",
   "execution_count": 19,
   "metadata": {
    "colab": {
     "base_uri": "https://localhost:8080/",
     "height": 306
    },
    "colab_type": "code",
    "executionInfo": {
     "elapsed": 656,
     "status": "ok",
     "timestamp": 1567601363563,
     "user": {
      "displayName": "Guilherme Cramer",
      "photoUrl": "",
      "userId": "08509545871907917206"
     },
     "user_tz": 180
    },
    "id": "z7R1aBqVTT_f",
    "outputId": "59488b92-16b9-4b6c-dcb8-718288bd9dd7"
   },
   "outputs": [
    {
     "data": {
      "text/plain": [
       "array([[[-0.65466914],\n",
       "        [ 0.4360776 ]],\n",
       "\n",
       "       [[ 1.16233408],\n",
       "        [-0.1576386 ]],\n",
       "\n",
       "       [[-0.59833835],\n",
       "        [-0.87772478]],\n",
       "\n",
       "       [[-1.2693394 ],\n",
       "        [-1.68193505]],\n",
       "\n",
       "       [[-0.83488351],\n",
       "        [ 1.04221318]],\n",
       "\n",
       "       [[ 1.39370394],\n",
       "        [ 0.03147092]]])"
      ]
     },
     "execution_count": 19,
     "metadata": {
      "tags": []
     },
     "output_type": "execute_result"
    }
   ],
   "source": [
    "X.reshape((6, 2, 1))"
   ]
  },
  {
   "cell_type": "markdown",
   "metadata": {
    "colab_type": "text",
    "id": "jzKf-aA3TT_j"
   },
   "source": [
    "As operações flatten e ravel organizam os elementos como um vetor."
   ]
  },
  {
   "cell_type": "code",
   "execution_count": 20,
   "metadata": {
    "colab": {
     "base_uri": "https://localhost:8080/",
     "height": 68
    },
    "colab_type": "code",
    "executionInfo": {
     "elapsed": 658,
     "status": "ok",
     "timestamp": 1567601373635,
     "user": {
      "displayName": "Guilherme Cramer",
      "photoUrl": "",
      "userId": "08509545871907917206"
     },
     "user_tz": 180
    },
    "id": "SFNCIdA7TT_k",
    "outputId": "987308f0-d911-4395-b59b-1506e0fdb865"
   },
   "outputs": [
    {
     "data": {
      "text/plain": [
       "array([-0.65466914,  0.4360776 ,  1.16233408, -0.1576386 , -0.59833835,\n",
       "       -0.87772478, -1.2693394 , -1.68193505, -0.83488351,  1.04221318,\n",
       "        1.39370394,  0.03147092])"
      ]
     },
     "execution_count": 20,
     "metadata": {
      "tags": []
     },
     "output_type": "execute_result"
    }
   ],
   "source": [
    "X.flatten()"
   ]
  },
  {
   "cell_type": "code",
   "execution_count": 0,
   "metadata": {
    "colab": {
     "base_uri": "https://localhost:8080/",
     "height": 68
    },
    "colab_type": "code",
    "executionInfo": {
     "elapsed": 664,
     "status": "ok",
     "timestamp": 1566601098751,
     "user": {
      "displayName": "Guilherme Cramer",
      "photoUrl": "",
      "userId": "08509545871907917206"
     },
     "user_tz": 180
    },
    "id": "HapR_m2hTT_q",
    "outputId": "ece4bd38-2ed8-4fcf-e0a6-8399d5effae0"
   },
   "outputs": [
    {
     "data": {
      "text/plain": [
       "array([ 0.77424791, -0.52609135,  1.05440855,  1.3066749 , -0.03386405,\n",
       "       -0.78419903, -0.06464918, -0.16172796,  0.24453221, -1.11010001,\n",
       "        0.86364963,  0.46809906])"
      ]
     },
     "execution_count": 21,
     "metadata": {
      "tags": []
     },
     "output_type": "execute_result"
    }
   ],
   "source": [
    "X.ravel()"
   ]
  },
  {
   "cell_type": "markdown",
   "metadata": {
    "colab_type": "text",
    "id": "JSNnSEfBTT_t"
   },
   "source": [
    "## Arrays Assíncronos\n",
    "\n",
    "Em todos os exemplos abaixo vamos fazer uso pesado de matrizes e tensores. A biblioteca mxnet, contém uma biblioteca de tensores que é **quase igual** a biblioteca numpy. Observe como usando:\n",
    "\n",
    "```python\n",
    "import mxnet.ndarray as nd\n",
    "```\n",
    "\n",
    "Temos as mesmas primitivas de um vetor numpy. Portanto vamos fazer uso do módulo ND em boa parte das nossas tarefas."
   ]
  },
  {
   "cell_type": "code",
   "execution_count": 0,
   "metadata": {
    "colab": {
     "base_uri": "https://localhost:8080/",
     "height": 51
    },
    "colab_type": "code",
    "executionInfo": {
     "elapsed": 667,
     "status": "ok",
     "timestamp": 1566601118210,
     "user": {
      "displayName": "Guilherme Cramer",
      "photoUrl": "",
      "userId": "08509545871907917206"
     },
     "user_tz": 180
    },
    "id": "lewR7mVzTT_u",
    "outputId": "19e6c77e-dfde-4168-f0dd-658d792b52be"
   },
   "outputs": [
    {
     "data": {
      "text/plain": [
       "array([[1, 2],\n",
       "       [2, 1]])"
      ]
     },
     "execution_count": 22,
     "metadata": {
      "tags": []
     },
     "output_type": "execute_result"
    }
   ],
   "source": [
    "np.array([[1, 2], [2, 1]])"
   ]
  },
  {
   "cell_type": "code",
   "execution_count": 21,
   "metadata": {
    "colab": {
     "base_uri": "https://localhost:8080/",
     "height": 85
    },
    "colab_type": "code",
    "executionInfo": {
     "elapsed": 655,
     "status": "ok",
     "timestamp": 1567601512736,
     "user": {
      "displayName": "Guilherme Cramer",
      "photoUrl": "",
      "userId": "08509545871907917206"
     },
     "user_tz": 180
    },
    "id": "8PRGHd8jTT_y",
    "outputId": "e7546719-3efd-4b6e-ec35-efaa532a4df6"
   },
   "outputs": [
    {
     "data": {
      "text/plain": [
       "\n",
       "[[1. 2.]\n",
       " [2. 1.]]\n",
       "<NDArray 2x2 @cpu(0)>"
      ]
     },
     "execution_count": 21,
     "metadata": {
      "tags": []
     },
     "output_type": "execute_result"
    }
   ],
   "source": [
    "nd.array([[1, 2], [2, 1]])"
   ]
  },
  {
   "cell_type": "markdown",
   "metadata": {
    "colab_type": "text",
    "id": "JQGjAHXiTT_1"
   },
   "source": [
    "Uma diferença, é que o mxnet executa operações de forma assíncrona. Isto é uma característica comum de diversos arcabouços de aprendizado profundo. Então, diferente de numpy onde cada resultado já está pronto logo ao realizar a operação:"
   ]
  },
  {
   "cell_type": "code",
   "execution_count": 22,
   "metadata": {
    "colab": {
     "base_uri": "https://localhost:8080/",
     "height": 34
    },
    "colab_type": "code",
    "executionInfo": {
     "elapsed": 15751,
     "status": "ok",
     "timestamp": 1567601546384,
     "user": {
      "displayName": "Guilherme Cramer",
      "photoUrl": "",
      "userId": "08509545871907917206"
     },
     "user_tz": 180
    },
    "id": "awPOGBtLTT_2",
    "outputId": "5ba562e8-a52b-497c-808e-27fa6aaab1b7"
   },
   "outputs": [
    {
     "data": {
      "text/plain": [
       "15.073528289794922"
      ]
     },
     "execution_count": 22,
     "metadata": {
      "tags": []
     },
     "output_type": "execute_result"
    }
   ],
   "source": [
    "import time\n",
    "\n",
    "tic = time.time()\n",
    "X = np.random.normal(size=(10000, 1000))\n",
    "Y = np.random.normal(size=(1000, 20000))\n",
    "R = np.dot(X, Y)  # produto de matrizes\n",
    "time.time() - tic"
   ]
  },
  {
   "cell_type": "markdown",
   "metadata": {
    "colab_type": "text",
    "id": "FW69NqZCTT_-"
   },
   "source": [
    "Em mxnet só temos a resposta ao ler o valor de retorno. A multiplicação `R = X @ Y` não é realizada ao executar a linha. Observe como o código termina muito muito rápido!"
   ]
  },
  {
   "cell_type": "code",
   "execution_count": 23,
   "metadata": {
    "colab": {
     "base_uri": "https://localhost:8080/",
     "height": 34
    },
    "colab_type": "code",
    "executionInfo": {
     "elapsed": 678,
     "status": "ok",
     "timestamp": 1567601553697,
     "user": {
      "displayName": "Guilherme Cramer",
      "photoUrl": "",
      "userId": "08509545871907917206"
     },
     "user_tz": 180
    },
    "id": "Tfh3och6TUAA",
    "outputId": "045dd14b-d624-4d01-977a-55ff731597c7"
   },
   "outputs": [
    {
     "data": {
      "text/plain": [
       "0.0861966609954834"
      ]
     },
     "execution_count": 23,
     "metadata": {
      "tags": []
     },
     "output_type": "execute_result"
    }
   ],
   "source": [
    "tic = time.time()\n",
    "X = nd.random.normal(shape=(10000, 1000)) #shape ao invés de size, api um pouco inconsistente\n",
    "Y = nd.random.normal(shape=(1000, 20000))\n",
    "R = nd.dot(X, Y)\n",
    "# até aqui não temos garantias que R foi computada\n",
    "time.time() - tic"
   ]
  },
  {
   "cell_type": "markdown",
   "metadata": {
    "colab_type": "text",
    "id": "PQWfefSqTUAG"
   },
   "source": [
    "Ao realizar wait_to_read, esperamos o resutado ficar pronto. O mesmo ocorre se acessar um valor de R."
   ]
  },
  {
   "cell_type": "code",
   "execution_count": 24,
   "metadata": {
    "colab": {
     "base_uri": "https://localhost:8080/",
     "height": 34
    },
    "colab_type": "code",
    "executionInfo": {
     "elapsed": 9870,
     "status": "ok",
     "timestamp": 1567601569257,
     "user": {
      "displayName": "Guilherme Cramer",
      "photoUrl": "",
      "userId": "08509545871907917206"
     },
     "user_tz": 180
    },
    "id": "m8siDJWwTUAI",
    "outputId": "e4f14701-a12c-4c6a-aedb-a992662b45c0"
   },
   "outputs": [
    {
     "data": {
      "text/plain": [
       "9.1729416847229"
      ]
     },
     "execution_count": 24,
     "metadata": {
      "tags": []
     },
     "output_type": "execute_result"
    }
   ],
   "source": [
    "tic = time.time()\n",
    "X = nd.random.normal(shape=(10000, 1000)) #shape ao invés de size, api um pouco inconsistente\n",
    "Y = nd.random.normal(shape=(1000, 20000))\n",
    "R = nd.dot(X, Y)\n",
    "R.wait_to_read()\n",
    "time.time() - tic"
   ]
  },
  {
   "cell_type": "markdown",
   "metadata": {
    "colab_type": "text",
    "id": "ehA4w4fvTUAM"
   },
   "source": [
    "## Conjunto de Problemas 1: Vetorização"
   ]
  },
  {
   "cell_type": "markdown",
   "metadata": {
    "colab_type": "text",
    "id": "h1Mj9J9-TUAO"
   },
   "source": [
    "Seu objetivo é medir a velocidade das operações de álgebra linear para diferentes níveis de vetorização. Você precisa usar `wait_to_read ()` na saída para assegurar que o resultado seja computado completamente.\n",
    "\n",
    "1. Construa duas matrizes $ A $ e $ B $ com entradas aleatórias Gaussianas de tamanho $ 128 \\times 256 $. Use o módulo time para mensurar o tempo da operação. Lembre-se de chamar wait_to_read."
   ]
  },
  {
   "cell_type": "code",
   "execution_count": 0,
   "metadata": {
    "colab": {},
    "colab_type": "code",
    "id": "m6iShehrTUAR"
   },
   "outputs": [],
   "source": [
    "# Descomente e complete\n",
    "A = nd.random.normal(shape=(128, 256))\n",
    "B = nd.random.normal(shape=(128,256))"
   ]
  },
  {
   "cell_type": "code",
   "execution_count": 0,
   "metadata": {
    "colab": {},
    "colab_type": "code",
    "id": "VDITPVcdTUAU"
   },
   "outputs": [],
   "source": [
    "# testes, não apague as linhas!!\n",
    "assert_equal((128, 256), A.shape)\n",
    "assert_equal((128, 256), B.shape)\n",
    "\n",
    "# A chamada asnumpy converte os vetores em vetores numpy. Útil para testes!\n",
    "Anp = A.asnumpy()\n",
    "Bnp = A.asnumpy()\n",
    "\n",
    "# testando média e desvio padrão\n",
    "assert_almost_equal(Anp.mean(), 0, decimal=2)\n",
    "assert_almost_equal(Anp.std(ddof=1), 1, decimal=2)\n",
    "\n",
    "assert_almost_equal(Bnp.mean(), 0, decimal=2)\n",
    "assert_almost_equal(Bnp.std(ddof=1), 1, decimal=2)"
   ]
  },
  {
   "cell_type": "markdown",
   "metadata": {
    "colab_type": "text",
    "id": "FW0wxwiWTUAY"
   },
   "source": [
    "2. Calcule $ C = AB^t $, tratando $ A $ como uma matriz, mas computando o resultado para cada coluna de $ B $. Isto é, use um laço `for`! Pare realizar este código, é importante entender o conceito de broadcasting. Para transpor uma matriz use `X.T`.\n",
    "\n",
    "Em código numpy e mxnet, a operação de broadcasting replica linhas e colunas de tensores para realizar operações. Para entender melhor, leia o [documento](https://docs.scipy.org/doc/numpy/user/basics.broadcasting.html). A figura abaixo exemplifica broadcasting. No geral, as dimensões de arrays casam, as operações são realizadas (primeira linha da figura). Mesmo quando as dimensões não casem, se a última dimensão for compatível é feito a replicação (broadcasting), ver a segunda linha da figura. Por fim, mesmo quando as dimensões não casam mas uma delas é 1 (4x1 + 1x3 na linha 3), é feito broadcasting.\n",
    "\n",
    "Para fazer o código em uma linha apenas, você vai focar no caso da linha 2 da figura. Multiplique uma linha de A por B. Depois disso, use `.sum(axis=...)`.\n",
    "\n",
    "![](./figs/broadcasting.png)"
   ]
  },
  {
   "cell_type": "code",
   "execution_count": 0,
   "metadata": {
    "colab": {},
    "colab_type": "code",
    "id": "NtPsw5hcTUAZ"
   },
   "outputs": [],
   "source": [
    "# Descomente e complete\n",
    "C = nd.zeros(shape=(128, 128))\n",
    "for linha in range(B.shape[0]):\n",
    "    C[linha] = nd.dot(A[linha],B[linha])"
   ]
  },
  {
   "cell_type": "code",
   "execution_count": 30,
   "metadata": {
    "colab": {
     "base_uri": "https://localhost:8080/",
     "height": 445
    },
    "colab_type": "code",
    "executionInfo": {
     "elapsed": 677,
     "status": "error",
     "timestamp": 1567602662852,
     "user": {
      "displayName": "Guilherme Cramer",
      "photoUrl": "",
      "userId": "08509545871907917206"
     },
     "user_tz": 180
    },
    "id": "SeJUl5_fTUAg",
    "outputId": "4afaf547-bbf0-4c9c-dd09-e52f4411108e"
   },
   "outputs": [
    {
     "ename": "AssertionError",
     "evalue": "ignored",
     "output_type": "error",
     "traceback": [
      "\u001b[0;31m---------------------------------------------------------------------------\u001b[0m",
      "\u001b[0;31mAssertionError\u001b[0m                            Traceback (most recent call last)",
      "\u001b[0;32m<ipython-input-30-679618099f7f>\u001b[0m in \u001b[0;36m<module>\u001b[0;34m()\u001b[0m\n\u001b[1;32m      1\u001b[0m \u001b[0mCteste\u001b[0m \u001b[0;34m=\u001b[0m \u001b[0mnd\u001b[0m\u001b[0;34m.\u001b[0m\u001b[0mdot\u001b[0m\u001b[0;34m(\u001b[0m\u001b[0mA\u001b[0m\u001b[0;34m,\u001b[0m \u001b[0mB\u001b[0m\u001b[0;34m.\u001b[0m\u001b[0mT\u001b[0m\u001b[0;34m)\u001b[0m\u001b[0;34m.\u001b[0m\u001b[0masnumpy\u001b[0m\u001b[0;34m(\u001b[0m\u001b[0;34m)\u001b[0m  \u001b[0;31m# faz a leitura, realiza operação\u001b[0m\u001b[0;34m\u001b[0m\u001b[0;34m\u001b[0m\u001b[0m\n\u001b[0;32m----> 2\u001b[0;31m \u001b[0massert_array_almost_equal\u001b[0m\u001b[0;34m(\u001b[0m\u001b[0mCteste\u001b[0m\u001b[0;34m,\u001b[0m \u001b[0mC\u001b[0m\u001b[0;34m.\u001b[0m\u001b[0masnumpy\u001b[0m\u001b[0;34m(\u001b[0m\u001b[0;34m)\u001b[0m\u001b[0;34m,\u001b[0m \u001b[0mdecimal\u001b[0m\u001b[0;34m=\u001b[0m\u001b[0;36m2\u001b[0m\u001b[0;34m)\u001b[0m\u001b[0;34m\u001b[0m\u001b[0;34m\u001b[0m\u001b[0m\n\u001b[0m",
      "\u001b[0;32m/usr/local/lib/python3.6/dist-packages/numpy/testing/_private/utils.py\u001b[0m in \u001b[0;36massert_array_almost_equal\u001b[0;34m(x, y, decimal, err_msg, verbose)\u001b[0m\n",
      "\u001b[0;32m/usr/local/lib/python3.6/dist-packages/numpy/testing/_private/utils.py\u001b[0m in \u001b[0;36massert_array_compare\u001b[0;34m(comparison, x, y, err_msg, verbose, header, precision, equal_nan, equal_inf)\u001b[0m\n",
      "\u001b[0;31mAssertionError\u001b[0m: \nArrays are not almost equal to 2 decimals\n\nMismatch: 99.1%\nMax absolute difference: 90.20225\nMax relative difference: 1159.0659\n x: array([[  7.81, -10.65,   1.84, ...,  15.47,  -2.84,   7.8 ],\n       [-22.58,   6.66, -10.22, ...,  18.15,  17.26,  14.62],\n       [ 17.59,  -4.48,   8.32, ...,   1.38,  11.98,  -5.06],...\n y: array([[  7.81,   7.81,   7.81, ...,   7.81,   7.81,   7.81],\n       [  6.66,   6.66,   6.66, ...,   6.66,   6.66,   6.66],\n       [  8.32,   8.32,   8.32, ...,   8.32,   8.32,   8.32],..."
     ]
    }
   ],
   "source": [
    "# testes, não apague as linhas!!\n",
    "Cteste = nd.dot(A, B.T).asnumpy()  # faz a leitura, realiza operação\n",
    "assert_array_almost_equal(Cteste, C.asnumpy(), decimal=2)"
   ]
  },
  {
   "cell_type": "markdown",
   "metadata": {
    "colab_type": "text",
    "id": "S-iMo3PpTUAj"
   },
   "source": [
    "3. Calcule $ C = AB^t $ usando operações matriciais. Ou seja, sem usar nenhum laço. Ao mensurar o tempo, ficou mais rápido?"
   ]
  },
  {
   "cell_type": "code",
   "execution_count": 0,
   "metadata": {
    "colab": {},
    "colab_type": "code",
    "id": "E9pyYLE4TUAk"
   },
   "outputs": [],
   "source": [
    "C =nd.dot(A,B.T)"
   ]
  },
  {
   "cell_type": "code",
   "execution_count": 0,
   "metadata": {
    "colab": {},
    "colab_type": "code",
    "id": "Inw7UGLrTUAo"
   },
   "outputs": [],
   "source": [
    "# testes, não apague as linhas!!\n",
    "Cteste = nd.dot(A, B.T).asnumpy()  # faz a leitura, realiza operação\n",
    "assert_array_almost_equal(Cteste, C.asnumpy(), decimal=3)"
   ]
  },
  {
   "cell_type": "markdown",
   "metadata": {
    "colab_type": "text",
    "id": "tPSdShrBTUAs"
   },
   "source": [
    "## Conjunto de Problemas 2: Computação eficiente de memória\n",
    "\n",
    "Crie duas matrizes aleatórias de tamanho $4096 \\times 4096$. Chame as mesmas de A e B novamente.\n",
    "\n"
   ]
  },
  {
   "cell_type": "code",
   "execution_count": 0,
   "metadata": {
    "colab": {},
    "colab_type": "code",
    "id": "aiYEFbWuTUAt"
   },
   "outputs": [],
   "source": [
    "A = nd.random.normal(shape=(4096, 4096))\n",
    "B = nd.random.normal(shape=(4096, 4096))"
   ]
  },
  {
   "cell_type": "markdown",
   "metadata": {
    "colab_type": "text",
    "id": "tA5d2yFcTUAz"
   },
   "source": [
    "Queremos calcular $ C \\leftarrow A \\cdot B + C $, onde $ A, B $ e $ C $ são todas matrizes. Implemente isso da maneira mais eficiente em termos de memória!\n",
    "\n",
    "4. Não aloque nova memória para o novo valor de $ C $. Não aloque nova memória para resultados intermediários, se possível. Leia a seção de Saving Memory do [d2l.ai](http://d2l.ai/chapter_crashcourse/ndarray.html)."
   ]
  },
  {
   "cell_type": "code",
   "execution_count": 0,
   "metadata": {
    "colab": {},
    "colab_type": "code",
    "id": "HVClNJlQTUA1"
   },
   "outputs": [],
   "source": [
    "# Descomente e complete\n",
    "C = nd.zeros(A.shape)\n",
    "C[:] = # ..."
   ]
  },
  {
   "cell_type": "code",
   "execution_count": 0,
   "metadata": {
    "colab": {},
    "colab_type": "code",
    "id": "ygyI3OdwTUA4"
   },
   "outputs": [],
   "source": [
    "# testes não apague!\n",
    "Cteste = (nd.dot(A, B)).asnumpy()  # faz a leitura, realiza operação\n",
    "assert_array_almost_equal(Cteste, C.asnumpy(), decimal=3)"
   ]
  },
  {
   "cell_type": "markdown",
   "metadata": {
    "colab_type": "text",
    "id": "7nurGtaNTUA7"
   },
   "source": [
    "5. Crie uma função que recebe (A, B e C). A mesma deve atualizar C sem alocar memória nova. Além do mais, a função recebe um número de iterações para atualizar C."
   ]
  },
  {
   "cell_type": "code",
   "execution_count": 0,
   "metadata": {
    "colab": {},
    "colab_type": "code",
    "id": "NtkDj1c9TUA8"
   },
   "outputs": [],
   "source": [
    "def update_c(C, A, B, niter=2):\n",
    "    # implemente\n",
    "    pass"
   ]
  },
  {
   "cell_type": "code",
   "execution_count": 0,
   "metadata": {
    "colab": {},
    "colab_type": "code",
    "id": "F91U9y5PTUBG"
   },
   "outputs": [],
   "source": [
    "# testes não apague!\n",
    "Ct = nd.zeros(A.shape)\n",
    "Cteste = (Ct + nd.dot(A, B))\n",
    "Cteste = (Cteste + nd.dot(A, B)).asnumpy()\n",
    "\n",
    "C = nd.zeros(A.shape)\n",
    "update_c(C, A, B, 2)\n",
    "assert_array_almost_equal(Cteste, C.asnumpy(), decimal=3)"
   ]
  },
  {
   "cell_type": "markdown",
   "metadata": {
    "colab_type": "text",
    "id": "EVhubW37TUBJ"
   },
   "source": [
    "## Conjunto de Problemas 3: Programação Diferenciável\n",
    "\n",
    "Agora vamos aprender um dos pontos chaves de fazer uso de bibliotecas como mxnet/tensorflow/etc, a programação diferenciável. Diferente do exercício que vocês fizeram na mão, usando a biblioteca conseguimos derivar de forma automágica. Portanto, observe como o código abaixo deriva a função seno."
   ]
  },
  {
   "cell_type": "code",
   "execution_count": 34,
   "metadata": {
    "colab": {
     "base_uri": "https://localhost:8080/",
     "height": 512
    },
    "colab_type": "code",
    "executionInfo": {
     "elapsed": 1339,
     "status": "ok",
     "timestamp": 1567603044545,
     "user": {
      "displayName": "Guilherme Cramer",
      "photoUrl": "",
      "userId": "08509545871907917206"
     },
     "user_tz": 180
    },
    "id": "5-unDq8sTUBL",
    "outputId": "348b729b-9c2f-4cda-d618-448bcde2f8ad"
   },
   "outputs": [
    {
     "data": {
      "text/plain": [
       "[<matplotlib.lines.Line2D at 0x7efca5a8bc50>]"
      ]
     },
     "execution_count": 34,
     "metadata": {
      "tags": []
     },
     "output_type": "execute_result"
    },
    {
     "data": {
      "image/png": "[encoded data removed]",
      "text/plain": [
       "<Figure size 864x576 with 1 Axes>"
      ]
     },
     "metadata": {
      "tags": []
     },
     "output_type": "display_data"
    }
   ],
   "source": [
    "x = np.linspace(-10, 10, 1000)\n",
    "x_nd = nd.array(x)\n",
    "x_nd.attach_grad()\n",
    "with mx.autograd.record(): # liga o modo treino, vamos derivar e otimizar coisas.\n",
    "    y = nd.sin(x_nd)\n",
    "y.backward()\n",
    "\n",
    "plt.plot(x_nd.asnumpy(), y.asnumpy(), label='sin(x)')\n",
    "plt.plot(x_nd.asnumpy(), x_nd.grad.asnumpy(), label='sin\\'(x)')"
   ]
  },
  {
   "cell_type": "markdown",
   "metadata": {
    "colab_type": "text",
    "id": "Bie9d_y6TUBP"
   },
   "source": [
    "O resultado é a mesma curva da função cosseno! Para entender melhor o autograd, leia a seção respectiva do [d2l.ai](http://d2l.ai/chapter_crashcourse/autograd.html)."
   ]
  },
  {
   "cell_type": "code",
   "execution_count": 35,
   "metadata": {
    "colab": {
     "base_uri": "https://localhost:8080/",
     "height": 512
    },
    "colab_type": "code",
    "executionInfo": {
     "elapsed": 1249,
     "status": "ok",
     "timestamp": 1567603086224,
     "user": {
      "displayName": "Guilherme Cramer",
      "photoUrl": "",
      "userId": "08509545871907917206"
     },
     "user_tz": 180
    },
    "id": "6YzOzhX6TUBQ",
    "outputId": "8c8b06fe-59d8-435d-8d9d-b66f451f868c"
   },
   "outputs": [
    {
     "data": {
      "text/plain": [
       "[<matplotlib.lines.Line2D at 0x7efc3c5189b0>]"
      ]
     },
     "execution_count": 35,
     "metadata": {
      "tags": []
     },
     "output_type": "execute_result"
    },
    {
     "data": {
      "image/png": "[encoded data removed]",
      "text/plain": [
       "<Figure size 864x576 with 1 Axes>"
      ]
     },
     "metadata": {
      "tags": []
     },
     "output_type": "display_data"
    }
   ],
   "source": [
    "plt.plot(x_nd.asnumpy(), x_nd.grad.asnumpy(), label='sin\\'(x)')\n",
    "plt.plot(x_nd.asnumpy(), nd.cos(x_nd).asnumpy(), label='cos(x)')"
   ]
  },
  {
   "cell_type": "markdown",
   "metadata": {
    "colab_type": "text",
    "id": "YPHVP1hRTUBX"
   },
   "source": [
    "6. Derive a função logística usando mxnet.\n",
    "\n",
    "$$f(x) = \\frac{1}{1 + e^{-x}}$$"
   ]
  },
  {
   "cell_type": "code",
   "execution_count": 0,
   "metadata": {
    "colab": {},
    "colab_type": "code",
    "id": "fBxUMLu-TUBY"
   },
   "outputs": [],
   "source": [
    "# Complete\n",
    "x = np.linspace(-10, 10, 1000) # Não mude o valor de x!"
   ]
  },
  {
   "cell_type": "code",
   "execution_count": 0,
   "metadata": {
    "colab": {},
    "colab_type": "code",
    "id": "X2G8MWVBTUBg"
   },
   "outputs": [],
   "source": [
    "# Testes, não apague!!!\n",
    "y_test = 1.0/(1 + np.exp(-x))\n",
    "derivada_teste = y_test * (1 - y_test)\n",
    "assert_array_almost_equal(derivada_teste, x_nd.grad.asnumpy(), decimal=3)"
   ]
  },
  {
   "cell_type": "markdown",
   "metadata": {
    "colab_type": "text",
    "id": "E7lV3chYTUBl"
   },
   "source": [
    "A operação *dettach* permite quebrar a computação em várias partes. Em particular, isto é útil para aplicar a regra da cadeia. Suponha que $u = f(x)$ e $z = g(u)$, pela regra da cadeia, temos $\\frac{dz}{dx}$ = $\\frac{dz}{du}\\frac{du}{dx}$. Para calcular $\\frac{dz}{du}$, podemos primeiro separar $u$ da computação e, em seguida, chamar `z.backward()` para calcular o primeiro termo.\n",
    "\n",
    "Observe no caso abaixo como derivamos $u = x^2$. A resposta deve ser $2x$ para cada termo `[0, 1, 2, 3]`."
   ]
  },
  {
   "cell_type": "code",
   "execution_count": 0,
   "metadata": {
    "colab": {},
    "colab_type": "code",
    "id": "sKTknHukTUBn"
   },
   "outputs": [],
   "source": [
    "x = nd.arange(4)\n",
    "x.attach_grad()\n",
    "with mx.autograd.record():\n",
    "    u = x * x\n",
    "u.backward()\n",
    "x.grad"
   ]
  },
  {
   "cell_type": "markdown",
   "metadata": {
    "colab_type": "text",
    "id": "yBHs0VnbTUBq"
   },
   "source": [
    "Agora vamos fazer $z = u^3$ e computar as derivadas intermediarias."
   ]
  },
  {
   "cell_type": "code",
   "execution_count": 36,
   "metadata": {
    "colab": {
     "base_uri": "https://localhost:8080/",
     "height": 68
    },
    "colab_type": "code",
    "executionInfo": {
     "elapsed": 811,
     "status": "ok",
     "timestamp": 1567603218339,
     "user": {
      "displayName": "Guilherme Cramer",
      "photoUrl": "",
      "userId": "08509545871907917206"
     },
     "user_tz": 180
    },
    "id": "BbozUpqMTUBq",
    "outputId": "6ad531ee-bf85-4255-c94e-0dd770200454"
   },
   "outputs": [
    {
     "data": {
      "text/plain": [
       "\n",
       "[0. 2. 4. 6.]\n",
       "<NDArray 4 @cpu(0)>"
      ]
     },
     "execution_count": 36,
     "metadata": {
      "tags": []
     },
     "output_type": "execute_result"
    }
   ],
   "source": [
    "x = nd.arange(4)\n",
    "x.attach_grad()\n",
    "with mx.autograd.record():\n",
    "    u = x * x\n",
    "    v = u.detach()  # u still keeps the computation graph\n",
    "    v.attach_grad()\n",
    "    z = v * v * v\n",
    "u.backward()\n",
    "x.grad"
   ]
  },
  {
   "cell_type": "markdown",
   "metadata": {
    "colab_type": "text",
    "id": "E7GUGg2FTUBt"
   },
   "source": [
    "Acima temos a derivada de x ao quadrado. Abaixo temos a derivada de g(x^2)."
   ]
  },
  {
   "cell_type": "code",
   "execution_count": 37,
   "metadata": {
    "colab": {
     "base_uri": "https://localhost:8080/",
     "height": 68
    },
    "colab_type": "code",
    "executionInfo": {
     "elapsed": 674,
     "status": "ok",
     "timestamp": 1567603222119,
     "user": {
      "displayName": "Guilherme Cramer",
      "photoUrl": "",
      "userId": "08509545871907917206"
     },
     "user_tz": 180
    },
    "id": "xHoTXMC4TUBt",
    "outputId": "72244a41-491c-4fbc-b258-3bce978b6bbd"
   },
   "outputs": [
    {
     "data": {
      "text/plain": [
       "\n",
       "[  0.   3.  48. 243.]\n",
       "<NDArray 4 @cpu(0)>"
      ]
     },
     "execution_count": 37,
     "metadata": {
      "tags": []
     },
     "output_type": "execute_result"
    }
   ],
   "source": [
    "z.backward()\n",
    "v.grad"
   ]
  },
  {
   "cell_type": "markdown",
   "metadata": {
    "colab_type": "text",
    "id": "xdc0W71cTUBw"
   },
   "source": [
    "7. Agora, sendo $f(x) = 1 + x^2$ e $g(x) = 1 + 7 x^9$. Vamos aplicar a regra da cadeia em mxnet."
   ]
  },
  {
   "cell_type": "code",
   "execution_count": 38,
   "metadata": {
    "colab": {
     "base_uri": "https://localhost:8080/",
     "height": 68
    },
    "colab_type": "code",
    "executionInfo": {
     "elapsed": 693,
     "status": "ok",
     "timestamp": 1567603560766,
     "user": {
      "displayName": "Guilherme Cramer",
      "photoUrl": "",
      "userId": "08509545871907917206"
     },
     "user_tz": 180
    },
    "id": "8gK9GrxsTUBw",
    "outputId": "8595f304-863f-4f64-f0fb-d773bd401b12"
   },
   "outputs": [
    {
     "data": {
      "text/plain": [
       "\n",
       "[0. 2. 4. 6.]\n",
       "<NDArray 4 @cpu(0)>"
      ]
     },
     "execution_count": 38,
     "metadata": {
      "tags": []
     },
     "output_type": "execute_result"
    }
   ],
   "source": [
    "# Complete\n",
    "x = nd.arange(4)\n",
    "x.attach_grad()\n",
    "with mx.autograd.record():\n",
    "    f = 1+ x*x\n",
    "    v = f.detach()  # u still keeps the computation graph\n",
    "    v.attach_grad()\n",
    "    z = 1 + x**9\n",
    "f.backward()\n",
    "x.grad"
   ]
  },
  {
   "cell_type": "code",
   "execution_count": 0,
   "metadata": {
    "colab": {},
    "colab_type": "code",
    "id": "ABGyJ6J0TUBz"
   },
   "outputs": [],
   "source": [
    "# teste para x\n",
    "assert_array_almost_equal([0, 2, 4, 6], x.grad.asnumpy())"
   ]
  },
  {
   "cell_type": "code",
   "execution_count": 0,
   "metadata": {
    "colab": {},
    "colab_type": "code",
    "id": "xElf-uCJTUB2"
   },
   "outputs": [],
   "source": [
    "z.backward()"
   ]
  },
  {
   "cell_type": "code",
   "execution_count": 42,
   "metadata": {
    "colab": {
     "base_uri": "https://localhost:8080/",
     "height": 377
    },
    "colab_type": "code",
    "executionInfo": {
     "elapsed": 669,
     "status": "error",
     "timestamp": 1567603589434,
     "user": {
      "displayName": "Guilherme Cramer",
      "photoUrl": "",
      "userId": "08509545871907917206"
     },
     "user_tz": 180
    },
    "id": "zFiv6iZ0TUB7",
    "outputId": "8b9c3e33-1e41-4ecc-b8eb-ea4bf89ff424"
   },
   "outputs": [
    {
     "ename": "AssertionError",
     "evalue": "ignored",
     "output_type": "error",
     "traceback": [
      "\u001b[0;31m---------------------------------------------------------------------------\u001b[0m",
      "\u001b[0;31mAssertionError\u001b[0m                            Traceback (most recent call last)",
      "\u001b[0;32m<ipython-input-42-15849c7cc00c>\u001b[0m in \u001b[0;36m<module>\u001b[0;34m()\u001b[0m\n\u001b[1;32m      1\u001b[0m \u001b[0mexpected\u001b[0m \u001b[0;34m=\u001b[0m \u001b[0mnp\u001b[0m\u001b[0;34m.\u001b[0m\u001b[0marray\u001b[0m\u001b[0;34m(\u001b[0m\u001b[0;34m[\u001b[0m\u001b[0;36m6.3000000e+01\u001b[0m\u001b[0;34m,\u001b[0m \u001b[0;36m1.6128000e+04\u001b[0m\u001b[0;34m,\u001b[0m \u001b[0;36m2.4609376e+07\u001b[0m\u001b[0;34m,\u001b[0m \u001b[0;36m6.300000256000e+09\u001b[0m\u001b[0;34m]\u001b[0m\u001b[0;34m)\u001b[0m\u001b[0;34m\u001b[0m\u001b[0;34m\u001b[0m\u001b[0m\n\u001b[0;32m----> 2\u001b[0;31m \u001b[0massert_array_almost_equal\u001b[0m\u001b[0;34m(\u001b[0m\u001b[0mexpected\u001b[0m\u001b[0;34m,\u001b[0m \u001b[0mv\u001b[0m\u001b[0;34m.\u001b[0m\u001b[0mgrad\u001b[0m\u001b[0;34m.\u001b[0m\u001b[0masnumpy\u001b[0m\u001b[0;34m(\u001b[0m\u001b[0;34m)\u001b[0m\u001b[0;34m,\u001b[0m \u001b[0;36m5\u001b[0m\u001b[0;34m)\u001b[0m\u001b[0;34m\u001b[0m\u001b[0;34m\u001b[0m\u001b[0m\n\u001b[0m",
      "\u001b[0;32m/usr/local/lib/python3.6/dist-packages/numpy/testing/_private/utils.py\u001b[0m in \u001b[0;36massert_array_almost_equal\u001b[0;34m(x, y, decimal, err_msg, verbose)\u001b[0m\n",
      "\u001b[0;32m/usr/local/lib/python3.6/dist-packages/numpy/testing/_private/utils.py\u001b[0m in \u001b[0;36massert_array_compare\u001b[0;34m(comparison, x, y, err_msg, verbose, header, precision, equal_nan, equal_inf)\u001b[0m\n",
      "\u001b[0;31mAssertionError\u001b[0m: \nArrays are not almost equal to 5 decimals\n\nMismatch: 100%\nMax absolute difference: 6.30000026e+09\nMax relative difference: inf\n x: array([6.30000e+01, 1.61280e+04, 2.46094e+07, 6.30000e+09])\n y: array([0., 0., 0., 0.], dtype=float32)"
     ]
    }
   ],
   "source": [
    "# teste para gx\n",
    "expected = np.array([6.3000000e+01, 1.6128000e+04, 2.4609376e+07, 6.300000256000e+09])\n",
    "assert_array_almost_equal(expected, v.grad.asnumpy(), 5)"
   ]
  },
  {
   "cell_type": "markdown",
   "metadata": {
    "colab_type": "text",
    "id": "hb3qnxv-TUB_"
   },
   "source": [
    "## Conjunto de Problemas 4: Perceptron from Scratch\n",
    "\n",
    "Por fim, vamos implementar o algoritmo de Perceptron usando mxnet. Inicialmente, vamos gerar dois blobs linearmente separáveis. Com um seed bem setado, claramente teremos duas classes abaixo."
   ]
  },
  {
   "cell_type": "code",
   "execution_count": 43,
   "metadata": {
    "colab": {
     "base_uri": "https://localhost:8080/",
     "height": 512
    },
    "colab_type": "code",
    "executionInfo": {
     "elapsed": 1473,
     "status": "ok",
     "timestamp": 1567603624189,
     "user": {
      "displayName": "Guilherme Cramer",
      "photoUrl": "",
      "userId": "08509545871907917206"
     },
     "user_tz": 180
    },
    "id": "Vcag9JABTUCB",
    "outputId": "ec4fd280-3f8b-4283-a44c-f7f416df8d1b"
   },
   "outputs": [
    {
     "data": {
      "text/plain": [
       "<matplotlib.collections.PathCollection at 0x7efc3ad24748>"
      ]
     },
     "execution_count": 43,
     "metadata": {
      "tags": []
     },
     "output_type": "execute_result"
    },
    {
     "data": {
      "image/png": "[encoded data removed]",
      "text/plain": [
       "<Figure size 864x576 with 1 Axes>"
      ]
     },
     "metadata": {
      "tags": []
     },
     "output_type": "display_data"
    }
   ],
   "source": [
    "from sklearn import datasets\n",
    "state = np.random.seed(20190187)\n",
    "\n",
    "X, y = datasets.make_blobs(n_samples=200, n_features=2, centers=2)\n",
    "plt.scatter(X[:, 0], X[:, 1], s=80, edgecolors='k')"
   ]
  },
  {
   "cell_type": "markdown",
   "metadata": {
    "colab_type": "text",
    "id": "i8V9WGrTTUCE"
   },
   "source": [
    "8. Converta X e y para array mxnet"
   ]
  },
  {
   "cell_type": "code",
   "execution_count": 0,
   "metadata": {
    "colab": {},
    "colab_type": "code",
    "id": "YzDKdlPDTUCG"
   },
   "outputs": [],
   "source": [
    "X = nd.array(X)\n",
    "y = nd.array(y)"
   ]
  },
  {
   "cell_type": "markdown",
   "metadata": {
    "colab_type": "text",
    "id": "B6r90DC_TUCL"
   },
   "source": [
    "Para realizar as nossas previsões, precisamos aplicar a seguinte função:\n",
    "\n",
    "$$\\hat{y}_i = \\frac{1}{1 + e^{-(1 + \\theta_1 x_{i1} + \\theta_1 x_{i2}) + \\cdots}}$$\n",
    "\n",
    "Aqui $\\hat{y}_i$ é a previsão de um único elemento. Podemos gerar uma matriz de previsões usando a forma matricial abaixo.\n",
    "\n",
    "![](./figs/linear.png)\n",
    "\n",
    "9. Sabendo que precisamos de uma coluna de valores 1 na nossa entrada $\\mathbf{X}$, implemente uma função chamada `add_intercept` que adicionar uma nova coluna em X. A mesma deve retornar uma cópia! Não altere a matriz original."
   ]
  },
  {
   "cell_type": "code",
   "execution_count": 0,
   "metadata": {
    "colab": {},
    "colab_type": "code",
    "id": "xZot-w54TUCM"
   },
   "outputs": [],
   "source": [
    "def add_intercept(X):\n",
    "    # implemente\n",
    "    pass"
   ]
  },
  {
   "cell_type": "code",
   "execution_count": 0,
   "metadata": {
    "colab": {},
    "colab_type": "code",
    "id": "3PUzWg1WTUCR"
   },
   "outputs": [],
   "source": [
    "# testes, não apague!\n",
    "X_teste = nd.zeros(shape=(4, 4))\n",
    "X_novo_teste = add_intercept(X_teste)\n",
    "X_novo_teste = X_novo_teste.asnumpy()\n",
    "assert_equal(X_teste.shape[0], X_novo_teste.shape[0])\n",
    "assert_equal(X_teste.shape[1] + 1, X_novo_teste.shape[1])\n",
    "assert_array_almost_equal(np.ones(X_novo_teste.shape[0]), X_novo_teste[:, 0])"
   ]
  },
  {
   "cell_type": "markdown",
   "metadata": {
    "colab_type": "text",
    "id": "RgSRtV4oTUCU"
   },
   "source": [
    "10. Implemente uma função activation que faz uso da sigmoid. A mesma deve retornar um vetor de previsões para um X de entrada. Como regra, assuma que quando a ativação tem valor maior do que 0.5 vamos prever a classe 1. Então, sua resposta deve ser um vetoe de 0s e 1s apenas. Não use nenhum laço!!"
   ]
  },
  {
   "cell_type": "code",
   "execution_count": 0,
   "metadata": {
    "colab": {},
    "colab_type": "code",
    "id": "iuyvgCQmTUCV"
   },
   "outputs": [],
   "source": [
    "def activation(X, theta, limiar=0.5):\n",
    "    # implemente\n",
    "    pass"
   ]
  },
  {
   "cell_type": "code",
   "execution_count": 0,
   "metadata": {
    "colab": {},
    "colab_type": "code",
    "id": "X7Vv0WraTUCZ"
   },
   "outputs": [],
   "source": [
    "# testes, não apague!\n",
    "X_teste = nd.random.normal(shape=(1000, 20000))\n",
    "theta = nd.random.normal(shape=(20000))\n",
    "y_hat_teste = activation(X_teste, theta)\n",
    "assert_equal(True, (y_hat_teste >= 0).asnumpy().all())\n",
    "assert_equal(True, (y_hat_teste <= 1).asnumpy().all())"
   ]
  },
  {
   "cell_type": "markdown",
   "metadata": {
    "colab_type": "text",
    "id": "Vm1-ADqjTUCh"
   },
   "source": [
    "11. Por fim, implemente agora o algoritmo do perceptron. O mesmo deve retornar um vetor de parâmetros theta. Execute o mesmo em X (com ou sem intercepto, no nosso exemplo simples não importa muito)."
   ]
  },
  {
   "cell_type": "code",
   "execution_count": 0,
   "metadata": {
    "colab": {},
    "colab_type": "code",
    "id": "QdAs8ZfSTUCi"
   },
   "outputs": [],
   "source": [
    "state = np.random.seed(20190187)\n",
    "X, y = datasets.make_blobs(n_samples=200, n_features=2, centers=2)\n",
    "plt.scatter(X[:, 0], X[:, 1], s=80, edgecolors='k')\n",
    "\n",
    "X = nd.array(X)\n",
    "y = nd.array(y)"
   ]
  },
  {
   "cell_type": "code",
   "execution_count": 0,
   "metadata": {
    "colab": {},
    "colab_type": "code",
    "id": "YFFqioFkTUCj"
   },
   "outputs": [],
   "source": [
    "def perceptron(X, y, rate=0.001):\n",
    "    Xn = add_intercept(X)\n",
    "    # implemente\n",
    "theta = perceptron(X, y)"
   ]
  },
  {
   "cell_type": "markdown",
   "metadata": {
    "colab_type": "text",
    "id": "b-2C3E1BTUCo"
   },
   "source": [
    "Seu perceptron deve prever perfeitamente as classes!"
   ]
  },
  {
   "cell_type": "code",
   "execution_count": 0,
   "metadata": {
    "colab": {},
    "colab_type": "code",
    "id": "BVzL7nfeTUCo"
   },
   "outputs": [],
   "source": [
    "Xn = add_intercept(X)\n",
    "y_p = activation(Xn, theta) > 0.5\n",
    "print(y == y_p) # deve ser tudo 1!"
   ]
  },
  {
   "cell_type": "code",
   "execution_count": 0,
   "metadata": {
    "colab": {},
    "colab_type": "code",
    "id": "zoHP_EZTTUCr"
   },
   "outputs": [],
   "source": []
  }
 ],
 "metadata": {
  "colab": {
   "name": "01-Matrizes e Tensores.ipynb",
   "provenance": [],
   "version": "0.3.2"
  },
  "kernelspec": {
   "display_name": "Python 3",
   "language": "python",
   "name": "python3"
  },
  "language_info": {
   "codemirror_mode": {
    "name": "ipython",
    "version": 3
   },
   "file_extension": ".py",
   "mimetype": "text/x-python",
   "name": "python",
   "nbconvert_exporter": "python",
   "pygments_lexer": "ipython3",
   "version": "3.7.7"
  }
 },
 "nbformat": 4,
 "nbformat_minor": 1
}
