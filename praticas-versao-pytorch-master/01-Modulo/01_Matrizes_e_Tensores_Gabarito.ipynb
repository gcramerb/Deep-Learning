{
 "cells": [
  {
   "cell_type": "markdown",
   "metadata": {
    "colab_type": "text",
    "id": "xHaE-uVgSrxm"
   },
   "source": [
    "# Aprendizado Profundo - UFMG\n",
    "\n",
    "## Preâmbulo\n",
    "\n",
    "O código abaixo consiste dos imports comuns. Além do mais, configuramos as imagens para ficar de um tamanho aceitável e criamos algumas funções auxiliares. No geral, você pode ignorar a próxima célula.\n",
    "\n",
    "O curso nosso vai fazer uso extensivo de [pytorch](https://pytorch.org/). Importamos o mesmo com as seguintes linhas:\n",
    "\n",
    "```python\n",
    "import torch\n",
    "```\n",
    "\n",
    "O framework já esta disponível no ambient do google colab, basta importa-lo"
   ]
  },
  {
   "cell_type": "code",
   "execution_count": 1,
   "metadata": {
    "colab": {},
    "colab_type": "code",
    "id": "XTxUc2DKSfRx"
   },
   "outputs": [],
   "source": [
    "# !pip install mxnet-cu100==1.4.1"
   ]
  },
  {
   "cell_type": "code",
   "execution_count": 2,
   "metadata": {
    "colab": {},
    "colab_type": "code",
    "id": "wTOJuG09TGVp"
   },
   "outputs": [],
   "source": [
    "# -*- coding: utf8\n",
    "\n",
    "import matplotlib.pyplot as plt\n",
    "\n",
    "import torch\n",
    "import numpy as np\n",
    "import pandas as pd\n",
    "\n",
    "plt.rcParams['figure.figsize']  = (18, 10)\n",
    "plt.rcParams['axes.labelsize']  = 20\n",
    "plt.rcParams['axes.titlesize']  = 20\n",
    "plt.rcParams['legend.fontsize'] = 20\n",
    "plt.rcParams['xtick.labelsize'] = 20\n",
    "plt.rcParams['ytick.labelsize'] = 20\n",
    "plt.rcParams['lines.linewidth'] = 4"
   ]
  },
  {
   "cell_type": "code",
   "execution_count": 3,
   "metadata": {
    "colab": {},
    "colab_type": "code",
    "id": "qP0loWq0SfR5"
   },
   "outputs": [],
   "source": [
    "plt.ion()\n",
    "\n",
    "plt.style.use('seaborn-colorblind')\n",
    "plt.rcParams['figure.figsize']  = (12, 8)"
   ]
  },
  {
   "cell_type": "markdown",
   "metadata": {
    "colab_type": "text",
    "id": "foAaedw6SfR8"
   },
   "source": [
    "Para testar o resultado dos seus algoritmos vamos usar o módulo testing do numpy."
   ]
  },
  {
   "cell_type": "code",
   "execution_count": 4,
   "metadata": {
    "colab": {},
    "colab_type": "code",
    "id": "mt8ds6cASfR9"
   },
   "outputs": [],
   "source": [
    "from numpy.testing import assert_equal\n",
    "from numpy.testing import assert_almost_equal\n",
    "from numpy.testing import assert_array_almost_equal"
   ]
  },
  {
   "cell_type": "markdown",
   "metadata": {
    "colab_type": "text",
    "id": "Pe6eo5SeSfSA"
   },
   "source": [
    "## Aula 01 - Programação Diferenciável e Tensores\n",
    "\n",
    "Quando pensamos no lado prático do aprendizado profundo, um aspecto chave que ajuda na implementação de novos algoritmos é a chamada programação diferenciável. Na próxima aula vamos voltar na mesma. No momento, o importante é salientar que a programação diferenciável faz uso extensivo de Tensores. Um [Tensor](http://en.wikipedia.org/wiki/Tensor) é uma generalização de matrizes para mais dimensões. Quando falamos de tensores, temos três casos especiais e um genérico que engloba os outros três:\n",
    "\n",
    "1. **Escalar:** Um tensor de zero dimensões"
   ]
  },
  {
   "cell_type": "code",
   "execution_count": 5,
   "metadata": {
    "colab": {
     "base_uri": "https://localhost:8080/",
     "height": 34
    },
    "colab_type": "code",
    "id": "0ou2kPtZSfSD",
    "outputId": "ab5bd531-53f7-43b1-99e7-fd5358bfbe0c"
   },
   "outputs": [
    {
     "data": {
      "text/plain": [
       "1"
      ]
     },
     "execution_count": 5,
     "metadata": {},
     "output_type": "execute_result"
    }
   ],
   "source": [
    "1"
   ]
  },
  {
   "cell_type": "markdown",
   "metadata": {
    "colab_type": "text",
    "id": "cNNO0A2gSfSI"
   },
   "source": [
    "1. **Vetor:** Um tensor de uma dimensão"
   ]
  },
  {
   "cell_type": "code",
   "execution_count": 6,
   "metadata": {
    "colab": {
     "base_uri": "https://localhost:8080/",
     "height": 34
    },
    "colab_type": "code",
    "id": "SxqvoJa8SfSJ",
    "outputId": "587cf947-0028-481d-dabd-7b3bdbdd6f30"
   },
   "outputs": [
    {
     "data": {
      "text/plain": [
       "array([1, 2])"
      ]
     },
     "execution_count": 6,
     "metadata": {},
     "output_type": "execute_result"
    }
   ],
   "source": [
    "np.array([1, 2])"
   ]
  },
  {
   "cell_type": "markdown",
   "metadata": {
    "colab_type": "text",
    "id": "sqai5ge5SfSN"
   },
   "source": [
    "1. **Matrizes:** Um tensor de duas dimensões"
   ]
  },
  {
   "cell_type": "code",
   "execution_count": 7,
   "metadata": {
    "colab": {
     "base_uri": "https://localhost:8080/",
     "height": 52
    },
    "colab_type": "code",
    "id": "UlkMuxE7SfSO",
    "outputId": "684690b3-674f-4384-e0e8-6ed03c24bbe1"
   },
   "outputs": [
    {
     "data": {
      "text/plain": [
       "array([[1, 2],\n",
       "       [2, 2]])"
      ]
     },
     "execution_count": 7,
     "metadata": {},
     "output_type": "execute_result"
    }
   ],
   "source": [
    "np.array([[1, 2], [2, 2]])"
   ]
  },
  {
   "cell_type": "markdown",
   "metadata": {
    "colab_type": "text",
    "id": "i2wuNWo1SfSR"
   },
   "source": [
    "1. **Tensores**. Caso geral, representam n-dimensões. Na figura temos um tensor 3x3x3.\n",
    "\n",
    "![](./figs/tensor.png)\n",
    "\n",
    "No exemplo abaixo, temos um tensor 3x2x2. Note ao selecionar elementos da primeira dimensão ficamos com matrizes 2x2. "
   ]
  },
  {
   "cell_type": "code",
   "execution_count": 8,
   "metadata": {
    "colab": {
     "base_uri": "https://localhost:8080/",
     "height": 52
    },
    "colab_type": "code",
    "id": "OEQDy1pcSfSS",
    "outputId": "59e1ca5d-037e-42c2-ab05-4bfae8a84715"
   },
   "outputs": [
    {
     "data": {
      "text/plain": [
       "array([[-1.03404127, -0.46418714],\n",
       "       [-2.01774558,  1.22800693]])"
      ]
     },
     "execution_count": 8,
     "metadata": {},
     "output_type": "execute_result"
    }
   ],
   "source": [
    "X = np.random.randn(3, 2, 2) # Gera números aleatórios de uma normal\n",
    "X[0]"
   ]
  },
  {
   "cell_type": "code",
   "execution_count": 9,
   "metadata": {
    "colab": {
     "base_uri": "https://localhost:8080/",
     "height": 52
    },
    "colab_type": "code",
    "id": "oI64Z9MhSfSV",
    "outputId": "f2ef67c0-acd6-43cd-d7ee-f502c899750d"
   },
   "outputs": [
    {
     "data": {
      "text/plain": [
       "array([[-0.07840046, -0.07970946],\n",
       "       [-0.35790506, -0.53331957]])"
      ]
     },
     "execution_count": 9,
     "metadata": {},
     "output_type": "execute_result"
    }
   ],
   "source": [
    "X[1]"
   ]
  },
  {
   "cell_type": "code",
   "execution_count": 10,
   "metadata": {
    "colab": {
     "base_uri": "https://localhost:8080/",
     "height": 52
    },
    "colab_type": "code",
    "id": "OvdOmvonSfSY",
    "outputId": "c0010601-1a90-4cda-d378-8fdeb3807f98"
   },
   "outputs": [
    {
     "data": {
      "text/plain": [
       "array([[-0.05142455, -0.01025579],\n",
       "       [ 0.70477983,  1.59813775]])"
      ]
     },
     "execution_count": 10,
     "metadata": {},
     "output_type": "execute_result"
    }
   ],
   "source": [
    "X[2]"
   ]
  },
  {
   "cell_type": "markdown",
   "metadata": {
    "colab_type": "text",
    "id": "cNOCSb7QSfSc"
   },
   "source": [
    "## Indexando\n",
    "\n",
    "Sendo X uma matriz:"
   ]
  },
  {
   "cell_type": "code",
   "execution_count": 11,
   "metadata": {
    "colab": {
     "base_uri": "https://localhost:8080/",
     "height": 52
    },
    "colab_type": "code",
    "id": "gzSbUCmRSfSd",
    "outputId": "b867a707-e39e-4f60-e2da-d1708e897236"
   },
   "outputs": [
    {
     "data": {
      "text/plain": [
       "array([[1, 2],\n",
       "       [2, 2]])"
      ]
     },
     "execution_count": 11,
     "metadata": {},
     "output_type": "execute_result"
    }
   ],
   "source": [
    "X = np.array([[1, 2], [2, 2]])\n",
    "X"
   ]
  },
  {
   "cell_type": "markdown",
   "metadata": {
    "colab_type": "text",
    "id": "1PX74LKWSfSh"
   },
   "source": [
    "`X[l]` pega uma linha"
   ]
  },
  {
   "cell_type": "code",
   "execution_count": 12,
   "metadata": {
    "colab": {
     "base_uri": "https://localhost:8080/",
     "height": 34
    },
    "colab_type": "code",
    "id": "nnoi9fwcSfSi",
    "outputId": "193d20bd-1060-4d4d-fe23-4ebe6b98e4af"
   },
   "outputs": [
    {
     "data": {
      "text/plain": [
       "array([1, 2])"
      ]
     },
     "execution_count": 12,
     "metadata": {},
     "output_type": "execute_result"
    }
   ],
   "source": [
    "X[0]"
   ]
  },
  {
   "cell_type": "markdown",
   "metadata": {
    "colab_type": "text",
    "id": "Wd7sv5cvSfSl"
   },
   "source": [
    "`X[:, c]` pega uma coluna"
   ]
  },
  {
   "cell_type": "code",
   "execution_count": 13,
   "metadata": {
    "colab": {
     "base_uri": "https://localhost:8080/",
     "height": 34
    },
    "colab_type": "code",
    "id": "11d_EO1zSfSm",
    "outputId": "5664fdd6-a239-43b6-9320-697a33395e6a"
   },
   "outputs": [
    {
     "data": {
      "text/plain": [
       "array([1, 2])"
      ]
     },
     "execution_count": 13,
     "metadata": {},
     "output_type": "execute_result"
    }
   ],
   "source": [
    "X[:, 0]"
   ]
  },
  {
   "cell_type": "markdown",
   "metadata": {
    "colab_type": "text",
    "id": "N-0N9yMPSfSp"
   },
   "source": [
    "`X[um_vetor]` pega as linhas do vetor. `X[:, um_vetor]` pega as colunas"
   ]
  },
  {
   "cell_type": "code",
   "execution_count": 14,
   "metadata": {
    "colab": {
     "base_uri": "https://localhost:8080/",
     "height": 52
    },
    "colab_type": "code",
    "id": "Z5aDZ0k6SfSq",
    "outputId": "13586a21-ab11-4dd1-af97-376ae94dafa9"
   },
   "outputs": [
    {
     "data": {
      "text/plain": [
       "array([[2, 3],\n",
       "       [2, 2]])"
      ]
     },
     "execution_count": 14,
     "metadata": {},
     "output_type": "execute_result"
    }
   ],
   "source": [
    "X = np.array([[1, 2, 3], [2, 2, 2]])\n",
    "X[:, [1, 2]]"
   ]
  },
  {
   "cell_type": "markdown",
   "metadata": {
    "colab_type": "text",
    "id": "caML1LzPSfSs"
   },
   "source": [
    "`X[vetor_booleano]` Retorna as linhas (ou colunas quando `X[:, vetor_booleano]`) onde o vetor é true"
   ]
  },
  {
   "cell_type": "code",
   "execution_count": 15,
   "metadata": {
    "colab": {
     "base_uri": "https://localhost:8080/",
     "height": 34
    },
    "colab_type": "code",
    "id": "nlbG2Q1MSfSt",
    "outputId": "75a91c7f-3aee-4599-c0f4-fd18f791d83e"
   },
   "outputs": [
    {
     "data": {
      "text/plain": [
       "array([[2, 2, 2]])"
      ]
     },
     "execution_count": 15,
     "metadata": {},
     "output_type": "execute_result"
    }
   ],
   "source": [
    "X[[False, True]]"
   ]
  },
  {
   "cell_type": "markdown",
   "metadata": {
    "colab_type": "text",
    "id": "pFBn7d1TSfSv"
   },
   "source": [
    "## Shape, Reshape e Ravel\n",
    "\n",
    "Todo vetor, matriz e tensor pode ser redimensionado. Observe como no tensor abaixo temos `3x2x2=12` elementos. Podemos redimensionar os mesmos para outros arrays de tamanho 12."
   ]
  },
  {
   "cell_type": "code",
   "execution_count": 16,
   "metadata": {
    "colab": {
     "base_uri": "https://localhost:8080/",
     "height": 34
    },
    "colab_type": "code",
    "id": "7NYNnKnBSfSw",
    "outputId": "d54a6110-25c8-4f76-e40c-12a9267bd4b2"
   },
   "outputs": [
    {
     "data": {
      "text/plain": [
       "(3, 2, 2)"
      ]
     },
     "execution_count": 16,
     "metadata": {},
     "output_type": "execute_result"
    }
   ],
   "source": [
    "X = np.random.randn(3, 2, 2)\n",
    "X.shape"
   ]
  },
  {
   "cell_type": "markdown",
   "metadata": {
    "colab_type": "text",
    "id": "lq0s8nhGSfS0"
   },
   "source": [
    "Como matriz"
   ]
  },
  {
   "cell_type": "code",
   "execution_count": 17,
   "metadata": {
    "colab": {
     "base_uri": "https://localhost:8080/",
     "height": 87
    },
    "colab_type": "code",
    "id": "a5dFiIQ1SfS1",
    "outputId": "0727e444-ca3f-4563-d283-8485333cbc69"
   },
   "outputs": [
    {
     "data": {
      "text/plain": [
       "array([[-1.85831785, -0.19259984,  1.00021577,  0.50640324,  1.11933129,\n",
       "         1.14156746],\n",
       "       [ 1.37183467, -1.34037063, -0.90557315, -1.1407857 ,  0.17266539,\n",
       "         0.06437429]])"
      ]
     },
     "execution_count": 17,
     "metadata": {},
     "output_type": "execute_result"
    }
   ],
   "source": [
    "X.reshape((2, 6))"
   ]
  },
  {
   "cell_type": "markdown",
   "metadata": {
    "colab_type": "text",
    "id": "1E5XUoATSfS7"
   },
   "source": [
    "Outra Matriz"
   ]
  },
  {
   "cell_type": "code",
   "execution_count": 18,
   "metadata": {
    "colab": {
     "base_uri": "https://localhost:8080/",
     "height": 123
    },
    "colab_type": "code",
    "id": "0n2SlifQSfS9",
    "outputId": "8b8b16b6-5133-455e-9ddf-ae9b0b44fc67"
   },
   "outputs": [
    {
     "data": {
      "text/plain": [
       "array([[-1.85831785, -0.19259984],\n",
       "       [ 1.00021577,  0.50640324],\n",
       "       [ 1.11933129,  1.14156746],\n",
       "       [ 1.37183467, -1.34037063],\n",
       "       [-0.90557315, -1.1407857 ],\n",
       "       [ 0.17266539,  0.06437429]])"
      ]
     },
     "execution_count": 18,
     "metadata": {},
     "output_type": "execute_result"
    }
   ],
   "source": [
    "X.reshape((6, 2))"
   ]
  },
  {
   "cell_type": "markdown",
   "metadata": {
    "colab_type": "text",
    "id": "AUavZqmxSfTA"
   },
   "source": [
    "Um Tensor"
   ]
  },
  {
   "cell_type": "code",
   "execution_count": 19,
   "metadata": {
    "colab": {
     "base_uri": "https://localhost:8080/",
     "height": 318
    },
    "colab_type": "code",
    "id": "NAKeymSjSfTA",
    "outputId": "918b4024-9d6c-4379-9231-3e2df92811de"
   },
   "outputs": [
    {
     "data": {
      "text/plain": [
       "array([[[-1.85831785],\n",
       "        [-0.19259984]],\n",
       "\n",
       "       [[ 1.00021577],\n",
       "        [ 0.50640324]],\n",
       "\n",
       "       [[ 1.11933129],\n",
       "        [ 1.14156746]],\n",
       "\n",
       "       [[ 1.37183467],\n",
       "        [-1.34037063]],\n",
       "\n",
       "       [[-0.90557315],\n",
       "        [-1.1407857 ]],\n",
       "\n",
       "       [[ 0.17266539],\n",
       "        [ 0.06437429]]])"
      ]
     },
     "execution_count": 19,
     "metadata": {},
     "output_type": "execute_result"
    }
   ],
   "source": [
    "X.reshape((6, 2, 1))"
   ]
  },
  {
   "cell_type": "markdown",
   "metadata": {
    "colab_type": "text",
    "id": "XJ9KaoruSfTE"
   },
   "source": [
    "As operações flatten e ravel organizam os elementos como um vetor."
   ]
  },
  {
   "cell_type": "code",
   "execution_count": 20,
   "metadata": {
    "colab": {
     "base_uri": "https://localhost:8080/",
     "height": 70
    },
    "colab_type": "code",
    "id": "qE4Uv9QySfTF",
    "outputId": "2ceafe0e-0374-4fc8-e14f-b77d7750e90c"
   },
   "outputs": [
    {
     "data": {
      "text/plain": [
       "array([-1.85831785, -0.19259984,  1.00021577,  0.50640324,  1.11933129,\n",
       "        1.14156746,  1.37183467, -1.34037063, -0.90557315, -1.1407857 ,\n",
       "        0.17266539,  0.06437429])"
      ]
     },
     "execution_count": 20,
     "metadata": {},
     "output_type": "execute_result"
    }
   ],
   "source": [
    "X.flatten()"
   ]
  },
  {
   "cell_type": "code",
   "execution_count": 21,
   "metadata": {
    "colab": {
     "base_uri": "https://localhost:8080/",
     "height": 70
    },
    "colab_type": "code",
    "id": "gfeVj8gjSfTI",
    "outputId": "d4db70be-497b-4cae-e5d9-c67b5a3553de"
   },
   "outputs": [
    {
     "data": {
      "text/plain": [
       "array([-1.85831785, -0.19259984,  1.00021577,  0.50640324,  1.11933129,\n",
       "        1.14156746,  1.37183467, -1.34037063, -0.90557315, -1.1407857 ,\n",
       "        0.17266539,  0.06437429])"
      ]
     },
     "execution_count": 21,
     "metadata": {},
     "output_type": "execute_result"
    }
   ],
   "source": [
    "X.ravel()"
   ]
  },
  {
   "cell_type": "markdown",
   "metadata": {
    "colab_type": "text",
    "id": "Ps26p2tpSfTa"
   },
   "source": [
    "## Conjunto de Problemas 1: Vetorização"
   ]
  },
  {
   "cell_type": "markdown",
   "metadata": {
    "colab_type": "text",
    "id": "OUGy6KsiXsl7"
   },
   "source": [
    "Seu objetivo é medir a velocidade das operações de álgebra linear para diferentes níveis de vetorização. \n",
    "\n",
    "1. Construa duas matrizes $ A $ e $ B $ com entradas aleatórias Gaussianas de tamanho $ 128 \\times 256 $. Use o módulo time para mensurar o tempo da operação."
   ]
  },
  {
   "cell_type": "code",
   "execution_count": 22,
   "metadata": {
    "colab": {},
    "colab_type": "code",
    "id": "Ert-HeCyX01c"
   },
   "outputs": [],
   "source": [
    "# Descomente e complete\n",
    "A = torch.randn(128, 256)\n",
    "B = torch.randn(128, 256)"
   ]
  },
  {
   "cell_type": "code",
   "execution_count": 23,
   "metadata": {
    "colab": {},
    "colab_type": "code",
    "id": "8bCFVSHpYKMV"
   },
   "outputs": [],
   "source": [
    "# testes, não apague as linhas!!\n",
    "assert_equal((128, 256), A.shape)\n",
    "assert_equal((128, 256), B.shape)\n",
    "\n",
    "# A chamada asnumpy converte os vetores em vetores numpy. Útil para testes!\n",
    "Anp = A.numpy()\n",
    "Bnp = B.numpy()\n",
    "\n",
    "# testando média e desvio padrão\n",
    "assert_almost_equal(Anp.mean(), 0, decimal=2)\n",
    "assert_almost_equal(Anp.std(ddof=1), 1, decimal=2)\n",
    "\n",
    "assert_almost_equal(Bnp.mean(), 0, decimal=2)\n",
    "assert_almost_equal(Bnp.std(ddof=1), 1, decimal=2)"
   ]
  },
  {
   "cell_type": "markdown",
   "metadata": {
    "colab_type": "text",
    "id": "VQ9Ogu6QZJ4X"
   },
   "source": [
    "2. Calcule $ C = AB^t $, tratando $ A $ como uma matriz, mas computando o resultado para cada coluna de $ B $. Isto é, use um laço `for`! Pare realizar este código, é importante entender o conceito de broadcasting. Para transpor uma matriz use `X.T`.\n",
    "\n",
    "Em código numpy e torch, a operação de broadcasting replica linhas e colunas de tensores para realizar operações. Para entender melhor, leia o [documento](https://docs.scipy.org/doc/numpy/user/basics.broadcasting.html). A figura abaixo exemplifica broadcasting. No geral, as dimensões de arrays casam, as operações são realizadas (primeira linha da figura). Mesmo quando as dimensões não casem, se a última dimensão for compatível é feito a replicação (broadcasting), ver a segunda linha da figura. Por fim, mesmo quando as dimensões não casam mas uma delas é 1 (4x1 + 1x3 na linha 3), é feito broadcasting.\n",
    "\n",
    "Para fazer o código em uma linha apenas, você vai focar no caso da linha 2 da figura. Multiplique uma linha de A por B. Depois disso, use `.sum(axis=...)`.\n",
    "\n",
    "![](./figs/broadcasting.png)"
   ]
  },
  {
   "cell_type": "code",
   "execution_count": 24,
   "metadata": {
    "colab": {},
    "colab_type": "code",
    "id": "0LfR_yNpZb10"
   },
   "outputs": [],
   "source": [
    "C = torch.zeros(128, 128)\n",
    "for linha in range(B.shape[0]):\n",
    "    C[linha] = (A[linha] * B).sum(axis=1)"
   ]
  },
  {
   "cell_type": "code",
   "execution_count": 25,
   "metadata": {
    "colab": {},
    "colab_type": "code",
    "id": "9R59brLMaC74"
   },
   "outputs": [],
   "source": [
    "# testes, não apague as linhas!!\n",
    "Cteste = torch.mm(A, B.T).numpy()  # faz a leitura, realiza operação\n",
    "assert_array_almost_equal(Cteste, C.numpy(), decimal=3)"
   ]
  },
  {
   "cell_type": "markdown",
   "metadata": {
    "colab_type": "text",
    "id": "_kGzuRaVSfTm"
   },
   "source": [
    "3. Calcule $ C = AB^t $ usando operações matriciais. Ou seja, sem usar nenhum laço. Ao mensurar o tempo, ficou mais rápido?"
   ]
  },
  {
   "cell_type": "code",
   "execution_count": 26,
   "metadata": {
    "colab": {},
    "colab_type": "code",
    "id": "EnCmHXvJaq93"
   },
   "outputs": [],
   "source": [
    "C = torch.mm(A, B.T)"
   ]
  },
  {
   "cell_type": "code",
   "execution_count": 27,
   "metadata": {
    "colab": {},
    "colab_type": "code",
    "id": "idO63nPsaz-W"
   },
   "outputs": [],
   "source": [
    "# testes, não apague as linhas!!\n",
    "Cteste = torch.mm(A, B.T).numpy()  # faz a leitura, realiza operação\n",
    "assert_array_almost_equal(Cteste, C.numpy(), decimal=3)"
   ]
  },
  {
   "cell_type": "markdown",
   "metadata": {
    "colab_type": "text",
    "id": "uoj6uUB-SfTs"
   },
   "source": [
    "## Conjunto de Problemas 2: Computação eficiente de memória\n",
    "\n",
    "Crie duas matrizes aleatórias de tamanho $4096 \\times 4096$. Chame as mesmas de A e B novamente.\n",
    "\n"
   ]
  },
  {
   "cell_type": "code",
   "execution_count": 28,
   "metadata": {
    "colab": {},
    "colab_type": "code",
    "id": "-2yklrXwa_9a"
   },
   "outputs": [],
   "source": [
    "A = torch.randn(4096, 4096)\n",
    "B = torch.randn(4096, 4096)"
   ]
  },
  {
   "cell_type": "markdown",
   "metadata": {
    "colab_type": "text",
    "id": "LOQ1Bi3_SfTv"
   },
   "source": [
    "Queremos calcular $ C \\leftarrow A \\cdot B + C $, onde $ A, B $ e $ C $ são todas matrizes. Implemente isso da maneira mais eficiente em termos de memória!\n",
    "\n",
    "4. Não aloque nova memória para o novo valor de $ C $. Não aloque nova memória para resultados intermediários, se possível. Leia a seção de Saving Memory do [d2l.ai](http://d2l.ai/chapter_crashcourse/ndarray.html)."
   ]
  },
  {
   "cell_type": "code",
   "execution_count": 29,
   "metadata": {
    "colab": {},
    "colab_type": "code",
    "id": "37bHEd4fbWwL"
   },
   "outputs": [],
   "source": [
    "C = torch.zeros(A.shape)\n",
    "C[:] = torch.mm(A, B) + C"
   ]
  },
  {
   "cell_type": "code",
   "execution_count": 30,
   "metadata": {
    "colab": {},
    "colab_type": "code",
    "id": "shdwu9rybdk6"
   },
   "outputs": [],
   "source": [
    "# testes não apague!\n",
    "Cteste = (torch.mm(A, B)).numpy()  # faz a leitura, realiza operação\n",
    "assert_array_almost_equal(Cteste, C.numpy(), decimal=3)"
   ]
  },
  {
   "cell_type": "markdown",
   "metadata": {
    "colab_type": "text",
    "id": "Id8wFU7MSfT0"
   },
   "source": [
    "5. Crie uma função que recebe (A, B e C). A mesma deve atualizar C sem alocar memória nova. Além do mais, a função recebe um número de iterações para atualizar C."
   ]
  },
  {
   "cell_type": "code",
   "execution_count": 31,
   "metadata": {
    "colab": {},
    "colab_type": "code",
    "id": "0hwmgoGjbkdX"
   },
   "outputs": [],
   "source": [
    "def update_c(C, A, B, niter=2):\n",
    "    D = torch.mm(A, B)\n",
    "    for i in range(niter):\n",
    "        C[:] = D + C"
   ]
  },
  {
   "cell_type": "code",
   "execution_count": 32,
   "metadata": {
    "colab": {},
    "colab_type": "code",
    "id": "U2BrvKXlcEhZ"
   },
   "outputs": [],
   "source": [
    "# testes não apague!\n",
    "Ct = torch.zeros(A.shape)\n",
    "Cteste = (Ct + torch.mm(A, B))\n",
    "Cteste = (Cteste + torch.mm(A, B)).numpy()\n",
    "\n",
    "C = torch.zeros(A.shape)\n",
    "update_c(C, A, B, 2)\n",
    "assert_array_almost_equal(Cteste, C.numpy(), decimal=3)"
   ]
  },
  {
   "cell_type": "markdown",
   "metadata": {
    "colab_type": "text",
    "id": "MZlOlXVzchKU"
   },
   "source": [
    "## Conjunto de Problemas 3: Programação Diferenciável\n",
    "\n",
    "Agora vamos aprender um dos pontos chaves de fazer uso de bibliotecas como pytorch/tensorflow/etc, a programação diferenciável. Diferente do exercício que vocês fizeram na mão, usando a biblioteca conseguimos derivar de forma automágica. Portanto, observe como o código abaixo deriva a função seno."
   ]
  },
  {
   "cell_type": "code",
   "execution_count": 33,
   "metadata": {
    "colab": {
     "base_uri": "https://localhost:8080/",
     "height": 510
    },
    "colab_type": "code",
    "id": "DAFvYb1-cr90",
    "outputId": "91524bb5-063f-41ba-a224-798f8dd329af"
   },
   "outputs": [
    {
     "data": {
      "text/plain": [
       "[<matplotlib.lines.Line2D at 0x7fc806616e10>]"
      ]
     },
     "execution_count": 33,
     "metadata": {},
     "output_type": "execute_result"
    },
    {
     "data": {
      "image/png": "[encoded data removed]",
      "text/plain": [
       "<Figure size 864x576 with 1 Axes>"
      ]
     },
     "metadata": {
      "needs_background": "light"
     },
     "output_type": "display_data"
    }
   ],
   "source": [
    "x = np.linspace(-10, 10, 1000)\n",
    "x_torch = torch.tensor(x,requires_grad=True)\n",
    "#with mx.autograd.record(): # liga o modo treino, vamos derivar e otimizar coisas.\n",
    "y = torch.sin(x_torch)\n",
    "v = torch.ones(x_torch.shape, dtype = torch.double) #Devido ao fato de que o y final não é um escalar precisamos passar o vetor v tal que v é a jacobiana pela qual vamos multiplicar as jacobianas da variavel node (neste caso, x) conforme descrito em https://pytorch.org/tutorials/beginner/blitz/autograd_tutorial.html\n",
    "#Como aqui x da origem a y diretamente, nosso v sera apenas um vetor de 1's com a mesma dimensao de x\n",
    "y.backward(v)\n",
    "\n",
    "plt.plot(x_torch.detach().numpy(), y.detach().numpy(), label='sin(x)')\n",
    "plt.plot(x_torch.detach().numpy(), x_torch.grad.numpy(), label='sin\\'(x)')"
   ]
  },
  {
   "cell_type": "markdown",
   "metadata": {
    "colab_type": "text",
    "id": "kWVRJANQoo3y"
   },
   "source": [
    "O resultado é a mesma curva da função cosseno! Para entender melhor o autograd, leia a seção respectiva do [pyTorch Blitz](https://pytorch.org/tutorials/beginner/blitz/autograd_tutorial.html)."
   ]
  },
  {
   "cell_type": "code",
   "execution_count": 34,
   "metadata": {
    "colab": {
     "base_uri": "https://localhost:8080/",
     "height": 510
    },
    "colab_type": "code",
    "id": "al5B464Wov9b",
    "outputId": "cb3b1f5e-ef77-4ed2-9378-7fd0c592254c"
   },
   "outputs": [
    {
     "data": {
      "text/plain": [
       "[<matplotlib.lines.Line2D at 0x7fc804385c50>]"
      ]
     },
     "execution_count": 34,
     "metadata": {},
     "output_type": "execute_result"
    },
    {
     "data": {
      "image/png": "[encoded data removed]",
      "text/plain": [
       "<Figure size 864x576 with 1 Axes>"
      ]
     },
     "metadata": {
      "needs_background": "light"
     },
     "output_type": "display_data"
    }
   ],
   "source": [
    "plt.plot(x_torch.detach().numpy(), x_torch.grad.numpy(), label='sin\\'(x)')\n",
    "plt.plot(x_torch.detach().numpy(), torch.cos(x_torch).detach().numpy(), label='cos(x)')\n"
   ]
  },
  {
   "cell_type": "markdown",
   "metadata": {
    "colab_type": "text",
    "id": "wlXb3d7KpYMO"
   },
   "source": [
    "6. Derive a função logística usando pytorch.\n",
    "\n",
    "$$f(x) = \\frac{1}{1 + e^{-x}}$$"
   ]
  },
  {
   "cell_type": "code",
   "execution_count": 35,
   "metadata": {
    "colab": {},
    "colab_type": "code",
    "id": "iLeZ8G1ZpdzF"
   },
   "outputs": [],
   "source": [
    "x = np.linspace(-10, 10, 1000) # Não mude o valor de x!\n",
    "x_torch = torch.tensor(x)\n",
    "x_torch.requires_grad_(True)\n",
    "#with mx.autograd.record():\n",
    "y = 1.0 / (1.0 + torch.exp(-x_torch))\n",
    "v = torch.ones(x_torch.shape, dtype = torch.double) \n",
    "y.backward(v)"
   ]
  },
  {
   "cell_type": "code",
   "execution_count": 36,
   "metadata": {
    "colab": {},
    "colab_type": "code",
    "id": "Ie7SsPvoqB4B"
   },
   "outputs": [],
   "source": [
    "y_test = 1.0/(1 + np.exp(-x))\n",
    "derivada_teste = y_test * (1 - y_test)\n",
    "assert_array_almost_equal(derivada_teste, x_torch.grad.numpy(), decimal=3)"
   ]
  },
  {
   "cell_type": "markdown",
   "metadata": {
    "colab_type": "text",
    "id": "DTqqN8lnSfUM"
   },
   "source": [
    "A operação *dettach* permite quebrar a computação em várias partes. Em particular, isto é útil para aplicar a regra da cadeia. Suponha que $u = f(x)$ e $z = g(u)$, pela regra da cadeia, temos $\\frac{dz}{dx}$ = $\\frac{dz}{du}\\frac{du}{dx}$. Para calcular $\\frac{dz}{du}$, podemos primeiro separar $u$ da computação e, em seguida, chamar `z.backward()` para calcular o primeiro termo.\n",
    "\n",
    "Observe no caso abaixo como derivamos $u = x^2$. A resposta deve ser $2x$ para cada termo `[0, 1, 2, 3]`."
   ]
  },
  {
   "cell_type": "code",
   "execution_count": 37,
   "metadata": {
    "colab": {
     "base_uri": "https://localhost:8080/",
     "height": 34
    },
    "colab_type": "code",
    "id": "Mpz3XRzdqlgA",
    "outputId": "09979c0d-328e-476e-ecc2-ec1007f0c22b"
   },
   "outputs": [
    {
     "data": {
      "text/plain": [
       "tensor([0., 2., 4., 6.])"
      ]
     },
     "execution_count": 37,
     "metadata": {},
     "output_type": "execute_result"
    }
   ],
   "source": [
    "x = torch.arange(4, dtype =torch.float)\n",
    "x.requires_grad_(True)\n",
    "#with mx.autograd.record():\n",
    "u = x * x\n",
    "jacobX = torch.ones(x.shape) \n",
    "u.backward(jacobX)\n",
    "x.grad"
   ]
  },
  {
   "cell_type": "markdown",
   "metadata": {
    "colab_type": "text",
    "id": "523CkAIqSfUP"
   },
   "source": [
    "Agora vamos fazer $z = u^3$ e computar as derivadas intermediarias."
   ]
  },
  {
   "cell_type": "code",
   "execution_count": 38,
   "metadata": {
    "colab": {
     "base_uri": "https://localhost:8080/",
     "height": 34
    },
    "colab_type": "code",
    "id": "7Bto72Rast4y",
    "outputId": "769e47b8-c4fc-4536-df69-03eb121d7fe1"
   },
   "outputs": [
    {
     "data": {
      "text/plain": [
       "tensor([0., 2., 4., 6.])"
      ]
     },
     "execution_count": 38,
     "metadata": {},
     "output_type": "execute_result"
    }
   ],
   "source": [
    "x = torch.arange(4, dtype = torch.float)\n",
    "x.requires_grad_(True)\n",
    "#with mx.autograd.record():\n",
    "u = x * x\n",
    "v = u.detach()  # u still keeps the computation graph\n",
    "v.requires_grad_(True)\n",
    "z = v * v * v\n",
    "\n",
    "jacobX = torch.ones(x.shape) \n",
    "u.backward(jacobX)\n",
    "x.grad"
   ]
  },
  {
   "cell_type": "markdown",
   "metadata": {
    "colab_type": "text",
    "id": "SETAJvJfSfUS"
   },
   "source": [
    "Acima temos a derivada de x ao quadrado. Abaixo temos a derivada de g(x^2)."
   ]
  },
  {
   "cell_type": "code",
   "execution_count": 39,
   "metadata": {
    "colab": {
     "base_uri": "https://localhost:8080/",
     "height": 34
    },
    "colab_type": "code",
    "id": "Nzg4SVQeu5Ng",
    "outputId": "80fd76d5-5ef0-4c69-e151-860ee6503258"
   },
   "outputs": [
    {
     "data": {
      "text/plain": [
       "tensor([  0.,   3.,  48., 243.])"
      ]
     },
     "execution_count": 39,
     "metadata": {},
     "output_type": "execute_result"
    }
   ],
   "source": [
    "jacobV = torch.ones(v.shape) \n",
    "z.backward(jacobV)\n",
    "v.grad"
   ]
  },
  {
   "cell_type": "markdown",
   "metadata": {
    "colab_type": "text",
    "id": "ghPmxPLgvMCk"
   },
   "source": [
    "7. Agora, sendo $f(x) = 1 + x^2$ e $g(x) = 1 + 7 x^9$. Vamos aplicar a regra da cadeia em pytorch"
   ]
  },
  {
   "cell_type": "code",
   "execution_count": 40,
   "metadata": {
    "colab": {},
    "colab_type": "code",
    "id": "FXRQJvpqvKCX"
   },
   "outputs": [],
   "source": [
    "x = torch.arange(4, dtype = torch.float)\n",
    "x.requires_grad_(True)\n",
    "#with mx.autograd.record():\n",
    "u = 1 + x * x\n",
    "v = u.detach()  # u still keeps the computation graph\n",
    "v.requires_grad_(True)\n",
    "z = 1 + 7 * torch.pow(v, 9)\n",
    "jacobX = torch.ones(x.shape)\n",
    "u.backward(jacobX)"
   ]
  },
  {
   "cell_type": "code",
   "execution_count": 41,
   "metadata": {
    "colab": {},
    "colab_type": "code",
    "id": "G4q1Wm2xSfUZ"
   },
   "outputs": [],
   "source": [
    "# teste para x\n",
    "assert_array_almost_equal([0, 2, 4, 6], x.grad.numpy())"
   ]
  },
  {
   "cell_type": "code",
   "execution_count": 42,
   "metadata": {
    "colab": {},
    "colab_type": "code",
    "id": "LwPv2vezSfUb"
   },
   "outputs": [],
   "source": [
    "jacobV = torch.ones(v.shape)\n",
    "z.backward(jacobV)"
   ]
  },
  {
   "cell_type": "code",
   "execution_count": 43,
   "metadata": {
    "colab": {},
    "colab_type": "code",
    "id": "B-CffRolSfUd"
   },
   "outputs": [],
   "source": [
    "# teste para gx\n",
    "expected = np.array([6.3000000e+01, 1.6128000e+04, 2.4609376e+07, 6.300000256000e+09])\n",
    "assert_array_almost_equal(expected, v.grad.numpy(), 12)"
   ]
  },
  {
   "cell_type": "markdown",
   "metadata": {
    "colab_type": "text",
    "id": "yAZ8iT53SfUe"
   },
   "source": [
    "## Conjunto de Problemas 4: Perceptron from Scratch\n",
    "\n",
    "Por fim, vamos implementar o algoritmo de Perceptron usando mxnet. Inicialmente, vamos gerar dois blobs linearmente separáveis. Com um seed bem setado, claramente teremos duas classes abaixo."
   ]
  },
  {
   "cell_type": "code",
   "execution_count": 44,
   "metadata": {
    "colab": {
     "base_uri": "https://localhost:8080/",
     "height": 510
    },
    "colab_type": "code",
    "id": "7IOnqtp7SfUf",
    "outputId": "c57abfbc-dcd4-47c8-f22b-c1c6bb4d0340"
   },
   "outputs": [
    {
     "data": {
      "text/plain": [
       "<matplotlib.collections.PathCollection at 0x7fc7e7cdac10>"
      ]
     },
     "execution_count": 44,
     "metadata": {},
     "output_type": "execute_result"
    },
    {
     "data": {
      "image/png": "[encoded data removed]",
      "text/plain": [
       "<Figure size 864x576 with 1 Axes>"
      ]
     },
     "metadata": {
      "needs_background": "light"
     },
     "output_type": "display_data"
    }
   ],
   "source": [
    "from sklearn import datasets\n",
    "state = np.random.seed(20190187)\n",
    "\n",
    "X, y = datasets.make_blobs(n_samples=200, n_features=2, centers=2)\n",
    "plt.scatter(X[:, 0], X[:, 1], s=80, edgecolors='k')"
   ]
  },
  {
   "cell_type": "markdown",
   "metadata": {
    "colab_type": "text",
    "id": "bVy1LNc2wk-0"
   },
   "source": [
    "8. Converta X e y para tensores torch"
   ]
  },
  {
   "cell_type": "code",
   "execution_count": 45,
   "metadata": {
    "colab": {},
    "colab_type": "code",
    "id": "tLAdMqnywoBV"
   },
   "outputs": [],
   "source": [
    "X= torch.tensor(X)\n",
    "y = torch.tensor(y)"
   ]
  },
  {
   "cell_type": "markdown",
   "metadata": {
    "colab_type": "text",
    "id": "1CcoRTP2SfUj"
   },
   "source": [
    "Para realizar as nossas previsões, precisamos aplicar a seguinte função:\n",
    "\n",
    "$$\\hat{y}_i = \\frac{1}{1 + e^{-(1 + \\theta_1 x_{i1} + \\theta_1 x_{i2}) + \\cdots}}$$\n",
    "\n",
    "Aqui $\\hat{y}_i$ é a previsão de um único elemento. Podemos gerar uma matriz de previsões usando a forma matricial abaixo.\n",
    "\n",
    "![](./figs/linear.png)\n",
    "\n",
    "9. Sabendo que precisamos de uma coluna de valores 1 na nossa entrada $\\mathbf{X}$, implemente uma função chamada `add_intercept` que adicionar uma nova coluna em X. A mesma deve retornar uma cópia! Não altere a matriz original."
   ]
  },
  {
   "cell_type": "code",
   "execution_count": 46,
   "metadata": {
    "colab": {},
    "colab_type": "code",
    "id": "jO_0Ee1Ww4-u"
   },
   "outputs": [],
   "source": [
    "def add_intercept(X):\n",
    "    Xn = torch.zeros(X.shape[0], X.shape[1] + 1)\n",
    "    Xn[:, 0]= 1\n",
    "    Xn[:, 1:] = X\n",
    "    return Xn"
   ]
  },
  {
   "cell_type": "code",
   "execution_count": 47,
   "metadata": {
    "colab": {},
    "colab_type": "code",
    "id": "-kykMPlTx6dZ"
   },
   "outputs": [],
   "source": [
    "# testes, não apague!\n",
    "X_teste = torch.zeros(4, 4)\n",
    "X_novo_teste = add_intercept(X_teste)\n",
    "X_novo_teste = X_novo_teste.numpy()\n",
    "assert_equal(X_teste.shape[0], X_novo_teste.shape[0])\n",
    "assert_equal(X_teste.shape[1] + 1, X_novo_teste.shape[1])\n",
    "assert_array_almost_equal(np.ones(X_novo_teste.shape[0]), X_novo_teste[:, 0])"
   ]
  },
  {
   "cell_type": "markdown",
   "metadata": {
    "colab_type": "text",
    "id": "mPAZSSKrSfUq"
   },
   "source": [
    "10. Implemente uma função activation que faz uso da sigmoid. A mesma deve retornar um vetor de previsões para um X de entrada. Como regra, assuma que quando a ativação tem valor maior do que 0.5 vamos prever a classe 1. Então, sua resposta deve ser um vetoe de 0s e 1s apenas. Não use nenhum laço!!"
   ]
  },
  {
   "cell_type": "code",
   "execution_count": 48,
   "metadata": {
    "colab": {},
    "colab_type": "code",
    "id": "r9sbbuvXyNtN"
   },
   "outputs": [],
   "source": [
    "def activation(X, theta, limiar=0.5):\n",
    "    #X = X.view(-1,len(theta)) # Explicar \n",
    "    return 1.0 / (1 + torch.exp(-torch.matmul(X, theta)))"
   ]
  },
  {
   "cell_type": "code",
   "execution_count": 49,
   "metadata": {
    "colab": {},
    "colab_type": "code",
    "id": "3UniKvffyayH"
   },
   "outputs": [],
   "source": [
    "# testes, não apague!\n",
    "X_teste = torch.randn(1000, 20000)\n",
    "theta = torch.randn(20000,1)\n",
    "y_hat_teste = activation(X_teste, theta)\n",
    "assert_equal(True, (y_hat_teste >= 0).numpy().all())\n",
    "assert_equal(True, (y_hat_teste <= 1).numpy().all())"
   ]
  },
  {
   "cell_type": "markdown",
   "metadata": {
    "colab_type": "text",
    "id": "acorzPYkSfUt"
   },
   "source": [
    "11. Por fim, implemente agora o algoritmo do perceptron. O mesmo deve retornar um vetor de parâmetros theta. Execute o mesmo em X (com ou sem intercepto, no nosso exemplo simples não importa muito)."
   ]
  },
  {
   "cell_type": "code",
   "execution_count": 50,
   "metadata": {
    "colab": {
     "base_uri": "https://localhost:8080/",
     "height": 494
    },
    "colab_type": "code",
    "id": "AZHr9WSF0xv5",
    "outputId": "ffcc0668-0391-4609-c3d8-b559fed26a8a"
   },
   "outputs": [
    {
     "data": {
      "image/png": "[encoded data removed]",
      "text/plain": [
       "<Figure size 864x576 with 1 Axes>"
      ]
     },
     "metadata": {
      "needs_background": "light"
     },
     "output_type": "display_data"
    }
   ],
   "source": [
    "state = np.random.seed(2017014421)\n",
    "X, y = datasets.make_blobs(n_samples=200, n_features=2, centers=2)\n",
    "plt.scatter(X[:, 0], X[:, 1], s=80, edgecolors='k')\n",
    "\n",
    "X = torch.tensor(X)\n",
    "y = torch.tensor(y)"
   ]
  },
  {
   "cell_type": "code",
   "execution_count": 51,
   "metadata": {
    "colab": {},
    "colab_type": "code",
    "id": "MZZZ2FAk079l"
   },
   "outputs": [],
   "source": [
    "def perceptron(X, y, rate=0.005):\n",
    "    Xn = add_intercept(X)\n",
    "    theta = torch.ones(Xn.shape[1],1)\n",
    "    for _ in range(10):\n",
    "        for i in range(X.shape[0]):\n",
    "            Xi = Xn[i]\n",
    "            yt = y[i].numpy()\n",
    "            yp = 1 if activation(Xi, theta) > 0.5 else 0 \n",
    "            update = rate * (yt - yp) * Xi\n",
    "            update = update.view(-1,1)\n",
    "            theta = theta + update\n",
    "    return theta\n",
    "theta = perceptron(X, y)"
   ]
  },
  {
   "cell_type": "markdown",
   "metadata": {
    "colab_type": "text",
    "id": "aP5RPMndSfUz"
   },
   "source": [
    "Seu perceptron deve prever perfeitamente as classes!"
   ]
  },
  {
   "cell_type": "code",
   "execution_count": 52,
   "metadata": {
    "colab": {
     "base_uri": "https://localhost:8080/",
     "height": 425
    },
    "colab_type": "code",
    "id": "V5Ugv8O2SfU0",
    "outputId": "fb8293e5-3340-4f78-fc71-4b84d23b841e"
   },
   "outputs": [
    {
     "data": {
      "text/plain": [
       "tensor([[1, 1, 1, 1, 1, 1, 1, 1, 1, 1, 1, 1, 1, 1, 1, 1, 1, 1, 1, 1, 1, 1, 1, 1,\n",
       "         1, 1, 1, 1, 1, 1, 1, 1, 1, 1, 1, 1, 1, 1, 1, 1, 1, 1, 1, 1, 1, 1, 1, 1,\n",
       "         1, 1, 1, 1, 1, 1, 1, 1, 1, 1, 1, 1, 1, 1, 1, 1, 1, 1, 1, 1, 1, 1, 1, 1,\n",
       "         1, 1, 1, 1, 1, 1, 1, 1, 1, 1, 1, 1, 1, 1, 1, 1, 1, 1, 1, 1, 1, 1, 1, 1,\n",
       "         1, 1, 1, 1, 1, 1, 1, 1, 1, 1, 1, 1, 1, 1, 1, 1, 1, 1, 1, 1, 1, 1, 1, 1,\n",
       "         1, 1, 1, 1, 1, 1, 1, 1, 1, 1, 1, 1, 1, 1, 1, 1, 1, 1, 1, 1, 1, 1, 1, 1,\n",
       "         1, 1, 1, 1, 1, 1, 1, 1, 1, 1, 1, 1, 1, 1, 1, 1, 1, 1, 1, 1, 1, 1, 1, 1,\n",
       "         1, 1, 1, 1, 1, 1, 1, 1, 1, 1, 1, 1, 1, 1, 1, 1, 1, 1, 1, 1, 1, 1, 1, 1,\n",
       "         1, 1, 1, 1, 1, 1, 1, 1]], dtype=torch.int32)"
      ]
     },
     "execution_count": 52,
     "metadata": {},
     "output_type": "execute_result"
    }
   ],
   "source": [
    "Xn = add_intercept(X)\n",
    "y_p = (activation(Xn, theta) > 0.5).view(1,-1).int()\n",
    "y = y.int()\n",
    "(y_p == y).int().reshape(1,-1)"
   ]
  },
  {
   "cell_type": "code",
   "execution_count": null,
   "metadata": {},
   "outputs": [],
   "source": []
  }
 ],
 "metadata": {
  "colab": {
   "collapsed_sections": [
    "qKGzJ5oUT29k"
   ],
   "name": "01-Matrizes e Tensores - Gabarito vPytorch vDraftFinal.ipynb",
   "provenance": []
  },
  "kernelspec": {
   "display_name": "Python 3",
   "language": "python",
   "name": "python3"
  },
  "language_info": {
   "codemirror_mode": {
    "name": "ipython",
    "version": 3
   },
   "file_extension": ".py",
   "mimetype": "text/x-python",
   "name": "python",
   "nbconvert_exporter": "python",
   "pygments_lexer": "ipython3",
   "version": "3.7.4"
  }
 },
 "nbformat": 4,
 "nbformat_minor": 1
}
