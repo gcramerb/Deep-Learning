{
  "nbformat": 4,
  "nbformat_minor": 0,
  "metadata": {
    "accelerator": "GPU",
    "colab": {
      "name": "funcoes_de_ativacao.ipynb",
      "version": "0.3.2",
      "provenance": [],
      "collapsed_sections": [
        "fDZ1L2BNK3zD",
        "oAs7m4hWOuqI",
        "fDk1txYwm072",
        "EzH0HbB5njc6",
        "M0aKRnSlqLg1"
      ]
    },
    "kernelspec": {
      "display_name": "Python 3",
      "language": "python",
      "name": "python3"
    },
    "language_info": {
      "codemirror_mode": {
        "name": "ipython",
        "version": 3
      },
      "file_extension": ".py",
      "mimetype": "text/x-python",
      "name": "python",
      "nbconvert_exporter": "python",
      "pygments_lexer": "ipython3",
      "version": "3.6.8"
    }
  },
  "cells": [
    {
      "cell_type": "markdown",
      "metadata": {
        "colab_type": "text",
        "id": "Ed03SC1Jm9Yy"
      },
      "source": [
        "**Atenção! Essa aula foi feita para ser executada no [Google Colab](https://colab.research.google.com/)!**\n",
        "\n",
        "---\n",
        "\n",
        "# Aprendizado Profundo - UFMG\n",
        "\n",
        "## Funções de Ativações\n",
        "\n",
        "Como falado anteriormente, uma parte importante na criação da arquitetura da rede neural é a definição da função de ativação.\n",
        "Várias funções foram propostas ao longo do tempo entre elas [tangente hiperbólica (tanh)](https://mxnet.incubator.apache.org/api/python/symbol/symbol.html#mxnet.symbol.Symbol.tanh), [sigmóide](https://mxnet.incubator.apache.org/api/python/symbol/symbol.html#mxnet.symbol.Symbol.sigmoid),  e [ReLU](https://mxnet.incubator.apache.org/api/python/symbol/symbol.html#mxnet.symbol.Symbol.relu).\n",
        "\n",
        "\n",
        "Neste *notebook*, veremos qual formato, vantagens, e desvantagens das diferentes funções de ativações.\n",
        "Veremos, também, como usar essas funções no *framework* MXNet.\n"
      ]
    },
    {
      "cell_type": "markdown",
      "metadata": {
        "colab_type": "text",
        "id": "Gp6CwWnFnTwb"
      },
      "source": [
        "Antes de começar, vamos instalar o MXNet. Esse pequeno bloco de código abaixo é usado somente para instalar o MXNet para CUDA 10. Execute esse bloco somente uma vez e ignore possíveis erros levantados durante a instalação.\n",
        "\n",
        "**ATENÇÃO: a alteração dos blocos abaixo pode implicar em problemas na execução dos blocos restantes!**"
      ]
    },
    {
      "cell_type": "markdown",
      "metadata": {
        "id": "t9dhdDzSLb6z",
        "colab_type": "text"
      },
      "source": [
        "## Preâmbulo"
      ]
    },
    {
      "cell_type": "code",
      "metadata": {
        "colab_type": "code",
        "id": "XW-VATPAldgt",
        "outputId": "d8fd7202-dc4b-42e3-a4f3-6a83100b2dc1",
        "colab": {
          "base_uri": "https://localhost:8080/",
          "height": 295
        }
      },
      "source": [
        "!pip install mxnet-cu100"
      ],
      "execution_count": 1,
      "outputs": [
        {
          "output_type": "stream",
          "text": [
            "Collecting mxnet-cu100\n",
            "\u001b[?25l  Downloading https://files.pythonhosted.org/packages/56/d3/e939814957c2f09ecdd22daa166898889d54e5981e356832425d514edfb6/mxnet_cu100-1.5.0-py2.py3-none-manylinux1_x86_64.whl (540.1MB)\n",
            "\u001b[K     |████████████████████████████████| 540.1MB 27kB/s \n",
            "\u001b[?25hRequirement already satisfied: requests<3,>=2.20.0 in /usr/local/lib/python3.6/dist-packages (from mxnet-cu100) (2.21.0)\n",
            "Requirement already satisfied: numpy<2.0.0,>1.16.0 in /usr/local/lib/python3.6/dist-packages (from mxnet-cu100) (1.16.5)\n",
            "Collecting graphviz<0.9.0,>=0.8.1 (from mxnet-cu100)\n",
            "  Downloading https://files.pythonhosted.org/packages/53/39/4ab213673844e0c004bed8a0781a0721a3f6bb23eb8854ee75c236428892/graphviz-0.8.4-py2.py3-none-any.whl\n",
            "Requirement already satisfied: certifi>=2017.4.17 in /usr/local/lib/python3.6/dist-packages (from requests<3,>=2.20.0->mxnet-cu100) (2019.6.16)\n",
            "Requirement already satisfied: chardet<3.1.0,>=3.0.2 in /usr/local/lib/python3.6/dist-packages (from requests<3,>=2.20.0->mxnet-cu100) (3.0.4)\n",
            "Requirement already satisfied: urllib3<1.25,>=1.21.1 in /usr/local/lib/python3.6/dist-packages (from requests<3,>=2.20.0->mxnet-cu100) (1.24.3)\n",
            "Requirement already satisfied: idna<2.9,>=2.5 in /usr/local/lib/python3.6/dist-packages (from requests<3,>=2.20.0->mxnet-cu100) (2.8)\n",
            "Installing collected packages: graphviz, mxnet-cu100\n",
            "  Found existing installation: graphviz 0.10.1\n",
            "    Uninstalling graphviz-0.10.1:\n",
            "      Successfully uninstalled graphviz-0.10.1\n",
            "Successfully installed graphviz-0.8.4 mxnet-cu100-1.5.0\n"
          ],
          "name": "stdout"
        }
      ]
    },
    {
      "cell_type": "code",
      "metadata": {
        "id": "Xe8qqfINLb6-",
        "colab_type": "code",
        "colab": {}
      },
      "source": [
        "from mxnet import autograd\n",
        "from mxnet import gluon\n",
        "from mxnet import init\n",
        "from mxnet import nd\n",
        "\n",
        "from mxnet.gluon import data as gdata\n",
        "from mxnet.gluon import loss as gloss\n",
        "from mxnet.gluon import nn\n",
        "from mxnet.gluon import utils as gutils\n",
        "\n",
        "import mxnet as mx\n",
        "import numpy as np\n",
        "\n",
        "import os\n",
        "import sys\n",
        "import time"
      ],
      "execution_count": 0,
      "outputs": []
    },
    {
      "cell_type": "code",
      "metadata": {
        "id": "RDwMgCaELb7F",
        "colab_type": "code",
        "colab": {}
      },
      "source": [
        "import matplotlib.pyplot as plt\n",
        "plt.ion()"
      ],
      "execution_count": 0,
      "outputs": []
    },
    {
      "cell_type": "code",
      "metadata": {
        "id": "LchD2BJtLb7L",
        "colab_type": "code",
        "colab": {
          "base_uri": "https://localhost:8080/",
          "height": 34
        },
        "outputId": "b3cd0370-1e9d-43f9-bab4-1a4c724d9219"
      },
      "source": [
        "# Tenta encontrar GPU\n",
        "def try_gpu():\n",
        "    try:\n",
        "        ctx = mx.gpu()\n",
        "        _ = nd.zeros((1,), ctx=ctx)\n",
        "    except mx.base.MXNetError:\n",
        "        ctx = mx.cpu()\n",
        "    return ctx\n",
        "\n",
        "# CTX é um contexto mxnet, caso exista GPU o código rola nela. Caso não, executa na CPU mesmo.\n",
        "ctx = try_gpu()\n",
        "ctx"
      ],
      "execution_count": 5,
      "outputs": [
        {
          "output_type": "execute_result",
          "data": {
            "text/plain": [
              "gpu(0)"
            ]
          },
          "metadata": {
            "tags": []
          },
          "execution_count": 5
        }
      ]
    },
    {
      "cell_type": "markdown",
      "metadata": {
        "colab_type": "text",
        "id": "fDZ1L2BNK3zD"
      },
      "source": [
        "## Binária\n",
        "\n",
        "Uma das primeiras e mais função de ativação é a binária.\n",
        "Ela foi proposta e muito usada no início das redes neurais.\n",
        "Entretanto, posteriormente, ela foi substituída por outras ativações mais modernas que veremos a seguir.\n",
        "Tecnicamente, esta função produz 1 (ou verdadeiro) quando a entrada ultrapassa um limite $\\theta$, enquanto produz 0 (ou falso) quando a entrada não ultrapassa esse limite.\n",
        "\n",
        "Formalmente, dada uma entrada $x$, a saída $y$ será calculada da seguinte forma:\n",
        "\n",
        "$$\n",
        "y =\n",
        "\\begin{cases}\n",
        "1, \\text{if}~x>\\theta \\\\\n",
        "0, \\text{caso contrário}\n",
        "\\end{cases}\n",
        "$$\n",
        "\n",
        "A grande vantagem dessa ativação é a sua simplicidade.\n",
        "Por outro lado, sua grande desvantagem é que ela não derivada análitica para ser usada junto com o algoritmo de *backpropgagtion*.\n",
        "\n",
        "Abaixo, um código que implementa essa função do zero e faz um gráfico para auxiliar na visualização desta ativação."
      ]
    },
    {
      "cell_type": "code",
      "metadata": {
        "colab_type": "code",
        "id": "zhTe72bqkHJf",
        "outputId": "ef3fd964-5079-49d5-8578-775603851471",
        "colab": {
          "base_uri": "https://localhost:8080/",
          "height": 283
        }
      },
      "source": [
        "def binary_activation(x, theta=0):\n",
        "    a = []\n",
        "    for item in x:\n",
        "        if item <= theta:\n",
        "            a.append(0)\n",
        "        elif item > theta:\n",
        "            a.append(1)\n",
        "    return a\n",
        "\n",
        "ax = plt.subplot()\n",
        "ax.yaxis.grid()\n",
        "ax.xaxis.grid()\n",
        "ax.set_ylabel('y')\n",
        "ax.set_xlabel('x')\n",
        "\n",
        "x = np.arange(-4., 4., 0.01)\n",
        "binary = binary_activation(x)\n",
        "\n",
        "binaryPlot = plt.plot(x, binary, label='Binary', ls='-.', lw=3, color='blue')\n",
        "\n",
        "plt.legend(loc=2)\n",
        "plt.ylim([-2, 2])\n",
        "plt.xlim([-3, 3])\n",
        "plt.show()"
      ],
      "execution_count": 6,
      "outputs": [
        {
          "output_type": "display_data",
          "data": {
            "image/png": "[encoded data removed]",
            "text/plain": [
              "<Figure size 432x288 with 1 Axes>"
            ]
          },
          "metadata": {
            "tags": []
          }
        }
      ]
    },
    {
      "cell_type": "markdown",
      "metadata": {
        "colab_type": "text",
        "id": "oAs7m4hWOuqI"
      },
      "source": [
        "## Sigmóide\n",
        "\n",
        "Como manter a vantagem da função binária e ao mesmo tempo resolver seu problema de derivada?\n",
        "Neste caso, temos a função de ativação chamada [sigmóide](https://mxnet.incubator.apache.org/api/python/symbol/symbol.html#mxnet.symbol.Symbol.sigmoid). \n",
        "Essa função não-linear tem um formato similar ao da função binária, porém tem um gradiente suave, já que é definida em toda seu domínio.\n",
        "\n",
        "Formalmente, dada uma entrada $x$, a saída $y$ será calculada da seguinte forma:\n",
        "\n",
        "$$y=\\frac{1}{(1+exp^{(−x)})}$$\n",
        "\n",
        "Note que para valores de entrada entre -2 a 2, os valores de saída são muito diferentes.\n",
        "Isso significa que quaisquer pequenas alterações nos valores de $x$ nessa região farão com que os valores de $y$ sejam alterados significativamente.\n",
        "Dessa forma, essa função tem a tendência de trazer os valores de $y$ para qualquer extremidade da curva.\n",
        "Outra característica dessa função é que ela também terá a saída limitada no intervalo $(0,1)$.\n",
        "\n",
        "A grande desvantagem dessa função é que o gradiente em suas extremidades será pequeno, já que são poucas mudanças (ou seja, a função se estabiliza e forma quase uma reta).\n",
        "Nesses casos, o gradiente fica tão pequeno que \"desaparece\" (problema conhecido como *vanishing gradients*), ou seja, não tem impacto efetivo devido ao valor extremamente pequeno.\n",
        "Esse problema faz com que a rede não aprenda mais ou aprenda drasticamente lenta.\n",
        "Existem maneiras de contornar esse problema que veremos a seguir.\n",
        "\n",
        "Abaixo, um código que implementa essa função do zero e faz um gráfico para auxiliar na visualização desta ativação."
      ]
    },
    {
      "cell_type": "code",
      "metadata": {
        "colab_type": "code",
        "id": "iKMwymPDmBzQ",
        "outputId": "fa1859d7-f5a1-49f0-b434-bbb9fbfda31a",
        "colab": {
          "base_uri": "https://localhost:8080/",
          "height": 283
        }
      },
      "source": [
        "def sigmoid(x):\n",
        "    a = []\n",
        "    for item in x:\n",
        "        a.append(1 / (1 + np.exp(-item)))\n",
        "    return a\n",
        "  \n",
        "ax = plt.subplot()\n",
        "ax.yaxis.grid()\n",
        "ax.xaxis.grid()\n",
        "ax.set_ylabel('y')\n",
        "ax.set_xlabel('x')\n",
        "\n",
        "x = np.arange(-4., 4., 0.01)\n",
        "sig = sigmoid(x)\n",
        "\n",
        "sigmoidPlot = plt.plot(x, sig, label='Sigmoid', ls='solid', lw=3, color='orange')\n",
        "\n",
        "plt.legend(loc=2)\n",
        "plt.ylim([-2, 2])\n",
        "plt.xlim([-3, 3])\n",
        "plt.show()"
      ],
      "execution_count": 7,
      "outputs": [
        {
          "output_type": "display_data",
          "data": {
            "image/png": "[encoded data removed]",
            "text/plain": [
              "<Figure size 432x288 with 1 Axes>"
            ]
          },
          "metadata": {
            "tags": []
          }
        }
      ]
    },
    {
      "cell_type": "markdown",
      "metadata": {
        "colab_type": "text",
        "id": "fDk1txYwm072"
      },
      "source": [
        "## Tangente Hiperbólica\n",
        "\n",
        "Uma outra função de ativação muito difundida com características semelhantes à sigmóide é a [tangente hiperbólica (tanh)](https://mxnet.incubator.apache.org/api/python/symbol/symbol.html#mxnet.symbol.Symbol.tanh). \n",
        "Essa função não linear, limitada no intervalo $(-1, 1)$, tem o gradiente mais significativo do que para a função sigmóide.\n",
        "Decidir entre o sigmóide ou o tanh dependerá da sua exigência em relação ao gradiente.\n",
        "Como o sigmóide, o tanh também tem, mas em menor intensidade, o problema de *vanishing gradients*.\n",
        "\n",
        "Formalmente, dada uma entrada $x$, a saída $y$ será calculada da seguinte forma:\n",
        "\n",
        "$$y=\\frac{2}{(1+exp^{(−2x)})} -1$$\n",
        "\n",
        "O Tanh também é uma função de ativação muito popular e amplamente utilizada.\n",
        "\n",
        "Abaixo, um código que implementa essa função do zero e faz um gráfico para auxiliar na visualização desta ativação."
      ]
    },
    {
      "cell_type": "code",
      "metadata": {
        "colab_type": "code",
        "id": "MuEoi-K-m307",
        "outputId": "cec83d40-4f8a-42b7-81e4-9e27a60b4e71",
        "colab": {
          "base_uri": "https://localhost:8080/",
          "height": 283
        }
      },
      "source": [
        "def tanh(x):\n",
        "    a = []\n",
        "    for item in x:\n",
        "        a.append((2 / (1 + np.exp(-2*item))-1))\n",
        "    return a\n",
        "  \n",
        "ax = plt.subplot()\n",
        "ax.yaxis.grid()\n",
        "ax.xaxis.grid()\n",
        "ax.set_ylabel('y')\n",
        "ax.set_xlabel('x')\n",
        "\n",
        "x = np.arange(-4., 4., 0.01)\n",
        "th = tanh(x)\n",
        "\n",
        "tanhPlot = plt.plot(x, th, label='TanH', ls='dotted', lw=3, color='green')\n",
        "\n",
        "plt.legend(loc=2)\n",
        "plt.ylim([-2, 2])\n",
        "plt.xlim([-3, 3])\n",
        "plt.show()"
      ],
      "execution_count": 8,
      "outputs": [
        {
          "output_type": "display_data",
          "data": {
            "image/png": "[encoded data removed]",
            "text/plain": [
              "<Figure size 432x288 with 1 Axes>"
            ]
          },
          "metadata": {
            "tags": []
          }
        }
      ]
    },
    {
      "cell_type": "markdown",
      "metadata": {
        "colab_type": "text",
        "id": "EzH0HbB5njc6"
      },
      "source": [
        "## ReLU\n",
        "\n",
        "Uma última função de ativação mais moderna é a chamada [ReLU](https://mxnet.incubator.apache.org/api/python/symbol/symbol.html#mxnet.symbol.Symbol.relu). \n",
        "\n",
        "Formalmente, dada uma entrada $x$, a saída $y$ será calculada da seguinte forma:\n",
        "\n",
        "$$y=\\max(0, x)$$\n",
        "\n",
        "Essa função não-linear tem intervalo $[0, +\\infty]$, o que significa que pode haver um problema chamado de explosão da ativação (quando o valor da ativação fica mto alto e anula as outras ativações).\n",
        "\n",
        "Uma vantagem dessa ativação é permitir a esparcidade das ativações, ou seja, que haja neurônios desativados (com ativações zero).\n",
        "Isso torna as ativações escassas e força com que elas fiquem mais eficientes.\n",
        "Por outro lado, a desvantagem é que neurônio com valores negativos são desligados e não são mais reativados, já que o gradiente para valores negativos é zero.\n",
        "Esse problema, chamado *dying ReLu problem*, faz com que vários neurônios simplesmente morram e não respondam tornando uma parte substancial da rede passiva.\n",
        "Existem variações no ReLu para atenuar esse problema simplesmente manuseando valores negativos ligeiramente diferentes.\n",
        "Por fim, ReLu é menos computacionalmente caro do que tanh e sigmoid porque envolve operações matemáticas mais simples.\n",
        "Esse é um bom ponto a considerar quando estamos projetando redes neurais profundas.\n",
        "\n",
        "Abaixo, um código que implementa essa função do zero e faz um gráfico para auxiliar na visualização desta ativação.\n",
        "\n"
      ]
    },
    {
      "cell_type": "code",
      "metadata": {
        "colab_type": "code",
        "id": "FCShI0CRnlcY",
        "outputId": "4f44bf2d-0303-460c-dd62-094348545e07",
        "colab": {
          "base_uri": "https://localhost:8080/",
          "height": 283
        }
      },
      "source": [
        "def reluFunc(x):\n",
        "    a = []\n",
        "    for item in x:\n",
        "        if item <= 0.0:\n",
        "            a.append(0)\n",
        "        else:\n",
        "            a.append(item)\n",
        "    return a\n",
        "  \n",
        "ax = plt.subplot()\n",
        "ax.yaxis.grid()\n",
        "ax.xaxis.grid()\n",
        "ax.set_ylabel('y')\n",
        "ax.set_xlabel('x')\n",
        "\n",
        "x = np.arange(-4., 4., 0.01)\n",
        "relu = reluFunc(x)\n",
        "\n",
        "reluPlot = plt.plot(x, relu, label='ReLU', ls='dashed', lw=3, color='red')\n",
        "\n",
        "plt.legend(loc=2)\n",
        "plt.ylim([-2, 2])\n",
        "plt.xlim([-3, 3])\n",
        "plt.show()"
      ],
      "execution_count": 9,
      "outputs": [
        {
          "output_type": "display_data",
          "data": {
            "image/png": "[encoded data removed]",
            "text/plain": [
              "<Figure size 432x288 with 1 Axes>"
            ]
          },
          "metadata": {
            "tags": []
          }
        }
      ]
    },
    {
      "cell_type": "markdown",
      "metadata": {
        "colab_type": "text",
        "id": "M0aKRnSlqLg1"
      },
      "source": [
        "## Comparação\n",
        "\n",
        "O gráfico abaixo mostra todas as funções de ativação vistas acima juntas.\n",
        "Reparem na diferença das ativações.\n",
        "Obviamente, algumas ativações são melhores para alguns casos enquanto outras são mais usadas em outros cenários.\n",
        "Depende diretamente do pesquisador testar e selecionar qual melhor função de ativação para o problema em questão."
      ]
    },
    {
      "cell_type": "code",
      "metadata": {
        "colab_type": "code",
        "id": "UoAXtaQVOuV6",
        "outputId": "fe48276d-3442-4a11-df74-3ee8ba1fe041",
        "colab": {
          "base_uri": "https://localhost:8080/",
          "height": 283
        }
      },
      "source": [
        "ax = plt.subplot()\n",
        "ax.yaxis.grid()\n",
        "ax.xaxis.grid()\n",
        "ax.set_ylabel('y')\n",
        "ax.set_xlabel('x')\n",
        "\n",
        "x = np.arange(-4., 4., 0.01)\n",
        "binary = binary_activation(x)\n",
        "sig = sigmoid(x)\n",
        "th = tanh(x)\n",
        "relu = reluFunc(x)\n",
        "\n",
        "binaryPlot = plt.plot(x, binary, label='Binary', ls='-.', lw=3, color='blue')\n",
        "sigmoidPlot = plt.plot(x, sig, label='Sigmoid', ls='solid', lw=3, color='orange')\n",
        "tanhPlot = plt.plot(x, th, label='TanH', ls='dotted', lw=3, color='green')\n",
        "reluPlot = plt.plot(x, relu, label='ReLU', ls='dashed', lw=3, color='red')\n",
        "\n",
        "plt.legend(loc=2)\n",
        "plt.ylim([-2, 2])\n",
        "plt.xlim([-3, 3])\n",
        "plt.show()"
      ],
      "execution_count": 0,
      "outputs": [
        {
          "output_type": "display_data",
          "data": {
            "image/png": "[encoded data removed]",
            "text/plain": [
              "<Figure size 432x288 with 1 Axes>"
            ]
          },
          "metadata": {
            "tags": [],
            "needs_background": "light"
          }
        }
      ]
    },
    {
      "cell_type": "markdown",
      "metadata": {
        "colab_type": "text",
        "id": "9sI-DAZcqnO0"
      },
      "source": [
        "# MXNet\n",
        "\n",
        "Agora veremos como usar e implementar algumas dessas funções no *framework* MXNet.\n",
        "Para isso, usamos o dataset [Fashion MNIST](http://fashion-mnist.s3-website.eu-central-1.amazonaws.com/), um dataset tradicional de reconhecimento de peças de roupas.\n",
        "Além disso, usaremos uma rede MLP simples para testes."
      ]
    },
    {
      "cell_type": "code",
      "metadata": {
        "colab_type": "code",
        "id": "g9u0pCOtlWLu",
        "colab": {}
      },
      "source": [
        "# código para carregar o dataset do Fashion-MNIST\n",
        "# https://github.com/zalandoresearch/fashion-mnist\n",
        "def load_data_fashion_mnist(batch_size, resize=None, root=os.path.join(\n",
        "        '~', '.mxnet', 'datasets', 'fashion-mnist')):\n",
        "    \"\"\"Download the Fashion-MNIST dataset and then load into memory.\"\"\"\n",
        "    root = os.path.expanduser(root)\n",
        "    transformer = []\n",
        "    if resize:\n",
        "        transformer += [gdata.vision.transforms.Resize(resize)]\n",
        "    transformer += [gdata.vision.transforms.ToTensor()]\n",
        "    transformer = gdata.vision.transforms.Compose(transformer)\n",
        "\n",
        "    mnist_train = gdata.vision.FashionMNIST(root=root, train=True)\n",
        "    mnist_test = gdata.vision.FashionMNIST(root=root, train=False)\n",
        "    num_workers = 0 if sys.platform.startswith('win32') else 4\n",
        "\n",
        "    train_iter = gdata.DataLoader(mnist_train.transform_first(transformer),\n",
        "                                  batch_size, shuffle=True,\n",
        "                                  num_workers=num_workers)\n",
        "    test_iter = gdata.DataLoader(mnist_test.transform_first(transformer),\n",
        "                                 batch_size, shuffle=False,\n",
        "                                 num_workers=num_workers)\n",
        "    return train_iter, test_iter"
      ],
      "execution_count": 0,
      "outputs": []
    },
    {
      "cell_type": "code",
      "metadata": {
        "colab_type": "code",
        "id": "ryMa2m3wKwOS",
        "colab": {}
      },
      "source": [
        "# funções básicas\n",
        "def _get_batch(batch, ctx):\n",
        "    \"\"\"Return features and labels on ctx.\"\"\"\n",
        "    features, labels = batch\n",
        "    if labels.dtype != features.dtype:\n",
        "        labels = labels.astype(features.dtype)\n",
        "    return (gutils.split_and_load(features, ctx),\n",
        "            gutils.split_and_load(labels, ctx), features.shape[0])\n",
        "\n",
        "# Função usada para calcular acurácia\n",
        "def evaluate_accuracy(data_iter, net, loss, ctx=[mx.cpu()]):\n",
        "    \"\"\"Evaluate accuracy of a model on the given data set.\"\"\"\n",
        "    if isinstance(ctx, mx.Context):\n",
        "        ctx = [ctx]\n",
        "    acc_sum, n, l = nd.array([0]), 0, 0\n",
        "    for batch in data_iter:\n",
        "        features, labels, _ = _get_batch(batch, ctx)\n",
        "        for X, y in zip(features, labels):\n",
        "            # X, y = X.as_in_context(ctx), y.as_in_context(ctx)\n",
        "            y = y.astype('float32')\n",
        "            y_hat = net(X)\n",
        "            l += loss(y_hat, y).sum()\n",
        "            acc_sum += (y_hat.argmax(axis=1) == y).sum().copyto(mx.cpu())\n",
        "            n += y.size\n",
        "        acc_sum.wait_to_read()\n",
        "    return acc_sum.asscalar() / n, l.asscalar() / n\n",
        "  \n",
        "# Função usada no treinamento e validação da rede\n",
        "def train_validate(net, train_iter, test_iter, batch_size, trainer, loss, ctx,\n",
        "                   num_epochs):\n",
        "    print('training on', ctx)\n",
        "    for epoch in range(num_epochs):\n",
        "        train_l_sum, train_acc_sum, n, start = 0.0, 0.0, 0, time.time()\n",
        "        for X, y in train_iter:\n",
        "            X, y = X.as_in_context(ctx), y.as_in_context(ctx)\n",
        "            with autograd.record():\n",
        "                y_hat = net(X)\n",
        "                l = loss(y_hat, y).sum()\n",
        "            l.backward()\n",
        "            trainer.step(batch_size)\n",
        "            y = y.astype('float32')\n",
        "            train_l_sum += l.asscalar()\n",
        "            train_acc_sum += (y_hat.argmax(axis=1) == y).sum().asscalar()\n",
        "            n += y.size\n",
        "        test_acc, test_loss = evaluate_accuracy(test_iter, net, loss, ctx)\n",
        "        print('epoch %d, train loss %.4f, train acc %.3f, test loss %.4f, '\n",
        "              'test acc %.3f, time %.1f sec'\n",
        "              % (epoch + 1, train_l_sum / n, train_acc_sum / n, test_loss, \n",
        "                 test_acc, time.time() - start))"
      ],
      "execution_count": 0,
      "outputs": []
    },
    {
      "cell_type": "markdown",
      "metadata": {
        "colab_type": "text",
        "id": "br7mKzzoy3F-"
      },
      "source": [
        "## Sigmóide\n",
        "\n",
        "Num geral, para implementar um camada usando a ativação, basta adicionar o parâmetro *activation* e passar como argumento a ativação desejada.\n",
        "Logo, para implementar um camada usando a ativação [sigmóide](https://mxnet.incubator.apache.org/api/python/symbol/symbol.html#mxnet.symbol.Symbol.sigmoid), basta adicionar o parâmetro *activation* e 'relu' como argumento, como mostrado no exemplo abaixo."
      ]
    },
    {
      "cell_type": "code",
      "metadata": {
        "colab_type": "code",
        "id": "fcDmP8qxKgU3",
        "outputId": "8e9247e2-e80d-4a6d-dca9-66533a6d76a1",
        "colab": {
          "base_uri": "https://localhost:8080/",
          "height": 278
        }
      },
      "source": [
        "# parâmetros: número de epochs, learning rate (ou taxa de aprendizado), e \n",
        "# tamanho do batch\n",
        "num_epochs, lr, batch_size = 10, 0.5, 256\n",
        "\n",
        "# rede simples somente com perceptrons e camadas densamente conectadas\n",
        "net = nn.Sequential()\n",
        "net.add(nn.Dense(256, activation=\"sigmoid\"),\n",
        "        nn.Dense(128, activation=\"sigmoid\"),\n",
        "        nn.Dense(64, activation=\"sigmoid\"),\n",
        "        nn.Dense(10))\n",
        "net.initialize(init.Normal(sigma=0.01), ctx=ctx)\n",
        "\n",
        "# função de custo (ou loss)\n",
        "loss = gloss.SoftmaxCrossEntropyLoss()\n",
        "\n",
        "# carregamento do dado: fashion mnist\n",
        "train_iter, test_iter = load_data_fashion_mnist(batch_size)\n",
        "\n",
        "# trainer do gluon\n",
        "trainer = gluon.Trainer(net.collect_params(), 'sgd', {'learning_rate': lr})\n",
        "\n",
        "# treinamento e validação via MXNet\n",
        "train_validate(net, train_iter, test_iter, batch_size, trainer, loss, \n",
        "               ctx, num_epochs)"
      ],
      "execution_count": 12,
      "outputs": [
        {
          "output_type": "stream",
          "text": [
            "Downloading /root/.mxnet/datasets/fashion-mnist/train-images-idx3-ubyte.gz from https://apache-mxnet.s3-accelerate.dualstack.amazonaws.com/gluon/dataset/fashion-mnist/train-images-idx3-ubyte.gz...\n",
            "Downloading /root/.mxnet/datasets/fashion-mnist/train-labels-idx1-ubyte.gz from https://apache-mxnet.s3-accelerate.dualstack.amazonaws.com/gluon/dataset/fashion-mnist/train-labels-idx1-ubyte.gz...\n",
            "Downloading /root/.mxnet/datasets/fashion-mnist/t10k-images-idx3-ubyte.gz from https://apache-mxnet.s3-accelerate.dualstack.amazonaws.com/gluon/dataset/fashion-mnist/t10k-images-idx3-ubyte.gz...\n",
            "Downloading /root/.mxnet/datasets/fashion-mnist/t10k-labels-idx1-ubyte.gz from https://apache-mxnet.s3-accelerate.dualstack.amazonaws.com/gluon/dataset/fashion-mnist/t10k-labels-idx1-ubyte.gz...\n",
            "training on gpu(0)\n",
            "epoch 1, train loss 2.3113, train acc 0.099, test loss 2.3063, test acc 0.100, time 7.2 sec\n",
            "epoch 2, train loss 2.3073, train acc 0.098, test loss 2.3038, test acc 0.100, time 6.9 sec\n",
            "epoch 3, train loss 2.3051, train acc 0.099, test loss 2.3037, test acc 0.100, time 7.1 sec\n",
            "epoch 4, train loss 2.3046, train acc 0.100, test loss 2.3044, test acc 0.100, time 7.2 sec\n",
            "epoch 5, train loss 2.3041, train acc 0.100, test loss 2.3034, test acc 0.100, time 7.4 sec\n",
            "epoch 6, train loss 2.3036, train acc 0.101, test loss 2.3035, test acc 0.100, time 7.2 sec\n",
            "epoch 7, train loss 2.3027, train acc 0.105, test loss 2.3014, test acc 0.100, time 7.0 sec\n",
            "epoch 8, train loss 2.2970, train acc 0.123, test loss 2.2868, test acc 0.214, time 7.0 sec\n",
            "epoch 9, train loss 2.2228, train acc 0.176, test loss 1.9956, test acc 0.217, time 7.0 sec\n",
            "epoch 10, train loss 1.7381, train acc 0.258, test loss 1.6369, test acc 0.310, time 6.9 sec\n"
          ],
          "name": "stdout"
        }
      ]
    },
    {
      "cell_type": "code",
      "metadata": {
        "id": "CU4EvcRVQG5i",
        "colab_type": "code",
        "colab": {
          "base_uri": "https://localhost:8080/",
          "height": 208
        },
        "outputId": "9e4ae2d9-8b9d-4b8d-cb58-a2bcfec1887a"
      },
      "source": [
        "num_epochs, lr, batch_size = 10, 0.5, 256\n",
        "\n",
        "# rede simples somente com perceptrons e camadas densamente conectadas\n",
        "net = nn.Sequential()\n",
        "net.add(nn.Dense(256, activation=\"relu\"),\n",
        "        nn.Dense(128, activation=\"relu\"),\n",
        "        nn.Dense(64, activation=\"relu\"),\n",
        "        nn.Dense(10))\n",
        "net.initialize(init.Normal(sigma=0.01), ctx=ctx)\n",
        "\n",
        "# função de custo (ou loss)\n",
        "loss = gloss.SoftmaxCrossEntropyLoss()\n",
        "\n",
        "# carregamento do dado: fashion mnist\n",
        "train_iter, test_iter = load_data_fashion_mnist(batch_size)\n",
        "\n",
        "# trainer do gluon\n",
        "trainer = gluon.Trainer(net.collect_params(), 'sgd', {'learning_rate': lr})\n",
        "\n",
        "# treinamento e validação via MXNet\n",
        "train_validate(net, train_iter, test_iter, batch_size, trainer, loss, \n",
        "               ctx, num_epochs)"
      ],
      "execution_count": 13,
      "outputs": [
        {
          "output_type": "stream",
          "text": [
            "training on gpu(0)\n",
            "epoch 1, train loss 2.2141, train acc 0.131, test loss 1.7386, test acc 0.229, time 7.3 sec\n",
            "epoch 2, train loss 1.4818, train acc 0.371, test loss 1.1031, test acc 0.534, time 6.8 sec\n",
            "epoch 3, train loss 1.3995, train acc 0.490, test loss 0.7872, test acc 0.687, time 7.0 sec\n",
            "epoch 4, train loss 0.7307, train acc 0.722, test loss 0.5295, test acc 0.813, time 7.0 sec\n",
            "epoch 5, train loss 0.5573, train acc 0.795, test loss 0.4636, test acc 0.836, time 7.2 sec\n",
            "epoch 6, train loss 0.5151, train acc 0.811, test loss 0.4743, test acc 0.826, time 7.3 sec\n",
            "epoch 7, train loss 0.4575, train acc 0.833, test loss 0.4303, test acc 0.843, time 7.0 sec\n",
            "epoch 8, train loss 0.4298, train acc 0.844, test loss 0.4053, test acc 0.851, time 7.1 sec\n",
            "epoch 9, train loss 0.4040, train acc 0.852, test loss 0.3768, test acc 0.863, time 7.0 sec\n",
            "epoch 10, train loss 0.3858, train acc 0.859, test loss 0.3629, test acc 0.869, time 7.0 sec\n"
          ],
          "name": "stdout"
        }
      ]
    },
    {
      "cell_type": "code",
      "metadata": {
        "id": "58k-2GkXQm2W",
        "colab_type": "code",
        "colab": {
          "base_uri": "https://localhost:8080/",
          "height": 208
        },
        "outputId": "b8594c0b-d785-4db3-bb29-c5898122d4a9"
      },
      "source": [
        "num_epochs, lr, batch_size = 10, 0.5, 256\n",
        "\n",
        "# rede simples somente com perceptrons e camadas densamente conectadas\n",
        "net = nn.Sequential()\n",
        "net.add(nn.Dense(256, activation=\"tanh\"),\n",
        "        nn.Dense(128, activation=\"tanh\"),\n",
        "        nn.Dense(64, activation=\"tanh\"),\n",
        "        nn.Dense(10))\n",
        "net.initialize(init.Normal(sigma=0.01), ctx=ctx)\n",
        "\n",
        "# função de custo (ou loss)\n",
        "loss = gloss.SoftmaxCrossEntropyLoss()\n",
        "\n",
        "# carregamento do dado: fashion mnist\n",
        "train_iter, test_iter = load_data_fashion_mnist(batch_size)\n",
        "\n",
        "# trainer do gluon\n",
        "trainer = gluon.Trainer(net.collect_params(), 'sgd', {'learning_rate': lr})\n",
        "\n",
        "# treinamento e validação via MXNet\n",
        "train_validate(net, train_iter, test_iter, batch_size, trainer, loss, \n",
        "               ctx, num_epochs)"
      ],
      "execution_count": 14,
      "outputs": [
        {
          "output_type": "stream",
          "text": [
            "training on gpu(0)\n",
            "epoch 1, train loss 1.6890, train acc 0.317, test loss 0.8318, test acc 0.673, time 7.0 sec\n",
            "epoch 2, train loss 0.7679, train acc 0.696, test loss 0.5931, test acc 0.764, time 7.0 sec\n",
            "epoch 3, train loss 0.5823, train acc 0.782, test loss 0.4911, test acc 0.823, time 6.9 sec\n",
            "epoch 4, train loss 0.5242, train acc 0.809, test loss 0.4622, test acc 0.832, time 7.8 sec\n",
            "epoch 5, train loss 0.4672, train acc 0.830, test loss 0.4342, test acc 0.844, time 7.2 sec\n",
            "epoch 6, train loss 0.4461, train acc 0.835, test loss 0.4167, test acc 0.854, time 7.2 sec\n",
            "epoch 7, train loss 0.4209, train acc 0.846, test loss 0.4144, test acc 0.850, time 7.2 sec\n",
            "epoch 8, train loss 0.4046, train acc 0.852, test loss 0.3993, test acc 0.856, time 7.0 sec\n",
            "epoch 9, train loss 0.3832, train acc 0.859, test loss 0.3738, test acc 0.864, time 7.0 sec\n",
            "epoch 10, train loss 0.3777, train acc 0.859, test loss 0.3685, test acc 0.867, time 7.2 sec\n"
          ],
          "name": "stdout"
        }
      ]
    },
    {
      "cell_type": "markdown",
      "metadata": {
        "colab_type": "text",
        "id": "Q18UT_my9K66"
      },
      "source": [
        "## TanH, ReLU e outras\n",
        "\n",
        "Agora é com você!\n",
        "Estude e implemente outras arquiteturas com diferentes funções de ativações como [tangente hiperbólica (tanh)](https://mxnet.incubator.apache.org/api/python/symbol/symbol.html#mxnet.symbol.Symbol.tanh),  e [ReLU](https://mxnet.incubator.apache.org/api/python/symbol/symbol.html#mxnet.symbol.Symbol.relu).\n",
        "\n",
        "Estude também outras funções de ativações mais recentes (como [LeakyReLU](https://mxnet.incubator.apache.org/api/python/symbol/symbol.html#mxnet.symbol.LeakyReLU) e [suas derivadas, como eLU e SeLU](https://arxiv.org/pdf/1804.02763.pdf)) e tente implementá-las usando o *framework* MXNet.\n",
        "Neste caso, será necessário definir a arquitetura no formato de uma classe como neste [exemplo](https://gluon.mxnet.io/chapter03_deep-neural-networks/mlp-gluon.html#Define-the-model-with-gluon.Block).\n"
      ]
    },
    {
      "cell_type": "code",
      "metadata": {
        "id": "m6vmvFqERu46",
        "colab_type": "code",
        "colab": {}
      },
      "source": [
        "def  LeakyreluFunc(x):\n",
        "    a = []\n",
        "    for item in x:\n",
        "        if item <= 0.0:\n",
        "            a.append(item*0.01)\n",
        "        else:\n",
        "            a.append(item)\n",
        "    return a\n",
        "\n"
      ],
      "execution_count": 0,
      "outputs": []
    },
    {
      "cell_type": "code",
      "metadata": {
        "id": "hfM-lmLeRwbj",
        "colab_type": "code",
        "colab": {}
      },
      "source": [
        "\n",
        "  \n",
        "class MLP(gluon.Block):\n",
        "    def __init__(self, **kwargs):\n",
        "        super(MLP, self).__init__(**kwargs)\n",
        "        with self.name_scope():\n",
        "            self.dense0 = gluon.nn.Dense(256)\n",
        "            self.dense1 = gluon.nn.Dense(128)\n",
        "            self.dense2 = gluon.nn.Dense(64)\n",
        "            self.dense3 = gluon.nn.Dense(10)\n",
        "\n",
        "    def forward(self, x):\n",
        "        x = LeakyreluFunc(self.dense0(x))\n",
        "        x = LeakyreluFunc(self.dense1(x))\n",
        "        x = LeakyreluFunc(self.dense2(x))\n",
        "        x = self.dense3(x)\n",
        "        return x "
      ],
      "execution_count": 0,
      "outputs": []
    },
    {
      "cell_type": "code",
      "metadata": {
        "id": "UdyVgF-ASlj3",
        "colab_type": "code",
        "colab": {
          "base_uri": "https://localhost:8080/",
          "height": 851
        },
        "outputId": "f210e726-97d4-4c7b-a46e-adc885072933"
      },
      "source": [
        "num_epochs, lr, batch_size = 10, 0.5, 256\n",
        "\n",
        "# rede simples somente com perceptrons e camadas densamente conectadas\n",
        "net = MLP()\n",
        "net.collect_params().initialize(init.Normal(sigma=0.01), ctx=ctx)\n",
        "\n",
        "# função de custo (ou loss)\n",
        "loss = gloss.SoftmaxCrossEntropyLoss()\n",
        "\n",
        "# carregamento do dado: fashion mnist\n",
        "train_iter, test_iter = load_data_fashion_mnist(batch_size)\n",
        "\n",
        "# trainer do gluon\n",
        "trainer = gluon.Trainer(net.collect_params(), 'sgd', {'learning_rate': lr})\n",
        "\n",
        "# treinamento e validação via MXNet\n",
        "train_validate(net, train_iter, test_iter, batch_size, trainer, loss, \n",
        "               ctx, num_epochs)"
      ],
      "execution_count": 19,
      "outputs": [
        {
          "output_type": "stream",
          "text": [
            "training on gpu(0)\n"
          ],
          "name": "stdout"
        },
        {
          "output_type": "error",
          "ename": "ValueError",
          "evalue": "ignored",
          "traceback": [
            "\u001b[0;31m---------------------------------------------------------------------------\u001b[0m",
            "\u001b[0;31mValueError\u001b[0m                                Traceback (most recent call last)",
            "\u001b[0;32m<ipython-input-19-695f953d5ed4>\u001b[0m in \u001b[0;36m<module>\u001b[0;34m()\u001b[0m\n\u001b[1;32m     16\u001b[0m \u001b[0;31m# treinamento e validação via MXNet\u001b[0m\u001b[0;34m\u001b[0m\u001b[0;34m\u001b[0m\u001b[0;34m\u001b[0m\u001b[0m\n\u001b[1;32m     17\u001b[0m train_validate(net, train_iter, test_iter, batch_size, trainer, loss, \n\u001b[0;32m---> 18\u001b[0;31m                ctx, num_epochs)\n\u001b[0m",
            "\u001b[0;32m<ipython-input-11-4c5e9ed29fe2>\u001b[0m in \u001b[0;36mtrain_validate\u001b[0;34m(net, train_iter, test_iter, batch_size, trainer, loss, ctx, num_epochs)\u001b[0m\n\u001b[1;32m     34\u001b[0m             \u001b[0mX\u001b[0m\u001b[0;34m,\u001b[0m \u001b[0my\u001b[0m \u001b[0;34m=\u001b[0m \u001b[0mX\u001b[0m\u001b[0;34m.\u001b[0m\u001b[0mas_in_context\u001b[0m\u001b[0;34m(\u001b[0m\u001b[0mctx\u001b[0m\u001b[0;34m)\u001b[0m\u001b[0;34m,\u001b[0m \u001b[0my\u001b[0m\u001b[0;34m.\u001b[0m\u001b[0mas_in_context\u001b[0m\u001b[0;34m(\u001b[0m\u001b[0mctx\u001b[0m\u001b[0;34m)\u001b[0m\u001b[0;34m\u001b[0m\u001b[0;34m\u001b[0m\u001b[0m\n\u001b[1;32m     35\u001b[0m             \u001b[0;32mwith\u001b[0m \u001b[0mautograd\u001b[0m\u001b[0;34m.\u001b[0m\u001b[0mrecord\u001b[0m\u001b[0;34m(\u001b[0m\u001b[0;34m)\u001b[0m\u001b[0;34m:\u001b[0m\u001b[0;34m\u001b[0m\u001b[0;34m\u001b[0m\u001b[0m\n\u001b[0;32m---> 36\u001b[0;31m                 \u001b[0my_hat\u001b[0m \u001b[0;34m=\u001b[0m \u001b[0mnet\u001b[0m\u001b[0;34m(\u001b[0m\u001b[0mX\u001b[0m\u001b[0;34m)\u001b[0m\u001b[0;34m\u001b[0m\u001b[0;34m\u001b[0m\u001b[0m\n\u001b[0m\u001b[1;32m     37\u001b[0m                 \u001b[0ml\u001b[0m \u001b[0;34m=\u001b[0m \u001b[0mloss\u001b[0m\u001b[0;34m(\u001b[0m\u001b[0my_hat\u001b[0m\u001b[0;34m,\u001b[0m \u001b[0my\u001b[0m\u001b[0;34m)\u001b[0m\u001b[0;34m.\u001b[0m\u001b[0msum\u001b[0m\u001b[0;34m(\u001b[0m\u001b[0;34m)\u001b[0m\u001b[0;34m\u001b[0m\u001b[0;34m\u001b[0m\u001b[0m\n\u001b[1;32m     38\u001b[0m             \u001b[0ml\u001b[0m\u001b[0;34m.\u001b[0m\u001b[0mbackward\u001b[0m\u001b[0;34m(\u001b[0m\u001b[0;34m)\u001b[0m\u001b[0;34m\u001b[0m\u001b[0;34m\u001b[0m\u001b[0m\n",
            "\u001b[0;32m/usr/local/lib/python3.6/dist-packages/mxnet/gluon/block.py\u001b[0m in \u001b[0;36m__call__\u001b[0;34m(self, *args)\u001b[0m\n\u001b[1;32m    546\u001b[0m             \u001b[0mhook\u001b[0m\u001b[0;34m(\u001b[0m\u001b[0mself\u001b[0m\u001b[0;34m,\u001b[0m \u001b[0margs\u001b[0m\u001b[0;34m)\u001b[0m\u001b[0;34m\u001b[0m\u001b[0;34m\u001b[0m\u001b[0m\n\u001b[1;32m    547\u001b[0m \u001b[0;34m\u001b[0m\u001b[0m\n\u001b[0;32m--> 548\u001b[0;31m         \u001b[0mout\u001b[0m \u001b[0;34m=\u001b[0m \u001b[0mself\u001b[0m\u001b[0;34m.\u001b[0m\u001b[0mforward\u001b[0m\u001b[0;34m(\u001b[0m\u001b[0;34m*\u001b[0m\u001b[0margs\u001b[0m\u001b[0;34m)\u001b[0m\u001b[0;34m\u001b[0m\u001b[0;34m\u001b[0m\u001b[0m\n\u001b[0m\u001b[1;32m    549\u001b[0m \u001b[0;34m\u001b[0m\u001b[0m\n\u001b[1;32m    550\u001b[0m         \u001b[0;32mfor\u001b[0m \u001b[0mhook\u001b[0m \u001b[0;32min\u001b[0m \u001b[0mself\u001b[0m\u001b[0;34m.\u001b[0m\u001b[0m_forward_hooks\u001b[0m\u001b[0;34m.\u001b[0m\u001b[0mvalues\u001b[0m\u001b[0;34m(\u001b[0m\u001b[0;34m)\u001b[0m\u001b[0;34m:\u001b[0m\u001b[0;34m\u001b[0m\u001b[0;34m\u001b[0m\u001b[0m\n",
            "\u001b[0;32m<ipython-input-18-c3a015c66026>\u001b[0m in \u001b[0;36mforward\u001b[0;34m(self, x)\u001b[0m\n\u001b[1;32m     11\u001b[0m \u001b[0;34m\u001b[0m\u001b[0m\n\u001b[1;32m     12\u001b[0m     \u001b[0;32mdef\u001b[0m \u001b[0mforward\u001b[0m\u001b[0;34m(\u001b[0m\u001b[0mself\u001b[0m\u001b[0;34m,\u001b[0m \u001b[0mx\u001b[0m\u001b[0;34m)\u001b[0m\u001b[0;34m:\u001b[0m\u001b[0;34m\u001b[0m\u001b[0;34m\u001b[0m\u001b[0m\n\u001b[0;32m---> 13\u001b[0;31m         \u001b[0mx\u001b[0m \u001b[0;34m=\u001b[0m \u001b[0mLeakyreluFunc\u001b[0m\u001b[0;34m(\u001b[0m\u001b[0mself\u001b[0m\u001b[0;34m.\u001b[0m\u001b[0mdense0\u001b[0m\u001b[0;34m(\u001b[0m\u001b[0mx\u001b[0m\u001b[0;34m)\u001b[0m\u001b[0;34m)\u001b[0m\u001b[0;34m\u001b[0m\u001b[0;34m\u001b[0m\u001b[0m\n\u001b[0m\u001b[1;32m     14\u001b[0m         \u001b[0mx\u001b[0m \u001b[0;34m=\u001b[0m \u001b[0mLeakyreluFunc\u001b[0m\u001b[0;34m(\u001b[0m\u001b[0mself\u001b[0m\u001b[0;34m.\u001b[0m\u001b[0mdense1\u001b[0m\u001b[0;34m(\u001b[0m\u001b[0mx\u001b[0m\u001b[0;34m)\u001b[0m\u001b[0;34m)\u001b[0m\u001b[0;34m\u001b[0m\u001b[0;34m\u001b[0m\u001b[0m\n\u001b[1;32m     15\u001b[0m         \u001b[0mx\u001b[0m \u001b[0;34m=\u001b[0m \u001b[0mLeakyreluFunc\u001b[0m\u001b[0;34m(\u001b[0m\u001b[0mself\u001b[0m\u001b[0;34m.\u001b[0m\u001b[0mdense2\u001b[0m\u001b[0;34m(\u001b[0m\u001b[0mx\u001b[0m\u001b[0;34m)\u001b[0m\u001b[0;34m)\u001b[0m\u001b[0;34m\u001b[0m\u001b[0;34m\u001b[0m\u001b[0m\n",
            "\u001b[0;32m<ipython-input-15-a851cff24986>\u001b[0m in \u001b[0;36mLeakyreluFunc\u001b[0;34m(x)\u001b[0m\n\u001b[1;32m      2\u001b[0m     \u001b[0ma\u001b[0m \u001b[0;34m=\u001b[0m \u001b[0;34m[\u001b[0m\u001b[0;34m]\u001b[0m\u001b[0;34m\u001b[0m\u001b[0;34m\u001b[0m\u001b[0m\n\u001b[1;32m      3\u001b[0m     \u001b[0;32mfor\u001b[0m \u001b[0mitem\u001b[0m \u001b[0;32min\u001b[0m \u001b[0mx\u001b[0m\u001b[0;34m:\u001b[0m\u001b[0;34m\u001b[0m\u001b[0;34m\u001b[0m\u001b[0m\n\u001b[0;32m----> 4\u001b[0;31m         \u001b[0;32mif\u001b[0m \u001b[0mitem\u001b[0m \u001b[0;34m<=\u001b[0m \u001b[0;36m0.0\u001b[0m\u001b[0;34m:\u001b[0m\u001b[0;34m\u001b[0m\u001b[0;34m\u001b[0m\u001b[0m\n\u001b[0m\u001b[1;32m      5\u001b[0m             \u001b[0ma\u001b[0m\u001b[0;34m.\u001b[0m\u001b[0mappend\u001b[0m\u001b[0;34m(\u001b[0m\u001b[0mitem\u001b[0m\u001b[0;34m*\u001b[0m\u001b[0;36m0.01\u001b[0m\u001b[0;34m)\u001b[0m\u001b[0;34m\u001b[0m\u001b[0;34m\u001b[0m\u001b[0m\n\u001b[1;32m      6\u001b[0m         \u001b[0;32melse\u001b[0m\u001b[0;34m:\u001b[0m\u001b[0;34m\u001b[0m\u001b[0;34m\u001b[0m\u001b[0m\n",
            "\u001b[0;32m/usr/local/lib/python3.6/dist-packages/mxnet/ndarray/ndarray.py\u001b[0m in \u001b[0;36m__bool__\u001b[0;34m(self)\u001b[0m\n\u001b[1;32m    355\u001b[0m             \u001b[0;32mreturn\u001b[0m \u001b[0mbool\u001b[0m\u001b[0;34m(\u001b[0m\u001b[0mself\u001b[0m\u001b[0;34m.\u001b[0m\u001b[0masscalar\u001b[0m\u001b[0;34m(\u001b[0m\u001b[0;34m)\u001b[0m\u001b[0;34m)\u001b[0m\u001b[0;34m\u001b[0m\u001b[0;34m\u001b[0m\u001b[0m\n\u001b[1;32m    356\u001b[0m         \u001b[0;32melse\u001b[0m\u001b[0;34m:\u001b[0m\u001b[0;34m\u001b[0m\u001b[0;34m\u001b[0m\u001b[0m\n\u001b[0;32m--> 357\u001b[0;31m             raise ValueError(\"The truth value of an NDArray with multiple elements \" \\\n\u001b[0m\u001b[1;32m    358\u001b[0m                              \"is ambiguous.\")\n\u001b[1;32m    359\u001b[0m \u001b[0;34m\u001b[0m\u001b[0m\n",
            "\u001b[0;31mValueError\u001b[0m: The truth value of an NDArray with multiple elements is ambiguous."
          ]
        }
      ]
    }
  ]
}