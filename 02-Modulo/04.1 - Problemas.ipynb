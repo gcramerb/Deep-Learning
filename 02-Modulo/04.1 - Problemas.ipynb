{
  "nbformat": 4,
  "nbformat_minor": 0,
  "metadata": {
    "accelerator": "GPU",
    "colab": {
      "name": "04.1 - Problemas_v2.ipynb",
      "version": "0.3.2",
      "provenance": [],
      "collapsed_sections": [
        "Pd8hG7HCDUib",
        "IDaRVNq1aMpm"
      ]
    },
    "kernelspec": {
      "display_name": "Python 3",
      "language": "python",
      "name": "python3"
    },
    "language_info": {
      "codemirror_mode": {
        "name": "ipython",
        "version": 3
      },
      "file_extension": ".py",
      "mimetype": "text/x-python",
      "name": "python",
      "nbconvert_exporter": "python",
      "pygments_lexer": "ipython3",
      "version": "3.6.8"
    }
  },
  "cells": [
    {
      "cell_type": "markdown",
      "metadata": {
        "colab_type": "text",
        "id": "Ed03SC1Jm9Yy"
      },
      "source": [
        "## Aprendizado Profundo - UFMG\n",
        "\n",
        "## Problemas\n",
        "\n",
        "Como vimos acima, há muitos passos na criação e definição de uma nova rede neural.\n",
        "A grande parte desses ajustes dependem diretamente do problemas.\n",
        "\n",
        "Abaixo, listamos alguns problemas. Todos os problemas e datasets usados vem do [Center for Machine Learning and Intelligent Systems](http://archive.ics.uci.edu/ml/datasets.php).\n",
        "\n",
        "\n",
        "**Seu objetivo é determinar e implementar um modelo para cada problema.**\n",
        "\n",
        "Isso inclui definir uma arquitetura (por enquanto usando somente camadas [Densas](https://mxnet.incubator.apache.org/api/python/gluon/nn.html#mxnet.gluon.nn.Dense), porém podemos variar as ativações -- [Sigmoid](https://mxnet.incubator.apache.org/api/python/symbol/symbol.html#mxnet.symbol.Symbol.sigmoid), [Tanh](https://mxnet.incubator.apache.org/api/python/symbol/symbol.html#mxnet.symbol.Symbol.tanh), [ReLU](https://mxnet.incubator.apache.org/api/python/symbol/symbol.html#mxnet.symbol.Symbol.relu), [LeakyReLU, ELU, SeLU, PReLU, RReLU](https://mxnet.incubator.apache.org/api/python/symbol/symbol.html#mxnet.symbol.LeakyReLU)), uma função de custo ( [L1](https://mxnet.incubator.apache.org/api/python/gluon/loss.html#mxnet.gluon.loss.L2Loss), [L2](https://mxnet.incubator.apache.org/api/python/gluon/loss.html#mxnet.gluon.loss.L1Loss),[ Huber](https://mxnet.incubator.apache.org/api/python/gluon/loss.html#mxnet.gluon.loss.HuberLoss), [*Cross-Entropy*](https://mxnet.incubator.apache.org/api/python/gluon/loss.html#mxnet.gluon.loss.SoftmaxCrossEntropyLoss), [Hinge](https://mxnet.incubator.apache.org/api/python/gluon/loss.html#mxnet.gluon.loss.HingeLoss)), e um algoritmo de otimização ([SGD](https://mxnet.incubator.apache.org/api/python/optimization/optimization.html#mxnet.optimizer.SGD), [Momentum](https://mxnet.incubator.apache.org/api/python/optimization/optimization.html#mxnet.optimizer.SGD), [RMSProp](https://mxnet.incubator.apache.org/api/python/optimization/optimization.html#mxnet.optimizer.RMSProp), [Adam](https://mxnet.incubator.apache.org/api/python/optimization/optimization.html#mxnet.optimizer.Adam)).\n",
        "\n",
        "A leitura do dado assim como a função de treinamento já estão implementados."
      ]
    },
    {
      "cell_type": "markdown",
      "metadata": {
        "colab_type": "text",
        "id": "Gp6CwWnFnTwb"
      },
      "source": [
        "Esse pequeno bloco de código abaixo é usado somente para instalar o MXNet para CUDA 10. Execute esse bloco somente uma vez e ignore possíveis erros levantados durante a instalação.\n",
        "\n",
        "**ATENÇÃO: a alteração deste bloco pode implicar em problemas na execução dos blocos restantes!**"
      ]
    },
    {
      "cell_type": "code",
      "metadata": {
        "id": "QDmUdSu7TI9X",
        "colab_type": "code",
        "colab": {
          "base_uri": "https://localhost:8080/",
          "height": 156
        },
        "outputId": "fe8ebf39-da5f-4f66-f3e4-69dadd7b3fc5"
      },
      "source": [
        "pip install mxnet-cu100"
      ],
      "execution_count": 3,
      "outputs": [
        {
          "output_type": "stream",
          "text": [
            "Requirement already satisfied: mxnet-cu100 in /usr/local/lib/python3.6/dist-packages (1.5.0)\n",
            "Requirement already satisfied: graphviz<0.9.0,>=0.8.1 in /usr/local/lib/python3.6/dist-packages (from mxnet-cu100) (0.8.4)\n",
            "Requirement already satisfied: requests<3,>=2.20.0 in /usr/local/lib/python3.6/dist-packages (from mxnet-cu100) (2.21.0)\n",
            "Requirement already satisfied: numpy<2.0.0,>1.16.0 in /usr/local/lib/python3.6/dist-packages (from mxnet-cu100) (1.16.5)\n",
            "Requirement already satisfied: certifi>=2017.4.17 in /usr/local/lib/python3.6/dist-packages (from requests<3,>=2.20.0->mxnet-cu100) (2019.6.16)\n",
            "Requirement already satisfied: chardet<3.1.0,>=3.0.2 in /usr/local/lib/python3.6/dist-packages (from requests<3,>=2.20.0->mxnet-cu100) (3.0.4)\n",
            "Requirement already satisfied: urllib3<1.25,>=1.21.1 in /usr/local/lib/python3.6/dist-packages (from requests<3,>=2.20.0->mxnet-cu100) (1.24.3)\n",
            "Requirement already satisfied: idna<2.9,>=2.5 in /usr/local/lib/python3.6/dist-packages (from requests<3,>=2.20.0->mxnet-cu100) (2.8)\n"
          ],
          "name": "stdout"
        }
      ]
    },
    {
      "cell_type": "markdown",
      "metadata": {
        "id": "GBhWVABrTI9h",
        "colab_type": "text"
      },
      "source": [
        "# Preâmbulo"
      ]
    },
    {
      "cell_type": "code",
      "metadata": {
        "colab_type": "code",
        "id": "XW-VATPAldgt",
        "colab": {}
      },
      "source": [
        "# imports basicos\n",
        "\n",
        "from mxnet import autograd\n",
        "from mxnet import gluon\n",
        "from mxnet import init\n",
        "from mxnet import nd\n",
        "\n",
        "from mxnet.gluon import data as gdata\n",
        "from mxnet.gluon import loss as gloss\n",
        "from mxnet.gluon import nn\n",
        "from mxnet.gluon import utils as gutils\n",
        "\n",
        "from sklearn import preprocessing\n",
        "from sklearn.model_selection import train_test_split\n",
        "\n",
        "import mxnet as mx\n",
        "import numpy as np\n",
        "\n",
        "import os\n",
        "import sys\n",
        "import time"
      ],
      "execution_count": 0,
      "outputs": []
    },
    {
      "cell_type": "code",
      "metadata": {
        "id": "feiJrUHjTI9q",
        "colab_type": "code",
        "colab": {}
      },
      "source": [
        "import matplotlib.pyplot as plt\n",
        "plt.ion()"
      ],
      "execution_count": 0,
      "outputs": []
    },
    {
      "cell_type": "code",
      "metadata": {
        "id": "C5H-kS3oTI90",
        "colab_type": "code",
        "colab": {
          "base_uri": "https://localhost:8080/",
          "height": 34
        },
        "outputId": "d0a37d43-e610-4a59-dc39-91788c1a1179"
      },
      "source": [
        "# Tenta encontrar GPU\n",
        "def try_gpu():\n",
        "    try:\n",
        "        ctx = mx.gpu()\n",
        "        _ = nd.zeros((1,), ctx=ctx)\n",
        "    except mx.base.MXNetError:\n",
        "        ctx = mx.cpu()\n",
        "    return ctx\n",
        "\n",
        "ctx = try_gpu()\n",
        "ctx"
      ],
      "execution_count": 6,
      "outputs": [
        {
          "output_type": "execute_result",
          "data": {
            "text/plain": [
              "gpu(0)"
            ]
          },
          "metadata": {
            "tags": []
          },
          "execution_count": 6
        }
      ]
    },
    {
      "cell_type": "code",
      "metadata": {
        "colab_type": "code",
        "id": "8oSVf8u1Oi1m",
        "colab": {}
      },
      "source": [
        "# funções básicas\n",
        "\n",
        "def load_array(features, labels, batch_size, is_train=True):\n",
        "    \"\"\"Construct a Gluon data loader\"\"\"\n",
        "    dataset = gluon.data.ArrayDataset(features, labels)\n",
        "    return gluon.data.DataLoader(dataset, batch_size, shuffle=is_train)\n",
        "\n",
        "def _get_batch(batch, ctx):\n",
        "    \"\"\"Return features and labels on ctx.\"\"\"\n",
        "    features, labels = batch\n",
        "    if labels.dtype != features.dtype:\n",
        "        labels = labels.astype(features.dtype)\n",
        "    return (gutils.split_and_load(features, ctx),\n",
        "            gutils.split_and_load(labels, ctx), features.shape[0])\n",
        "\n",
        "# Função usada para calcular acurácia\n",
        "def evaluate_accuracy(data_iter, net, loss, ctx=[mx.cpu()]):\n",
        "    \"\"\"Evaluate accuracy of a model on the given data set.\"\"\"\n",
        "    if isinstance(ctx, mx.Context):\n",
        "        ctx = [ctx]\n",
        "    acc_sum, n, l = nd.array([0]), 0, 0\n",
        "    for batch in data_iter:\n",
        "        features, labels, _ = _get_batch(batch, ctx)\n",
        "        for X, y in zip(features, labels):\n",
        "            # X, y = X.as_in_context(ctx), y.as_in_context(ctx)\n",
        "            y = y.astype('float32')\n",
        "            y_hat = net(X)\n",
        "            l += loss(y_hat, y).sum()\n",
        "            acc_sum += (y_hat.argmax(axis=1) == y).sum().copyto(mx.cpu())\n",
        "            n += y.size\n",
        "        acc_sum.wait_to_read()\n",
        "    return acc_sum.asscalar() / n, l.asscalar() / n\n",
        "  \n",
        "    \n",
        "# Função usada no treinamento e validação da rede\n",
        "def train_validate(net, train_iter, test_iter, batch_size, trainer, loss, ctx,\n",
        "                   num_epochs, type='regression'):\n",
        "    print('training on', ctx)\n",
        "    for epoch in range(num_epochs):\n",
        "        train_l_sum, train_acc_sum, n, start = 0.0, 0.0, 0, time.time()\n",
        "        for X, y in train_iter:\n",
        "            X, y = X.as_in_context(ctx), y.as_in_context(ctx)\n",
        "            with autograd.record():\n",
        "                y_hat = net(X)\n",
        "                l = loss(y_hat, y).sum()\n",
        "            l.backward()\n",
        "            trainer.step(batch_size)\n",
        "            y = y.astype('float32')\n",
        "            train_l_sum += l.asscalar()\n",
        "            train_acc_sum += (y_hat.argmax(axis=1) == y).sum().asscalar()\n",
        "            n += y.size\n",
        "        test_acc, test_loss = evaluate_accuracy(test_iter, net, loss, ctx)\n",
        "        if type == 'regression':\n",
        "            print('epoch %d, train loss %.4f, test loss %.4f, time %.1f sec'\n",
        "                    % (epoch + 1, train_l_sum / n, test_loss, time.time() - start))\n",
        "        else:\n",
        "            print('epoch %d, train loss %.4f, train acc %.3f, test loss %.4f, ' \\\n",
        "                  'test acc %.3f, time %.1f sec' % \\\n",
        "                  (epoch + 1, train_l_sum / n, train_acc_sum / n, test_loss, test_acc, time.time() - start))\n",
        "          \n",
        "        \n",
        "# funcao usada para teste\n",
        "def test(net, test_iter):\n",
        "    print('testing on', ctx)\n",
        "    first = True\n",
        "    for X in test_iter:\n",
        "        X = X.as_in_context(ctx)\n",
        "        y_hat = net(X)\n",
        "        if first is True:\n",
        "            pred_logits = y_hat\n",
        "            pred_labels = y_hat.argmax(axis=1)\n",
        "            first = False\n",
        "        else:\n",
        "            pred_logits = nd.concat(pred_logits, y_hat, dim=0)\n",
        "            pred_labels = nd.concat(pred_labels, y_hat.argmax(axis=1), dim=0)\n",
        "\n",
        "    return pred_logits.asnumpy(), pred_labels.asnumpy()"
      ],
      "execution_count": 0,
      "outputs": []
    },
    {
      "cell_type": "markdown",
      "metadata": {
        "colab_type": "text",
        "id": "Y0m-qic-0Wnl"
      },
      "source": [
        "## Problema 1\n",
        "\n",
        "Neste problema, você receberá 7 *features* extraídas de poços de petróleo ('BRCALI', 'BRDENS', 'BRDTP', 'BRGR', 'BRNEUT', 'BRRESC', 'BRRESP') e deve predizer o tipo de rocha."
      ]
    },
    {
      "cell_type": "markdown",
      "metadata": {
        "colab_type": "text",
        "id": "U64ACnJoGsDv"
      },
      "source": [
        "### Treino e Validação\n",
        "\n",
        "Primeiro, vamos modelar uma rede neural e treiná-la.\n",
        "Usamos o dado de treino carregado no próximo bloco para convergir o modelo e o dado de validação para avaliar quão bom ele estão. "
      ]
    },
    {
      "cell_type": "code",
      "metadata": {
        "colab_type": "code",
        "id": "AUYOPZYH0Ztc",
        "colab": {
          "base_uri": "https://localhost:8080/",
          "height": 489
        },
        "outputId": "25e01bef-686a-451b-fb18-d4ffa646a62f"
      },
      "source": [
        "# download do dataset\n",
        "!wget https://www.dropbox.com/s/ujnqxh6l43tlbdi/poco_1.prn\n",
        "X = np.loadtxt('poco_1.prn', skiprows=11, usecols=(1,2,3,4,5,6,7), dtype=np.float32)\n",
        "y = np.loadtxt('poco_1.prn', skiprows=11, usecols=8, dtype=np.str)\n",
        "print(y)\n",
        "print(set(y))\n",
        "le = preprocessing.LabelEncoder()\n",
        "le.fit(list(set(y)))\n",
        "y_t = le.transform(y)\n",
        "\n",
        "print(X[0, :])\n",
        "print(y[0], y_t[0])\n",
        "print(y[960], y_t[960])\n",
        "train_features, test_features, train_labels, test_labels = train_test_split(X, y_t, test_size=0.33)\n",
        "\n",
        "def load_array(features, labels, batch_size, is_train=True):\n",
        "    \"\"\"Construct a Gluon data loader\"\"\"\n",
        "    dataset = gluon.data.ArrayDataset(features, labels)\n",
        "    return gluon.data.DataLoader(dataset, batch_size, shuffle=is_train)\n",
        "  \n"
      ],
      "execution_count": 48,
      "outputs": [
        {
          "output_type": "stream",
          "text": [
            "--2019-09-10 20:30:34--  https://www.dropbox.com/s/ujnqxh6l43tlbdi/poco_1.prn\n",
            "Resolving www.dropbox.com (www.dropbox.com)... 162.125.65.1, 2620:100:6021:1::a27d:4101\n",
            "Connecting to www.dropbox.com (www.dropbox.com)|162.125.65.1|:443... connected.\n",
            "HTTP request sent, awaiting response... 301 Moved Permanently\n",
            "Location: /s/raw/ujnqxh6l43tlbdi/poco_1.prn [following]\n",
            "--2019-09-10 20:30:34--  https://www.dropbox.com/s/raw/ujnqxh6l43tlbdi/poco_1.prn\n",
            "Reusing existing connection to www.dropbox.com:443.\n",
            "HTTP request sent, awaiting response... 302 Found\n",
            "Location: https://uc2f8a816f205a1bc49e9cd20461.dl.dropboxusercontent.com/cd/0/inline/AoXb5GNY5ZuBRJkARqEsLehPSjmoA_YGnTEXVm44kVnojeIJSbyPRL1rANsQ2SU_gwy1OF5rY-r1AiSAHmX3yofssDlrH8mGce0TjPOTf1vbKw/file# [following]\n",
            "--2019-09-10 20:30:35--  https://uc2f8a816f205a1bc49e9cd20461.dl.dropboxusercontent.com/cd/0/inline/AoXb5GNY5ZuBRJkARqEsLehPSjmoA_YGnTEXVm44kVnojeIJSbyPRL1rANsQ2SU_gwy1OF5rY-r1AiSAHmX3yofssDlrH8mGce0TjPOTf1vbKw/file\n",
            "Resolving uc2f8a816f205a1bc49e9cd20461.dl.dropboxusercontent.com (uc2f8a816f205a1bc49e9cd20461.dl.dropboxusercontent.com)... 162.125.65.6, 2620:100:6021:6::a27d:4106\n",
            "Connecting to uc2f8a816f205a1bc49e9cd20461.dl.dropboxusercontent.com (uc2f8a816f205a1bc49e9cd20461.dl.dropboxusercontent.com)|162.125.65.6|:443... connected.\n",
            "HTTP request sent, awaiting response... 200 OK\n",
            "Length: 216320 (211K) [text/plain]\n",
            "Saving to: ‘poco_1.prn.5’\n",
            "\n",
            "poco_1.prn.5        100%[===================>] 211.25K  --.-KB/s    in 0.04s   \n",
            "\n",
            "2019-09-10 20:30:35 (4.93 MB/s) - ‘poco_1.prn.5’ saved [216320/216320]\n",
            "\n",
            "['FLH' 'FLH' 'FLH' ... 'FLH' 'FLH' 'FLH']\n",
            "{'ARN_MAC', 'FLH'}\n",
            "[ 12.6936245   2.519692   89.70941   146.68591    27.542257    1.5375785\n",
            "   1.2207866]\n",
            "FLH 1\n",
            "ARN_MAC 0\n"
          ],
          "name": "stdout"
        }
      ]
    },
    {
      "cell_type": "code",
      "metadata": {
        "id": "Wvn6SQ4BtPMD",
        "colab_type": "code",
        "colab": {
          "base_uri": "https://localhost:8080/",
          "height": 34
        },
        "outputId": "e287f5f3-05d0-43ce-cb47-be41f2b936a2"
      },
      "source": [
        "#train_features, test_features, train_labels, test_landbels\n",
        "\n",
        "type(train_features[1])\n",
        "\n",
        "from sklearn.preprocessing import minmax_scale\n",
        "\n",
        "col1 = minmax_scale(train_features[:,0], feature_range=(0,1))\n",
        "col2 = minmax_scale(train_features[:,1], feature_range=(0,1)) \n",
        "col3 = minmax_scale(train_features[:,2], feature_range=(0,1)) \n",
        "col4 = minmax_scale(train_features[:,3], feature_range=(0,1)) \n",
        "col5 = minmax_scale(train_features[:,4], feature_range=(0,1)) \n",
        "col6 = minmax_scale(train_features[:,5], feature_range=(0,1)) \n",
        "col7 = minmax_scale(train_features[:,6], feature_range=(0,1)) \n",
        "\n",
        "train_features_norm = np.stack((col1,col2,col3,col4,col5,col6,col7), axis=1) #stack both columns to get a 2d array\n",
        "\n",
        "\n",
        "col1 = minmax_scale(test_features[:,0], feature_range=(0,1))\n",
        "col2 = minmax_scale(test_features[:,1], feature_range=(0,1)) \n",
        "col3 = minmax_scale(test_features[:,2], feature_range=(0,1)) \n",
        "col4 = minmax_scale(test_features[:,3], feature_range=(0,1)) \n",
        "col5 = minmax_scale(test_features[:,4], feature_range=(0,1)) \n",
        "col6 = minmax_scale(test_features[:,5], feature_range=(0,1)) \n",
        "col7 = minmax_scale(test_features[:,6], feature_range=(0,1)) \n",
        "test_features_norm = np.stack((col1,col2,col3,col4,col5,col6,col7), axis=1) #stack both columns to get a 2d array"
      ],
      "execution_count": 59,
      "outputs": [
        {
          "output_type": "stream",
          "text": [
            "1.8347847\n"
          ],
          "name": "stdout"
        }
      ]
    },
    {
      "cell_type": "code",
      "metadata": {
        "id": "SezWjL1Q3kW9",
        "colab_type": "code",
        "colab": {
          "base_uri": "https://localhost:8080/",
          "height": 34
        },
        "outputId": "61802a43-ef00-4932-e8c6-5b147418c159"
      },
      "source": [
        "train_features.shape[1]"
      ],
      "execution_count": 50,
      "outputs": [
        {
          "output_type": "execute_result",
          "data": {
            "text/plain": [
              "7"
            ]
          },
          "metadata": {
            "tags": []
          },
          "execution_count": 50
        }
      ]
    },
    {
      "cell_type": "code",
      "metadata": {
        "id": "EiKuDmFJvrNT",
        "colab_type": "code",
        "colab": {
          "base_uri": "https://localhost:8080/",
          "height": 382
        },
        "outputId": "d8875560-6544-402a-a240-7ca1e14119bf"
      },
      "source": [
        "batch_size = 30\n",
        "# primeiramente vamos fazer a normalização das features: \n",
        "\n",
        "\n",
        "\n",
        "\n",
        "train_iter = load_array(train_features_norm, train_labels, batch_size)\n",
        "test_iter = load_array(test_features_norm, test_labels, batch_size, False)\n",
        "\n",
        "\n",
        "# parâmetros: número de epochs, learning rate (ou taxa de aprendizado), e \n",
        "# tamanho do batch\n",
        "num_epochs, lr, batch_size = 20, 0.0, 1134\n",
        "\n",
        "# rede simples somente com perceptrons e camadas densamente conectadas\n",
        "net = nn.Sequential()\n",
        "net.add(nn.Dense(128, activation=\"relu\"),\n",
        "        nn.Dense(64, activation=\"relu\"),\n",
        "        nn.Dense(32, activation=\"relu\"),\n",
        "        nn.Dense(16, activation=\"relu\"),\n",
        "        nn.Dense(1))\n",
        "net.initialize(init.Normal(sigma=0.01), ctx=ctx)\n",
        "\n",
        "# função de custo (ou loss)\n",
        "loss = gloss.SoftmaxCrossEntropyLoss()\n",
        "\n",
        "# trainer do gluon\n",
        "trainer = gluon.Trainer(net.collect_params(), 'adam', {'learning_rate': lr})\n",
        "\n",
        "# treinamento e validação via MXNet\n",
        "train_validate(net, train_iter, test_iter, batch_size, trainer, loss, \n",
        "               ctx, num_epochs,type='')"
      ],
      "execution_count": 61,
      "outputs": [
        {
          "output_type": "stream",
          "text": [
            "training on gpu(0)\n",
            "epoch 1, train loss 0.0000, train acc 0.676, test loss 0.0000, test acc 0.644, time 0.3 sec\n",
            "epoch 2, train loss 0.0000, train acc 0.676, test loss 0.0000, test acc 0.644, time 0.3 sec\n",
            "epoch 3, train loss 0.0000, train acc 0.676, test loss 0.0000, test acc 0.644, time 0.3 sec\n",
            "epoch 4, train loss 0.0000, train acc 0.676, test loss 0.0000, test acc 0.644, time 0.3 sec\n",
            "epoch 5, train loss 0.0000, train acc 0.676, test loss 0.0000, test acc 0.644, time 0.3 sec\n",
            "epoch 6, train loss 0.0000, train acc 0.676, test loss 0.0000, test acc 0.644, time 0.3 sec\n",
            "epoch 7, train loss 0.0000, train acc 0.676, test loss 0.0000, test acc 0.644, time 0.3 sec\n",
            "epoch 8, train loss 0.0000, train acc 0.676, test loss 0.0000, test acc 0.644, time 0.3 sec\n",
            "epoch 9, train loss 0.0000, train acc 0.676, test loss 0.0000, test acc 0.644, time 0.3 sec\n",
            "epoch 10, train loss 0.0000, train acc 0.676, test loss 0.0000, test acc 0.644, time 0.3 sec\n",
            "epoch 11, train loss 0.0000, train acc 0.676, test loss 0.0000, test acc 0.644, time 0.3 sec\n",
            "epoch 12, train loss 0.0000, train acc 0.676, test loss 0.0000, test acc 0.644, time 0.3 sec\n",
            "epoch 13, train loss 0.0000, train acc 0.676, test loss 0.0000, test acc 0.644, time 0.3 sec\n",
            "epoch 14, train loss 0.0000, train acc 0.676, test loss 0.0000, test acc 0.644, time 0.3 sec\n",
            "epoch 15, train loss 0.0000, train acc 0.676, test loss 0.0000, test acc 0.644, time 0.3 sec\n",
            "epoch 16, train loss 0.0000, train acc 0.676, test loss 0.0000, test acc 0.644, time 0.3 sec\n",
            "epoch 17, train loss 0.0000, train acc 0.676, test loss 0.0000, test acc 0.644, time 0.3 sec\n",
            "epoch 18, train loss 0.0000, train acc 0.676, test loss 0.0000, test acc 0.644, time 0.3 sec\n",
            "epoch 19, train loss 0.0000, train acc 0.676, test loss 0.0000, test acc 0.644, time 0.3 sec\n",
            "epoch 20, train loss 0.0000, train acc 0.676, test loss 0.0000, test acc 0.644, time 0.3 sec\n"
          ],
          "name": "stdout"
        }
      ]
    },
    {
      "cell_type": "markdown",
      "metadata": {
        "colab_type": "text",
        "id": "Pd8hG7HCDUib"
      },
      "source": [
        "## Problema 2\n",
        "\n",
        "Neste problema, você receberá várias *features* (como altura média, inclinação, etc) descrevendo uma região e o modelo deve predizer qual o tipo da região (floresta, montanha, etc)."
      ]
    },
    {
      "cell_type": "code",
      "metadata": {
        "colab_type": "code",
        "id": "IZcIXGqBDznB",
        "outputId": "42daf0ee-54f5-4658-94a0-7d10d483e0d1",
        "colab": {
          "base_uri": "https://localhost:8080/",
          "height": 521
        }
      },
      "source": [
        "!wget http://archive.ics.uci.edu/ml/machine-learning-databases/covtype/covtype.data.gz\n",
        "!gzip covtype.data.gz\n",
        "data = np.genfromtxt('covtype.data', delimiter=',', dtype=np.float32)\n",
        "\n",
        "print(data.shape, data[0, :])\n",
        "X, y = data[:, :-1], data[:, -1]\n",
        "print(X.shape, X[0, :])\n",
        "print(y.shape, y[0])\n",
        "train_features, test_features, train_labels, test_labels = train_test_split(X, y, test_size=0.33, random_state=42)\n",
        "\n",
        "def load_array(features, labels, batch_size, is_train=True):\n",
        "    \"\"\"Construct a Gluon data loader\"\"\"\n",
        "    dataset = gluon.data.ArrayDataset(features, labels)\n",
        "    return gluon.data.DataLoader(dataset, batch_size, shuffle=is_train)\n",
        "  \n",
        "batch_size = 100\n",
        "train_iter = load_array(train_features, train_labels, batch_size)\n",
        "test_iter = load_array(test_features, test_labels, batch_size, False)"
      ],
      "execution_count": 31,
      "outputs": [
        {
          "output_type": "stream",
          "text": [
            "--2019-09-10 20:15:24--  http://archive.ics.uci.edu/ml/machine-learning-databases/covtype/covtype.data.gz\n",
            "Resolving archive.ics.uci.edu (archive.ics.uci.edu)... 128.195.10.252\n",
            "Connecting to archive.ics.uci.edu (archive.ics.uci.edu)|128.195.10.252|:80... connected.\n",
            "HTTP request sent, awaiting response... 200 OK\n",
            "Length: 11240707 (11M) [application/x-httpd-php]\n",
            "Saving to: ‘covtype.data.gz’\n",
            "\n",
            "covtype.data.gz     100%[===================>]  10.72M  1.71MB/s    in 8.6s    \n",
            "\n",
            "2019-09-10 20:15:33 (1.24 MB/s) - ‘covtype.data.gz’ saved [11240707/11240707]\n",
            "\n",
            "gzip: covtype.data.gz already has .gz suffix -- unchanged\n",
            "(581012, 55) [2.596e+03 5.100e+01 3.000e+00 2.580e+02 0.000e+00 5.100e+02 2.210e+02\n",
            " 2.320e+02 1.480e+02 6.279e+03 1.000e+00 0.000e+00 0.000e+00 0.000e+00\n",
            " 0.000e+00 0.000e+00 0.000e+00 0.000e+00 0.000e+00 0.000e+00 0.000e+00\n",
            " 0.000e+00 0.000e+00 0.000e+00 0.000e+00 0.000e+00 0.000e+00 0.000e+00\n",
            " 0.000e+00 0.000e+00 0.000e+00 0.000e+00 0.000e+00 0.000e+00 0.000e+00\n",
            " 0.000e+00 0.000e+00 0.000e+00 0.000e+00 0.000e+00 0.000e+00 0.000e+00\n",
            " 1.000e+00 0.000e+00 0.000e+00 0.000e+00 0.000e+00 0.000e+00 0.000e+00\n",
            " 0.000e+00 0.000e+00 0.000e+00 0.000e+00 0.000e+00 5.000e+00]\n",
            "(581012, 54) [2.596e+03 5.100e+01 3.000e+00 2.580e+02 0.000e+00 5.100e+02 2.210e+02\n",
            " 2.320e+02 1.480e+02 6.279e+03 1.000e+00 0.000e+00 0.000e+00 0.000e+00\n",
            " 0.000e+00 0.000e+00 0.000e+00 0.000e+00 0.000e+00 0.000e+00 0.000e+00\n",
            " 0.000e+00 0.000e+00 0.000e+00 0.000e+00 0.000e+00 0.000e+00 0.000e+00\n",
            " 0.000e+00 0.000e+00 0.000e+00 0.000e+00 0.000e+00 0.000e+00 0.000e+00\n",
            " 0.000e+00 0.000e+00 0.000e+00 0.000e+00 0.000e+00 0.000e+00 0.000e+00\n",
            " 1.000e+00 0.000e+00 0.000e+00 0.000e+00 0.000e+00 0.000e+00 0.000e+00\n",
            " 0.000e+00 0.000e+00 0.000e+00 0.000e+00 0.000e+00]\n",
            "(581012,) 5.0\n"
          ],
          "name": "stdout"
        }
      ]
    },
    {
      "cell_type": "code",
      "metadata": {
        "id": "7WUHkKmo0AdR",
        "colab_type": "code",
        "colab": {}
      },
      "source": [
        ""
      ],
      "execution_count": 0,
      "outputs": []
    },
    {
      "cell_type": "markdown",
      "metadata": {
        "colab_type": "text",
        "id": "IDaRVNq1aMpm"
      },
      "source": [
        "## Problema 3\n",
        "\n",
        "Neste problema, você receberá 90 *features* extraídas de diversas músicas (datadas de 1922 até 2011) e deve predizer o ano de cada música."
      ]
    },
    {
      "cell_type": "code",
      "metadata": {
        "colab_type": "code",
        "id": "CWdBT3zhW_Y5",
        "colab": {}
      },
      "source": [
        "# download do dataset\n",
        "!wget http://archive.ics.uci.edu/ml/machine-learning-databases/00203/YearPredictionMSD.txt.zip\n",
        "!unzip YearPredictionMSD.txt.zip\n",
        "data = np.genfromtxt('YearPredictionMSD.txt', delimiter=',', dtype=np.float32)\n",
        "\n",
        "print(data[0, :])\n",
        "X, y = data[:, 1:], data[:, 0]\n",
        "train_features, test_features, train_labels, test_labels = train_test_split(X, y, test_size=0.33, random_state=42)\n",
        "\n",
        "def load_array(features, labels, batch_size, is_train=True):\n",
        "    \"\"\"Construct a Gluon data loader\"\"\"\n",
        "    dataset = gluon.data.ArrayDataset(features, labels)\n",
        "    return gluon.data.DataLoader(dataset, batch_size, shuffle=is_train)\n",
        "  \n",
        "batch_size = 100\n",
        "train_iter = load_array(train_features, train_labels, batch_size)\n",
        "test_iter = load_array(test_features, test_labels, batch_size, False)"
      ],
      "execution_count": 0,
      "outputs": []
    }
  ]
}