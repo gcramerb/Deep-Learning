{
  "nbformat": 4,
  "nbformat_minor": 0,
  "metadata": {
    "accelerator": "GPU",
    "colab": {
      "name": "04.1 - Problemas_v2.ipynb",
      "version": "0.3.2",
      "provenance": [],
      "collapsed_sections": [
        "Pd8hG7HCDUib",
        "IDaRVNq1aMpm"
      ]
    },
    "kernelspec": {
      "display_name": "Python 3",
      "language": "python",
      "name": "python3"
    },
    "language_info": {
      "codemirror_mode": {
        "name": "ipython",
        "version": 3
      },
      "file_extension": ".py",
      "mimetype": "text/x-python",
      "name": "python",
      "nbconvert_exporter": "python",
      "pygments_lexer": "ipython3",
      "version": "3.6.8"
    }
  },
  "cells": [
    {
      "cell_type": "markdown",
      "metadata": {
        "colab_type": "text",
        "id": "Ed03SC1Jm9Yy"
      },
      "source": [
        "## Aprendizado Profundo - UFMG\n",
        "\n",
        "## Problemas\n",
        "\n",
        "Como vimos acima, há muitos passos na criação e definição de uma nova rede neural.\n",
        "A grande parte desses ajustes dependem diretamente do problemas.\n",
        "\n",
        "Abaixo, listamos alguns problemas. Todos os problemas e datasets usados vem do [Center for Machine Learning and Intelligent Systems](http://archive.ics.uci.edu/ml/datasets.php).\n",
        "\n",
        "\n",
        "**Seu objetivo é determinar e implementar um modelo para cada problema.**\n",
        "\n",
        "Isso inclui definir uma arquitetura (por enquanto usando somente camadas [Densas](https://mxnet.incubator.apache.org/api/python/gluon/nn.html#mxnet.gluon.nn.Dense), porém podemos variar as ativações -- [Sigmoid](https://mxnet.incubator.apache.org/api/python/symbol/symbol.html#mxnet.symbol.Symbol.sigmoid), [Tanh](https://mxnet.incubator.apache.org/api/python/symbol/symbol.html#mxnet.symbol.Symbol.tanh), [ReLU](https://mxnet.incubator.apache.org/api/python/symbol/symbol.html#mxnet.symbol.Symbol.relu), [LeakyReLU, ELU, SeLU, PReLU, RReLU](https://mxnet.incubator.apache.org/api/python/symbol/symbol.html#mxnet.symbol.LeakyReLU)), uma função de custo ( [L1](https://mxnet.incubator.apache.org/api/python/gluon/loss.html#mxnet.gluon.loss.L2Loss), [L2](https://mxnet.incubator.apache.org/api/python/gluon/loss.html#mxnet.gluon.loss.L1Loss),[ Huber](https://mxnet.incubator.apache.org/api/python/gluon/loss.html#mxnet.gluon.loss.HuberLoss), [*Cross-Entropy*](https://mxnet.incubator.apache.org/api/python/gluon/loss.html#mxnet.gluon.loss.SoftmaxCrossEntropyLoss), [Hinge](https://mxnet.incubator.apache.org/api/python/gluon/loss.html#mxnet.gluon.loss.HingeLoss)), e um algoritmo de otimização ([SGD](https://mxnet.incubator.apache.org/api/python/optimization/optimization.html#mxnet.optimizer.SGD), [Momentum](https://mxnet.incubator.apache.org/api/python/optimization/optimization.html#mxnet.optimizer.SGD), [RMSProp](https://mxnet.incubator.apache.org/api/python/optimization/optimization.html#mxnet.optimizer.RMSProp), [Adam](https://mxnet.incubator.apache.org/api/python/optimization/optimization.html#mxnet.optimizer.Adam)).\n",
        "\n",
        "A leitura do dado assim como a função de treinamento já estão implementados."
      ]
    },
    {
      "cell_type": "markdown",
      "metadata": {
        "colab_type": "text",
        "id": "Gp6CwWnFnTwb"
      },
      "source": [
        "Esse pequeno bloco de código abaixo é usado somente para instalar o MXNet para CUDA 10. Execute esse bloco somente uma vez e ignore possíveis erros levantados durante a instalação.\n",
        "\n",
        "**ATENÇÃO: a alteração deste bloco pode implicar em problemas na execução dos blocos restantes!**"
      ]
    },
    {
      "cell_type": "code",
      "metadata": {
        "id": "QDmUdSu7TI9X",
        "colab_type": "code",
        "outputId": "83dc07c6-bc92-439e-cb8a-4d3deda5a6a2",
        "colab": {
          "base_uri": "https://localhost:8080/",
          "height": 153
        }
      },
      "source": [
        "pip install mxnet-cu100"
      ],
      "execution_count": 62,
      "outputs": [
        {
          "output_type": "stream",
          "text": [
            "Requirement already satisfied: mxnet-cu100 in /usr/local/lib/python3.6/dist-packages (1.5.0)\n",
            "Requirement already satisfied: graphviz<0.9.0,>=0.8.1 in /usr/local/lib/python3.6/dist-packages (from mxnet-cu100) (0.8.4)\n",
            "Requirement already satisfied: requests<3,>=2.20.0 in /usr/local/lib/python3.6/dist-packages (from mxnet-cu100) (2.21.0)\n",
            "Requirement already satisfied: numpy<2.0.0,>1.16.0 in /usr/local/lib/python3.6/dist-packages (from mxnet-cu100) (1.16.5)\n",
            "Requirement already satisfied: certifi>=2017.4.17 in /usr/local/lib/python3.6/dist-packages (from requests<3,>=2.20.0->mxnet-cu100) (2019.6.16)\n",
            "Requirement already satisfied: urllib3<1.25,>=1.21.1 in /usr/local/lib/python3.6/dist-packages (from requests<3,>=2.20.0->mxnet-cu100) (1.24.3)\n",
            "Requirement already satisfied: chardet<3.1.0,>=3.0.2 in /usr/local/lib/python3.6/dist-packages (from requests<3,>=2.20.0->mxnet-cu100) (3.0.4)\n",
            "Requirement already satisfied: idna<2.9,>=2.5 in /usr/local/lib/python3.6/dist-packages (from requests<3,>=2.20.0->mxnet-cu100) (2.8)\n"
          ],
          "name": "stdout"
        }
      ]
    },
    {
      "cell_type": "markdown",
      "metadata": {
        "id": "GBhWVABrTI9h",
        "colab_type": "text"
      },
      "source": [
        "# Preâmbulo"
      ]
    },
    {
      "cell_type": "code",
      "metadata": {
        "colab_type": "code",
        "id": "XW-VATPAldgt",
        "colab": {}
      },
      "source": [
        "# imports basicos\n",
        "\n",
        "from mxnet import autograd\n",
        "from mxnet import gluon\n",
        "from mxnet import init\n",
        "from mxnet import nd\n",
        "\n",
        "from mxnet.gluon import data as gdata\n",
        "from mxnet.gluon import loss as gloss\n",
        "from mxnet.gluon import nn\n",
        "from mxnet.gluon import utils as gutils\n",
        "\n",
        "from sklearn import preprocessing\n",
        "from sklearn.model_selection import train_test_split\n",
        "\n",
        "import mxnet as mx\n",
        "import numpy as np\n",
        "\n",
        "import os\n",
        "import sys\n",
        "import time"
      ],
      "execution_count": 0,
      "outputs": []
    },
    {
      "cell_type": "code",
      "metadata": {
        "id": "feiJrUHjTI9q",
        "colab_type": "code",
        "colab": {}
      },
      "source": [
        "import matplotlib.pyplot as plt\n",
        "plt.ion()"
      ],
      "execution_count": 0,
      "outputs": []
    },
    {
      "cell_type": "code",
      "metadata": {
        "id": "C5H-kS3oTI90",
        "colab_type": "code",
        "outputId": "bf675108-7ee2-4a74-ad5a-bf3412b114b8",
        "colab": {
          "base_uri": "https://localhost:8080/",
          "height": 34
        }
      },
      "source": [
        "# Tenta encontrar GPU\n",
        "def try_gpu():\n",
        "    try:\n",
        "        ctx = mx.gpu()\n",
        "        _ = nd.zeros((1,), ctx=ctx)\n",
        "    except mx.base.MXNetError:\n",
        "        ctx = mx.cpu()\n",
        "    return ctx\n",
        "\n",
        "ctx = try_gpu()\n",
        "ctx"
      ],
      "execution_count": 65,
      "outputs": [
        {
          "output_type": "execute_result",
          "data": {
            "text/plain": [
              "gpu(0)"
            ]
          },
          "metadata": {
            "tags": []
          },
          "execution_count": 65
        }
      ]
    },
    {
      "cell_type": "code",
      "metadata": {
        "colab_type": "code",
        "id": "8oSVf8u1Oi1m",
        "colab": {}
      },
      "source": [
        "# funções básicas\n",
        "\n",
        "def load_array(features, labels, batch_size, is_train=True):\n",
        "    \"\"\"Construct a Gluon data loader\"\"\"\n",
        "    dataset = gluon.data.ArrayDataset(features, labels)\n",
        "    return gluon.data.DataLoader(dataset, batch_size, shuffle=is_train)\n",
        "\n",
        "def _get_batch(batch, ctx):\n",
        "    \"\"\"Return features and labels on ctx.\"\"\"\n",
        "    features, labels = batch\n",
        "    if labels.dtype != features.dtype:\n",
        "        labels = labels.astype(features.dtype)\n",
        "    return (gutils.split_and_load(features, ctx),\n",
        "            gutils.split_and_load(labels, ctx), features.shape[0])\n",
        "\n",
        "# Função usada para calcular acurácia\n",
        "def evaluate_accuracy(data_iter, net, loss, ctx=[mx.cpu()]):\n",
        "    \"\"\"Evaluate accuracy of a model on the given data set.\"\"\"\n",
        "    if isinstance(ctx, mx.Context):\n",
        "        ctx = [ctx]\n",
        "    acc_sum, n, l = nd.array([0]), 0, 0\n",
        "    for batch in data_iter:\n",
        "        features, labels, _ = _get_batch(batch, ctx)\n",
        "        for X, y in zip(features, labels):\n",
        "            # X, y = X.as_in_context(ctx), y.as_in_context(ctx)\n",
        "            y = y.astype('float32')\n",
        "            y_hat = net(X)\n",
        "            l += loss(y_hat, y).sum()\n",
        "            acc_sum += (y_hat.argmax(axis=1) == y).sum().copyto(mx.cpu())\n",
        "            n += y.size\n",
        "        acc_sum.wait_to_read()\n",
        "    return acc_sum.asscalar() / n, l.asscalar() / n\n",
        "  \n",
        "    \n",
        "# Função usada no treinamento e validação da rede\n",
        "def train_validate(net, train_iter, test_iter, batch_size, trainer, loss, ctx,\n",
        "                   num_epochs, type='regression'):\n",
        "    print('training on', ctx)\n",
        "    for epoch in range(num_epochs):\n",
        "        train_l_sum, train_acc_sum, n, start = 0.0, 0.0, 0, time.time()\n",
        "        for X, y in train_iter:\n",
        "            X, y = X.as_in_context(ctx), y.as_in_context(ctx)\n",
        "            with autograd.record():\n",
        "                y_hat = net(X)\n",
        "                l = loss(y_hat, y).sum()\n",
        "            l.backward()\n",
        "            trainer.step(batch_size)\n",
        "            y = y.astype('float32')\n",
        "            train_l_sum += l.asscalar()\n",
        "            train_acc_sum += (y_hat.argmax(axis=1) == y).sum().asscalar()\n",
        "            n += y.size\n",
        "        test_acc, test_loss = evaluate_accuracy(test_iter, net, loss, ctx)\n",
        "        if type == 'regression':\n",
        "            print('epoch %d, train loss %.4f, test loss %.4f, time %.1f sec'\n",
        "                    % (epoch + 1, train_l_sum / n, test_loss, time.time() - start))\n",
        "        else:\n",
        "            print('epoch %d, train loss %.4f, train acc %.3f, test loss %.4f, ' \\\n",
        "                  'test acc %.3f, time %.1f sec' % \\\n",
        "                  (epoch + 1, train_l_sum / n, train_acc_sum / n, test_loss, test_acc, time.time() - start))\n",
        "          \n",
        "        \n",
        "# funcao usada para teste\n",
        "def test(net, test_iter):\n",
        "    print('testing on', ctx)\n",
        "    first = True\n",
        "    for X in test_iter:\n",
        "        X = X.as_in_context(ctx)\n",
        "        y_hat = net(X)\n",
        "        if first is True:\n",
        "            pred_logits = y_hat\n",
        "            pred_labels = y_hat.argmax(axis=1)\n",
        "            first = False\n",
        "        else:\n",
        "            pred_logits = nd.concat(pred_logits, y_hat, dim=0)\n",
        "            pred_labels = nd.concat(pred_labels, y_hat.argmax(axis=1), dim=0)\n",
        "\n",
        "    return pred_logits.asnumpy(), pred_labels.asnumpy()"
      ],
      "execution_count": 0,
      "outputs": []
    },
    {
      "cell_type": "markdown",
      "metadata": {
        "colab_type": "text",
        "id": "Y0m-qic-0Wnl"
      },
      "source": [
        "## Problema 1\n",
        "\n",
        "Neste problema, você receberá 7 *features* extraídas de poços de petróleo ('BRCALI', 'BRDENS', 'BRDTP', 'BRGR', 'BRNEUT', 'BRRESC', 'BRRESP') e deve predizer o tipo de rocha."
      ]
    },
    {
      "cell_type": "markdown",
      "metadata": {
        "colab_type": "text",
        "id": "U64ACnJoGsDv"
      },
      "source": [
        "### Treino e Validação\n",
        "\n",
        "Primeiro, vamos modelar uma rede neural e treiná-la.\n",
        "Usamos o dado de treino carregado no próximo bloco para convergir o modelo e o dado de validação para avaliar quão bom ele estão. "
      ]
    },
    {
      "cell_type": "code",
      "metadata": {
        "colab_type": "code",
        "id": "AUYOPZYH0Ztc",
        "outputId": "06082834-7474-4d3e-e31d-da7935137f1f",
        "colab": {
          "base_uri": "https://localhost:8080/",
          "height": 479
        }
      },
      "source": [
        "# download do dataset\n",
        "!wget https://www.dropbox.com/s/ujnqxh6l43tlbdi/poco_1.prn\n",
        "X = np.loadtxt('poco_1.prn', skiprows=11, usecols=(1,2,3,4,5,6,7), dtype=np.float32)\n",
        "y = np.loadtxt('poco_1.prn', skiprows=11, usecols=8, dtype=np.str)\n",
        "print(y)\n",
        "print(set(y))\n",
        "le = preprocessing.LabelEncoder()\n",
        "le.fit(list(set(y)))\n",
        "y_t = le.transform(y)\n",
        "\n",
        "print(X[0, :])\n",
        "print(y[0], y_t[0])\n",
        "print(y[960], y_t[960])\n",
        "train_features, test_features, train_labels, test_labels = train_test_split(X, y_t, test_size=0.33)\n",
        "\n",
        "def load_array(features, labels, batch_size, is_train=True):\n",
        "    \"\"\"Construct a Gluon data loader\"\"\"\n",
        "    dataset = gluon.data.ArrayDataset(features, labels)\n",
        "    return gluon.data.DataLoader(dataset, batch_size, shuffle=is_train)\n",
        "  \n"
      ],
      "execution_count": 67,
      "outputs": [
        {
          "output_type": "stream",
          "text": [
            "--2019-09-10 22:57:57--  https://www.dropbox.com/s/ujnqxh6l43tlbdi/poco_1.prn\n",
            "Resolving www.dropbox.com (www.dropbox.com)... 162.125.65.1, 2620:100:6021:1::a27d:4101\n",
            "Connecting to www.dropbox.com (www.dropbox.com)|162.125.65.1|:443... connected.\n",
            "HTTP request sent, awaiting response... 301 Moved Permanently\n",
            "Location: /s/raw/ujnqxh6l43tlbdi/poco_1.prn [following]\n",
            "--2019-09-10 22:57:57--  https://www.dropbox.com/s/raw/ujnqxh6l43tlbdi/poco_1.prn\n",
            "Reusing existing connection to www.dropbox.com:443.\n",
            "HTTP request sent, awaiting response... 302 Found\n",
            "Location: https://uc3878fb48ee9a5500fb3433f664.dl.dropboxusercontent.com/cd/0/inline/AoV5JxgFlKOgBwnRpmk9-iyt-dZ1Uod2yZ0vogitO4wE3mN0PIsUSCdowsCt4b3yko3by8txC9qruAAh0-Suvc2kXgRMOf9Dzr8hGaSx2lUiyA/file# [following]\n",
            "--2019-09-10 22:57:58--  https://uc3878fb48ee9a5500fb3433f664.dl.dropboxusercontent.com/cd/0/inline/AoV5JxgFlKOgBwnRpmk9-iyt-dZ1Uod2yZ0vogitO4wE3mN0PIsUSCdowsCt4b3yko3by8txC9qruAAh0-Suvc2kXgRMOf9Dzr8hGaSx2lUiyA/file\n",
            "Resolving uc3878fb48ee9a5500fb3433f664.dl.dropboxusercontent.com (uc3878fb48ee9a5500fb3433f664.dl.dropboxusercontent.com)... 162.125.65.6, 2620:100:6021:6::a27d:4106\n",
            "Connecting to uc3878fb48ee9a5500fb3433f664.dl.dropboxusercontent.com (uc3878fb48ee9a5500fb3433f664.dl.dropboxusercontent.com)|162.125.65.6|:443... connected.\n",
            "HTTP request sent, awaiting response... 200 OK\n",
            "Length: 216320 (211K) [text/plain]\n",
            "Saving to: ‘poco_1.prn.6’\n",
            "\n",
            "poco_1.prn.6        100%[===================>] 211.25K   840KB/s    in 0.3s    \n",
            "\n",
            "2019-09-10 22:57:58 (840 KB/s) - ‘poco_1.prn.6’ saved [216320/216320]\n",
            "\n",
            "['FLH' 'FLH' 'FLH' ... 'FLH' 'FLH' 'FLH']\n",
            "{'ARN_MAC', 'FLH'}\n",
            "[ 12.6936245   2.519692   89.70941   146.68591    27.542257    1.5375785\n",
            "   1.2207866]\n",
            "FLH 1\n",
            "ARN_MAC 0\n"
          ],
          "name": "stdout"
        }
      ]
    },
    {
      "cell_type": "code",
      "metadata": {
        "id": "Wvn6SQ4BtPMD",
        "colab_type": "code",
        "colab": {}
      },
      "source": [
        "#train_features, test_features, train_labels, test_landbels\n",
        "\n",
        "type(train_features[1])\n",
        "\n",
        "from sklearn.preprocessing import minmax_scale\n",
        "\n",
        "col1 = minmax_scale(train_features[:,0], feature_range=(0,1))\n",
        "col2 = minmax_scale(train_features[:,1], feature_range=(0,1)) \n",
        "col3 = minmax_scale(train_features[:,2], feature_range=(0,1)) \n",
        "col4 = minmax_scale(train_features[:,3], feature_range=(0,1)) \n",
        "col5 = minmax_scale(train_features[:,4], feature_range=(0,1)) \n",
        "col6 = minmax_scale(train_features[:,5], feature_range=(0,1)) \n",
        "col7 = minmax_scale(train_features[:,6], feature_range=(0,1)) \n",
        "\n",
        "train_features_norm = np.stack((col1,col2,col3,col4,col5,col6,col7), axis=1) #stack both columns to get a 2d array\n",
        "\n",
        "\n",
        "col1 = minmax_scale(test_features[:,0], feature_range=(0,1))\n",
        "col2 = minmax_scale(test_features[:,1], feature_range=(0,1)) \n",
        "col3 = minmax_scale(test_features[:,2], feature_range=(0,1)) \n",
        "col4 = minmax_scale(test_features[:,3], feature_range=(0,1)) \n",
        "col5 = minmax_scale(test_features[:,4], feature_range=(0,1)) \n",
        "col6 = minmax_scale(test_features[:,5], feature_range=(0,1)) \n",
        "col7 = minmax_scale(test_features[:,6], feature_range=(0,1)) \n",
        "test_features_norm = np.stack((col1,col2,col3,col4,col5,col6,col7), axis=1) #stack both columns to get a 2d array"
      ],
      "execution_count": 0,
      "outputs": []
    },
    {
      "cell_type": "code",
      "metadata": {
        "id": "SezWjL1Q3kW9",
        "colab_type": "code",
        "outputId": "61802a43-ef00-4932-e8c6-5b147418c159",
        "colab": {
          "base_uri": "https://localhost:8080/",
          "height": 34
        }
      },
      "source": [
        "train_features.shape[1]"
      ],
      "execution_count": 0,
      "outputs": [
        {
          "output_type": "execute_result",
          "data": {
            "text/plain": [
              "7"
            ]
          },
          "metadata": {
            "tags": []
          },
          "execution_count": 50
        }
      ]
    },
    {
      "cell_type": "code",
      "metadata": {
        "id": "EiKuDmFJvrNT",
        "colab_type": "code",
        "outputId": "e6049324-c564-4b23-d0db-2f6c85624eaf",
        "colab": {
          "base_uri": "https://localhost:8080/",
          "height": 374
        }
      },
      "source": [
        "batch_size = 2\n",
        "# primeiramente vamos fazer a normalização das features: \n",
        "\n",
        "\n",
        "\n",
        "\n",
        "train_iter = load_array(train_features_norm, train_labels, batch_size)\n",
        "test_iter = load_array(test_features_norm, test_labels, batch_size, False)\n",
        "\n",
        "\n",
        "# parâmetros: número de epochs, learning rate (ou taxa de aprendizado), e \n",
        "# tamanho do batch\n",
        "num_epochs, lr, batch_size = 20, 1, 50\n",
        "\n",
        "# rede simples somente com perceptrons e camadas densamente conectadas\n",
        "net = nn.Sequential()\n",
        "net.add(nn.Dense(128, activation=\"relu\"),\n",
        "\n",
        "        nn.Dense(16, activation=\"relu\"),\n",
        "        nn.Dense(128, activation=\"relu\"),\n",
        "\n",
        "        nn.Dense(16, activation=\"relu\"),\n",
        "        nn.Dense(128, activation=\"relu\"),\n",
        "\n",
        "        nn.Dense(16, activation=\"relu\"),\n",
        "        nn.Dense(128, activation=\"relu\"),\n",
        "\n",
        "        nn.Dense(16, activation=\"relu\"),\n",
        "        nn.Dense(128, activation=\"relu\"),\n",
        "\n",
        "        nn.Dense(16, activation=\"relu\"),\n",
        "        nn.Dense(2))\n",
        "net.initialize(init.Normal(sigma=0.01), ctx=ctx)\n",
        "\n",
        "# função de custo (ou loss)\n",
        "loss = gloss.SoftmaxCrossEntropyLoss()\n",
        "\n",
        "\n",
        "# trainer do gluon\n",
        "trainer = gluon.Trainer(net.collect_params(), 'adam', {'learning_rate': lr})\n",
        "\n",
        "# treinamento e validação via MXNet\n",
        "train_validate(net, train_iter, test_iter, batch_size, trainer, loss, ctx, num_epochs,type='')"
      ],
      "execution_count": 88,
      "outputs": [
        {
          "output_type": "stream",
          "text": [
            "training on gpu(0)\n",
            "epoch 1, train loss 0.7917, train acc 0.589, test loss 0.6377, test acc 0.671, time 6.4 sec\n",
            "epoch 2, train loss 0.8794, train acc 0.586, test loss 0.7356, test acc 0.671, time 6.4 sec\n",
            "epoch 3, train loss 0.7943, train acc 0.587, test loss 0.6388, test acc 0.671, time 6.3 sec\n",
            "epoch 4, train loss 0.8441, train acc 0.563, test loss 0.9354, test acc 0.671, time 6.3 sec\n",
            "epoch 5, train loss 0.8165, train acc 0.587, test loss 0.7366, test acc 0.329, time 6.3 sec\n",
            "epoch 6, train loss 0.7886, train acc 0.593, test loss 0.6644, test acc 0.671, time 6.3 sec\n",
            "epoch 7, train loss 0.7837, train acc 0.593, test loss 0.6456, test acc 0.671, time 6.4 sec\n",
            "epoch 8, train loss 0.8094, train acc 0.589, test loss 1.0255, test acc 0.329, time 6.3 sec\n",
            "epoch 9, train loss 0.7843, train acc 0.586, test loss 0.6358, test acc 0.671, time 6.4 sec\n",
            "epoch 10, train loss 0.8769, train acc 0.566, test loss 0.7010, test acc 0.329, time 6.3 sec\n",
            "epoch 11, train loss 0.7598, train acc 0.607, test loss 0.9357, test acc 0.329, time 6.4 sec\n",
            "epoch 12, train loss 0.7755, train acc 0.573, test loss 0.6574, test acc 0.671, time 6.4 sec\n",
            "epoch 13, train loss 0.8371, train acc 0.575, test loss 0.6336, test acc 0.671, time 6.4 sec\n",
            "epoch 14, train loss 0.7866, train acc 0.600, test loss 0.6564, test acc 0.671, time 6.4 sec\n",
            "epoch 15, train loss 0.8105, train acc 0.593, test loss 0.6341, test acc 0.671, time 6.5 sec\n",
            "epoch 16, train loss 0.8029, train acc 0.570, test loss 0.6609, test acc 0.671, time 6.3 sec\n",
            "epoch 17, train loss 0.7672, train acc 0.589, test loss 0.6339, test acc 0.671, time 6.6 sec\n",
            "epoch 18, train loss 0.7572, train acc 0.600, test loss 1.0534, test acc 0.671, time 6.5 sec\n",
            "epoch 19, train loss 0.8096, train acc 0.594, test loss 0.7095, test acc 0.329, time 6.3 sec\n",
            "epoch 20, train loss 0.7374, train acc 0.596, test loss 0.7142, test acc 0.671, time 6.4 sec\n"
          ],
          "name": "stdout"
        }
      ]
    },
    {
      "cell_type": "markdown",
      "metadata": {
        "colab_type": "text",
        "id": "Pd8hG7HCDUib"
      },
      "source": [
        "## Problema 2\n",
        "\n",
        "Neste problema, você receberá várias *features* (como altura média, inclinação, etc) descrevendo uma região e o modelo deve predizer qual o tipo da região (floresta, montanha, etc)."
      ]
    },
    {
      "cell_type": "code",
      "metadata": {
        "colab_type": "code",
        "id": "IZcIXGqBDznB",
        "outputId": "11e84ff1-0d41-4e6b-bbe1-74031cce29ad",
        "colab": {
          "base_uri": "https://localhost:8080/",
          "height": 510
        }
      },
      "source": [
        "!wget http://archive.ics.uci.edu/ml/machine-learning-databases/covtype/covtype.data.gz\n",
        "!gzip covtype.data.gz\n",
        "data = np.genfromtxt('covtype.data', delimiter=',', dtype=np.float32)\n",
        "\n",
        "print(data.shape, data[0, :])\n",
        "X, y = data[:, :-1], data[:, -1]\n",
        "print(X.shape, X[0, :])\n",
        "print(y.shape, y[0])\n",
        "train_features, test_features, train_labels, test_labels = train_test_split(X, y, test_size=0.33, random_state=42)\n",
        "\n",
        "def load_array(features, labels, batch_size, is_train=True):\n",
        "    \"\"\"Construct a Gluon data loader\"\"\"\n",
        "    dataset = gluon.data.ArrayDataset(features, labels)\n",
        "    return gluon.data.DataLoader(dataset, batch_size, shuffle=is_train)\n",
        "  \n",
        "batch_size = 100\n",
        "train_iter = load_array(train_features, train_labels, batch_size)\n",
        "test_iter = load_array(test_features, test_labels, batch_size, False)"
      ],
      "execution_count": 95,
      "outputs": [
        {
          "output_type": "stream",
          "text": [
            "--2019-09-11 00:53:23--  http://archive.ics.uci.edu/ml/machine-learning-databases/covtype/covtype.data.gz\n",
            "Resolving archive.ics.uci.edu (archive.ics.uci.edu)... 128.195.10.252\n",
            "Connecting to archive.ics.uci.edu (archive.ics.uci.edu)|128.195.10.252|:80... connected.\n",
            "HTTP request sent, awaiting response... 200 OK\n",
            "Length: 11240707 (11M) [application/x-httpd-php]\n",
            "Saving to: ‘covtype.data.gz.3’\n",
            "\n",
            "covtype.data.gz.3   100%[===================>]  10.72M  6.47MB/s    in 1.7s    \n",
            "\n",
            "2019-09-11 00:53:25 (6.47 MB/s) - ‘covtype.data.gz.3’ saved [11240707/11240707]\n",
            "\n",
            "gzip: covtype.data.gz already has .gz suffix -- unchanged\n",
            "(581012, 55) [2.596e+03 5.100e+01 3.000e+00 2.580e+02 0.000e+00 5.100e+02 2.210e+02\n",
            " 2.320e+02 1.480e+02 6.279e+03 1.000e+00 0.000e+00 0.000e+00 0.000e+00\n",
            " 0.000e+00 0.000e+00 0.000e+00 0.000e+00 0.000e+00 0.000e+00 0.000e+00\n",
            " 0.000e+00 0.000e+00 0.000e+00 0.000e+00 0.000e+00 0.000e+00 0.000e+00\n",
            " 0.000e+00 0.000e+00 0.000e+00 0.000e+00 0.000e+00 0.000e+00 0.000e+00\n",
            " 0.000e+00 0.000e+00 0.000e+00 0.000e+00 0.000e+00 0.000e+00 0.000e+00\n",
            " 1.000e+00 0.000e+00 0.000e+00 0.000e+00 0.000e+00 0.000e+00 0.000e+00\n",
            " 0.000e+00 0.000e+00 0.000e+00 0.000e+00 0.000e+00 5.000e+00]\n",
            "(581012, 54) [2.596e+03 5.100e+01 3.000e+00 2.580e+02 0.000e+00 5.100e+02 2.210e+02\n",
            " 2.320e+02 1.480e+02 6.279e+03 1.000e+00 0.000e+00 0.000e+00 0.000e+00\n",
            " 0.000e+00 0.000e+00 0.000e+00 0.000e+00 0.000e+00 0.000e+00 0.000e+00\n",
            " 0.000e+00 0.000e+00 0.000e+00 0.000e+00 0.000e+00 0.000e+00 0.000e+00\n",
            " 0.000e+00 0.000e+00 0.000e+00 0.000e+00 0.000e+00 0.000e+00 0.000e+00\n",
            " 0.000e+00 0.000e+00 0.000e+00 0.000e+00 0.000e+00 0.000e+00 0.000e+00\n",
            " 1.000e+00 0.000e+00 0.000e+00 0.000e+00 0.000e+00 0.000e+00 0.000e+00\n",
            " 0.000e+00 0.000e+00 0.000e+00 0.000e+00 0.000e+00]\n",
            "(581012,) 5.0\n"
          ],
          "name": "stdout"
        }
      ]
    },
    {
      "cell_type": "code",
      "metadata": {
        "id": "7WUHkKmo0AdR",
        "colab_type": "code",
        "colab": {
          "base_uri": "https://localhost:8080/",
          "height": 34
        },
        "outputId": "27c3563f-0fab-4fd1-f377-2234c78bc05f"
      },
      "source": [
        "set(train_labels)"
      ],
      "execution_count": 91,
      "outputs": [
        {
          "output_type": "execute_result",
          "data": {
            "text/plain": [
              "{1.0, 2.0, 3.0, 4.0, 5.0, 6.0, 7.0}"
            ]
          },
          "metadata": {
            "tags": []
          },
          "execution_count": 91
        }
      ]
    },
    {
      "cell_type": "code",
      "metadata": {
        "id": "E7KH__KTotx9",
        "colab_type": "code",
        "colab": {
          "base_uri": "https://localhost:8080/",
          "height": 374
        },
        "outputId": "e850071b-d78c-4090-91e9-b2dcd76e39ca"
      },
      "source": [
        "batch_size = 256\n",
        "# primeiramente vamos fazer a normalização das features: \n",
        "\n",
        "\n",
        "# parâmetros: número de epochs, learning rate (ou taxa de aprendizado), e \n",
        "# tamanho do batch\n",
        "num_epochs, lr, batch_size = 20, 0.1, 256\n",
        "\n",
        "# rede simples somente com perceptrons e camadas densamente conectadas\n",
        "net = nn.Sequential()\n",
        "net.add(nn.Dense(128, activation=\"relu\"),\n",
        "        nn.Dense(64, activation=\"relu\"),\n",
        "        nn.Dense(32, activation=\"relu\"),\n",
        "        nn.Dense(16, activation=\"relu\"),\n",
        "        nn.Dense(7))\n",
        "net.initialize(init.Normal(sigma=0.01), ctx=ctx)\n",
        "\n",
        "# função de custo (ou loss)\n",
        "loss = gloss.SoftmaxCrossEntropyLoss()\n",
        "\n",
        "\n",
        "# trainer do gluon\n",
        "trainer = gluon.Trainer(net.collect_params(), 'adam', {'learning_rate': lr})\n",
        "\n",
        "# treinamento e validação via MXNet\n",
        "train_validate(net, train_iter, test_iter, batch_size, trainer, loss, ctx, num_epochs,type='')"
      ],
      "execution_count": 97,
      "outputs": [
        {
          "output_type": "stream",
          "text": [
            "training on gpu(0)\n",
            "epoch 1, train loss 1.3263, train acc 0.485, test loss 1.1630, test acc 0.488, time 28.6 sec\n",
            "epoch 2, train loss 1.1644, train acc 0.486, test loss 1.1609, test acc 0.488, time 28.4 sec\n",
            "epoch 3, train loss 1.1644, train acc 0.487, test loss 1.1615, test acc 0.488, time 28.3 sec\n",
            "epoch 4, train loss 1.1645, train acc 0.486, test loss 1.1601, test acc 0.488, time 28.9 sec\n",
            "epoch 5, train loss 1.1644, train acc 0.485, test loss 1.1655, test acc 0.488, time 28.5 sec\n",
            "epoch 6, train loss 1.1643, train acc 0.486, test loss 1.1730, test acc 0.365, time 28.5 sec\n",
            "epoch 7, train loss 1.1641, train acc 0.485, test loss 1.1617, test acc 0.488, time 28.3 sec\n",
            "epoch 8, train loss 1.1644, train acc 0.485, test loss 1.1641, test acc 0.488, time 28.4 sec\n",
            "epoch 9, train loss 1.1647, train acc 0.486, test loss 1.1649, test acc 0.488, time 28.3 sec\n",
            "epoch 10, train loss 1.1645, train acc 0.485, test loss 1.1648, test acc 0.488, time 28.4 sec\n",
            "epoch 11, train loss 1.1645, train acc 0.486, test loss 1.1614, test acc 0.488, time 28.4 sec\n",
            "epoch 12, train loss 1.1645, train acc 0.486, test loss 1.1635, test acc 0.488, time 28.4 sec\n",
            "epoch 13, train loss 1.1645, train acc 0.485, test loss 1.1638, test acc 0.488, time 28.2 sec\n",
            "epoch 14, train loss 1.1643, train acc 0.486, test loss 1.1623, test acc 0.488, time 28.2 sec\n",
            "epoch 15, train loss 1.1646, train acc 0.485, test loss 1.1774, test acc 0.488, time 28.6 sec\n",
            "epoch 16, train loss 1.1645, train acc 0.485, test loss 1.1624, test acc 0.488, time 28.3 sec\n",
            "epoch 17, train loss 1.1644, train acc 0.485, test loss 1.1618, test acc 0.488, time 28.3 sec\n",
            "epoch 18, train loss 1.1645, train acc 0.486, test loss 1.1666, test acc 0.488, time 28.3 sec\n",
            "epoch 19, train loss 1.1644, train acc 0.486, test loss 1.1628, test acc 0.488, time 28.3 sec\n",
            "epoch 20, train loss 1.1644, train acc 0.486, test loss 1.1635, test acc 0.488, time 28.2 sec\n"
          ],
          "name": "stdout"
        }
      ]
    },
    {
      "cell_type": "markdown",
      "metadata": {
        "colab_type": "text",
        "id": "IDaRVNq1aMpm"
      },
      "source": [
        "## Problema 3\n",
        "\n",
        "Neste problema, você receberá 90 *features* extraídas de diversas músicas (datadas de 1922 até 2011) e deve predizer o ano de cada música."
      ]
    },
    {
      "cell_type": "code",
      "metadata": {
        "colab_type": "code",
        "id": "CWdBT3zhW_Y5",
        "colab": {
          "base_uri": "https://localhost:8080/",
          "height": 629
        },
        "outputId": "d4a9e253-145c-4312-8015-7f5b47e05b09"
      },
      "source": [
        "# download do dataset\n",
        "!wget http://archive.ics.uci.edu/ml/machine-learning-databases/00203/YearPredictionMSD.txt.zip\n",
        "!unzip YearPredictionMSD.txt.zip\n",
        "data = np.genfromtxt('YearPredictionMSD.txt', delimiter=',', dtype=np.float32)\n",
        "\n",
        "print(data[0, :])\n",
        "X, y = data[:, 1:], data[:, 0]\n",
        "train_features, test_features, train_labels, test_labels = train_test_split(X, y, test_size=0.33, random_state=42)\n",
        "\n",
        "def load_array(features, labels, batch_size, is_train=True):\n",
        "    \"\"\"Construct a Gluon data loader\"\"\"\n",
        "    dataset = gluon.data.ArrayDataset(features, labels)\n",
        "    return gluon.data.DataLoader(dataset, batch_size, shuffle=is_train)\n",
        "  \n",
        "batch_size = 100\n",
        "train_iter = load_array(train_features, train_labels, batch_size)\n",
        "test_iter = load_array(test_features, test_labels, batch_size, False)"
      ],
      "execution_count": 98,
      "outputs": [
        {
          "output_type": "stream",
          "text": [
            "--2019-09-11 01:08:32--  http://archive.ics.uci.edu/ml/machine-learning-databases/00203/YearPredictionMSD.txt.zip\n",
            "Resolving archive.ics.uci.edu (archive.ics.uci.edu)... 128.195.10.252\n",
            "Connecting to archive.ics.uci.edu (archive.ics.uci.edu)|128.195.10.252|:80... connected.\n",
            "HTTP request sent, awaiting response... 200 OK\n",
            "Length: 211011981 (201M) [application/x-httpd-php]\n",
            "Saving to: ‘YearPredictionMSD.txt.zip’\n",
            "\n",
            "YearPredictionMSD.t 100%[===================>] 201.24M  20.7MB/s    in 11s     \n",
            "\n",
            "2019-09-11 01:08:44 (18.4 MB/s) - ‘YearPredictionMSD.txt.zip’ saved [211011981/211011981]\n",
            "\n",
            "Archive:  YearPredictionMSD.txt.zip\n",
            "  inflating: YearPredictionMSD.txt   \n",
            "[ 2.0010000e+03  4.9943569e+01  2.1471140e+01  7.3077499e+01\n",
            "  8.7486095e+00 -1.7406281e+01 -1.3099050e+01 -2.5012020e+01\n",
            " -1.2232570e+01  7.8308902e+00 -2.4678299e+00  3.3213601e+00\n",
            " -2.3152101e+00  1.0205560e+01  6.1110913e+02  9.5108960e+02\n",
            "  6.9811426e+02  4.0898486e+02  3.8370911e+02  3.2651511e+02\n",
            "  2.3811327e+02  2.5142413e+02  1.8717351e+02  1.0042652e+02\n",
            "  1.7919498e+02 -8.4155798e+00 -3.1787039e+02  9.5862663e+01\n",
            "  4.8102589e+01 -9.5663033e+01 -1.8062149e+01  1.9698400e+00\n",
            "  3.4424381e+01  1.1726700e+01  1.3679000e+00  7.7944398e+00\n",
            " -3.6994001e-01 -1.3367851e+02 -8.3261650e+01 -3.7297649e+01\n",
            "  7.3046669e+01 -3.7366840e+01 -3.1385300e+00 -2.4215309e+01\n",
            " -1.3230660e+01  1.5938090e+01 -1.8604780e+01  8.2154793e+01\n",
            "  2.4057980e+02 -1.0294070e+01  3.1584311e+01 -2.5381870e+01\n",
            " -3.9077201e+00  1.3292580e+01  4.1550598e+01 -7.2627201e+00\n",
            " -2.1008631e+01  1.0550848e+02  6.4298561e+01  2.6084810e+01\n",
            " -4.4591099e+01 -8.3065701e+00  7.9370599e+00 -1.0736600e+01\n",
            " -9.5447662e+01 -8.2033073e+01 -3.5591942e+01  4.6952500e+00\n",
            "  7.0956261e+01  2.8091391e+01  6.0201502e+00 -3.7137669e+01\n",
            " -4.1124500e+01 -8.4081602e+00  7.1987700e+00 -8.6017599e+00\n",
            " -5.9085698e+00 -1.2324370e+01  1.4687340e+01 -5.4321251e+01\n",
            "  4.0147861e+01  1.3016200e+01 -5.4405479e+01  5.8993671e+01\n",
            "  1.5373440e+01  1.1114399e+00 -2.3087931e+01  6.8407951e+01\n",
            " -1.8222300e+00 -2.7463480e+01  2.2632699e+00]\n"
          ],
          "name": "stdout"
        }
      ]
    },
    {
      "cell_type": "code",
      "metadata": {
        "id": "L3PW4XkX0scA",
        "colab_type": "code",
        "colab": {
          "base_uri": "https://localhost:8080/",
          "height": 34
        },
        "outputId": "a21fe1b5-2e06-4560-f366-1a61601d4a27"
      },
      "source": [
        "len(set(train_labels))"
      ],
      "execution_count": 104,
      "outputs": [
        {
          "output_type": "execute_result",
          "data": {
            "text/plain": [
              "89"
            ]
          },
          "metadata": {
            "tags": []
          },
          "execution_count": 104
        }
      ]
    },
    {
      "cell_type": "code",
      "metadata": {
        "id": "iosXfvhb0sno",
        "colab_type": "code",
        "colab": {
          "base_uri": "https://localhost:8080/",
          "height": 374
        },
        "outputId": "6c55c541-9e3c-4a64-db8c-e60c0314bd52"
      },
      "source": [
        "batch_size = 256\n",
        "# primeiramente vamos fazer a normalização das features: \n",
        "\n",
        "\n",
        "# parâmetros: número de epochs, learning rate (ou taxa de aprendizado), e \n",
        "# tamanho do batch\n",
        "num_epochs, lr, batch_size = 20, 0.1, 256\n",
        "\n",
        "# rede simples somente com perceptrons e camadas densamente conectadas\n",
        "net = nn.Sequential()\n",
        "net.add(nn.Dense(128, activation=\"relu\"),\n",
        "        nn.Dense(64, activation=\"relu\"),\n",
        "        nn.Dense(32, activation=\"relu\"),\n",
        "        nn.Dense(16, activation=\"relu\"),\n",
        "        nn.Dense(89))\n",
        "net.initialize(init.Normal(sigma=0.01), ctx=ctx)\n",
        "\n",
        "# função de custo (ou loss)\n",
        "loss = gloss.SoftmaxCrossEntropyLoss()\n",
        "\n",
        "\n",
        "# trainer do gluon\n",
        "trainer = gluon.Trainer(net.collect_params(), 'adam', {'learning_rate': lr})\n",
        "\n",
        "# treinamento e validação via MXNet\n",
        "train_validate(net, train_iter, test_iter, batch_size, trainer, loss, ctx, num_epochs,type='')"
      ],
      "execution_count": 105,
      "outputs": [
        {
          "output_type": "stream",
          "text": [
            "training on gpu(0)\n",
            "epoch 1, train loss 0.0013, train acc 0.000, test loss 0.0000, test acc 0.000, time 25.3 sec\n",
            "epoch 2, train loss 0.0000, train acc 0.000, test loss 0.0000, test acc 0.000, time 25.2 sec\n",
            "epoch 3, train loss 0.0000, train acc 0.000, test loss 0.0000, test acc 0.000, time 25.5 sec\n",
            "epoch 4, train loss 0.0000, train acc 0.000, test loss 0.0000, test acc 0.000, time 25.4 sec\n",
            "epoch 5, train loss 0.0000, train acc 0.000, test loss 0.0000, test acc 0.000, time 25.5 sec\n",
            "epoch 6, train loss 0.0000, train acc 0.000, test loss 0.0000, test acc 0.000, time 25.4 sec\n",
            "epoch 7, train loss 0.0000, train acc 0.000, test loss 0.0000, test acc 0.000, time 25.3 sec\n",
            "epoch 8, train loss 0.0000, train acc 0.000, test loss 0.0000, test acc 0.000, time 25.3 sec\n",
            "epoch 9, train loss 0.0000, train acc 0.000, test loss 0.0000, test acc 0.000, time 25.9 sec\n",
            "epoch 10, train loss 0.0000, train acc 0.000, test loss 0.0000, test acc 0.000, time 25.2 sec\n",
            "epoch 11, train loss 0.0000, train acc 0.000, test loss 0.0000, test acc 0.000, time 25.3 sec\n",
            "epoch 12, train loss 0.0000, train acc 0.000, test loss 0.0000, test acc 0.000, time 25.2 sec\n",
            "epoch 13, train loss 0.0000, train acc 0.000, test loss 0.0000, test acc 0.000, time 25.2 sec\n",
            "epoch 14, train loss 0.0000, train acc 0.000, test loss 0.0000, test acc 0.000, time 25.1 sec\n",
            "epoch 15, train loss 0.0000, train acc 0.000, test loss 0.0000, test acc 0.000, time 25.1 sec\n",
            "epoch 16, train loss 0.0000, train acc 0.000, test loss 0.0000, test acc 0.000, time 25.2 sec\n",
            "epoch 17, train loss 0.0000, train acc 0.000, test loss 0.0000, test acc 0.000, time 25.6 sec\n",
            "epoch 18, train loss 0.0000, train acc 0.000, test loss 0.0000, test acc 0.000, time 25.2 sec\n",
            "epoch 19, train loss 0.0000, train acc 0.000, test loss 0.0000, test acc 0.000, time 25.3 sec\n",
            "epoch 20, train loss 0.0000, train acc 0.000, test loss 0.0000, test acc 0.000, time 25.2 sec\n"
          ],
          "name": "stdout"
        }
      ]
    }
  ]
}