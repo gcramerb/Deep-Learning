{
  "nbformat": 4,
  "nbformat_minor": 0,
  "metadata": {
    "kernelspec": {
      "display_name": "Python 3",
      "language": "python",
      "name": "python3"
    },
    "language_info": {
      "codemirror_mode": {
        "name": "ipython",
        "version": 3
      },
      "file_extension": ".py",
      "mimetype": "text/x-python",
      "name": "python",
      "nbconvert_exporter": "python",
      "pygments_lexer": "ipython3",
      "version": "3.6.8"
    },
    "colab": {
      "name": "01.1 - MiniTutorial OO + Camadas.ipynb",
      "version": "0.3.2",
      "provenance": []
    }
  },
  "cells": [
    {
      "cell_type": "markdown",
      "metadata": {
        "id": "IHMPbMhMjiw2",
        "colab_type": "text"
      },
      "source": [
        "# Aprendizado Profundo - UFMG\n",
        "\n",
        "## Sem MXNET\n",
        "\n",
        "Observe que este notebook não faz uso de mxnet. Vamos implementar um mini-arcabouço de redes neurais para entender um pouco ferramentas tipo mxnet e pytorch por baixo."
      ]
    },
    {
      "cell_type": "code",
      "metadata": {
        "id": "dLaDwLazjiw4",
        "colab_type": "code",
        "colab": {}
      },
      "source": [
        "import numpy as np\n",
        "\n",
        "\n",
        "# TESTEEEEEEEEEEEEEEEEEEEEEEEEEEEEEEEEEEEEEEEEEEEEEEEEEEEEEEEEEEEEEEEEEEEEEEEEEEEEEEEEEEEEEEEEEEEEEEEEE"
      ],
      "execution_count": 0,
      "outputs": []
    },
    {
      "cell_type": "markdown",
      "metadata": {
        "id": "yudj2Frnjiw8",
        "colab_type": "text"
      },
      "source": [
        "## Mini Introdução OO\n",
        "\n",
        "Uma grande parte das bibliotecas de hoje em dia exploram conceitos de orientação a objetos. Embora não tempos tempo de ensinar um curso inteiro de OO, seria pelo menos um semestre, podemos cobrir o essencial neste notebook. Caso queira uma única palavra para sumarizar: o essencial aqui é o conceito de **estado**!.\n",
        "\n",
        "Existem dois termos importantes para entender OO:\n",
        "1. Classes\n",
        "2. Objetos\n",
        "\n",
        "Classes definem um esqueleto do que será armazenado. Objetos definem uma instância da classe na memória. Abaixo temos uma classe simples chamadas de agregador. No momento, a mesma não faz nada!"
      ]
    },
    {
      "cell_type": "code",
      "metadata": {
        "id": "XYoQDaO4jiw9",
        "colab_type": "code",
        "colab": {}
      },
      "source": [
        "class Agregador(object):\n",
        "    pass"
      ],
      "execution_count": 0,
      "outputs": []
    },
    {
      "cell_type": "markdown",
      "metadata": {
        "id": "zfLp9j6zjixA",
        "colab_type": "text"
      },
      "source": [
        "Podemos instanciar nossas classes, ficando assim com dois objetos na memória:"
      ]
    },
    {
      "cell_type": "code",
      "metadata": {
        "id": "RrSq3wRzjixB",
        "colab_type": "code",
        "colab": {}
      },
      "source": [
        "obj1 = Agregador()\n",
        "obj2 = Agregador()"
      ],
      "execution_count": 0,
      "outputs": []
    },
    {
      "cell_type": "markdown",
      "metadata": {
        "id": "Au4U9sETjixD",
        "colab_type": "text"
      },
      "source": [
        "Cada instância, ou objeto, difere um do outro"
      ]
    },
    {
      "cell_type": "code",
      "metadata": {
        "id": "VROsDdbdjixE",
        "colab_type": "code",
        "outputId": "ac17a0d7-70ce-4821-a9e4-73b5f0b10eb7",
        "colab": {
          "base_uri": "https://localhost:8080/",
          "height": 34
        }
      },
      "source": [
        "obj1 == obj2"
      ],
      "execution_count": 0,
      "outputs": [
        {
          "output_type": "execute_result",
          "data": {
            "text/plain": [
              "False"
            ]
          },
          "metadata": {
            "tags": []
          },
          "execution_count": 4
        }
      ]
    },
    {
      "cell_type": "markdown",
      "metadata": {
        "id": "nOIKJubfjixI",
        "colab_type": "text"
      },
      "source": [
        "Agora, vamos adicionar um atríbuto na nossa classe. O mesmo guarda um valor simples. Se objetos são instâncias de classes, algum local tem guardar o estado desta instância. Em python, tal local é chamado de **self**. Todo objeto tem uma referência para seu estado, o self, que no fim das contas é uma referência para ele mesmo. "
      ]
    },
    {
      "cell_type": "code",
      "metadata": {
        "id": "aiCV7wtsjixJ",
        "colab_type": "code",
        "colab": {}
      },
      "source": [
        "class Agregador(object):\n",
        "    def __init__(self):\n",
        "        self._value = 0   # Toda instância agora guarda um objeto simples!"
      ],
      "execution_count": 0,
      "outputs": []
    },
    {
      "cell_type": "code",
      "metadata": {
        "id": "r0icAKjtjixL",
        "colab_type": "code",
        "outputId": "bd5e8ac5-161e-46ac-abe9-64ced0b7a3d1",
        "colab": {
          "base_uri": "https://localhost:8080/",
          "height": 51
        }
      },
      "source": [
        "obj1 = Agregador()\n",
        "obj2 = Agregador()\n",
        "\n",
        "print(obj1._value)\n",
        "print(obj2._value)"
      ],
      "execution_count": 0,
      "outputs": [
        {
          "output_type": "stream",
          "text": [
            "0\n",
            "0\n"
          ],
          "name": "stdout"
        }
      ]
    },
    {
      "cell_type": "markdown",
      "metadata": {
        "id": "g8OsyRxWjixO",
        "colab_type": "text"
      },
      "source": [
        "Dois objetos podem guardar um mesmo estado. Acima, os dois tem valor = 0. Ainda assim, são dois objetos diferentes, ocupam locais diferentes da memória do computador."
      ]
    },
    {
      "cell_type": "code",
      "metadata": {
        "id": "VEnQ9Kg9jixP",
        "colab_type": "code",
        "outputId": "0345c49a-63c0-41db-be05-295b1beca110",
        "colab": {
          "base_uri": "https://localhost:8080/",
          "height": 34
        }
      },
      "source": [
        "hex(id(obj1))"
      ],
      "execution_count": 0,
      "outputs": [
        {
          "output_type": "execute_result",
          "data": {
            "text/plain": [
              "'0x7f0de6449400'"
            ]
          },
          "metadata": {
            "tags": []
          },
          "execution_count": 7
        }
      ]
    },
    {
      "cell_type": "code",
      "metadata": {
        "id": "SIri1FxCjixR",
        "colab_type": "code",
        "outputId": "bde94bb0-3a3e-4d38-eab7-19a0e6af1284",
        "colab": {}
      },
      "source": [
        "hex(id(obj2))"
      ],
      "execution_count": 0,
      "outputs": [
        {
          "output_type": "execute_result",
          "data": {
            "text/plain": [
              "'0x1076defd0'"
            ]
          },
          "metadata": {
            "tags": []
          },
          "execution_count": 8
        }
      ]
    },
    {
      "cell_type": "code",
      "metadata": {
        "id": "PCgs5jGPjixU",
        "colab_type": "code",
        "outputId": "da7c866e-ee0e-4174-9187-eab49008a69e",
        "colab": {}
      },
      "source": [
        "obj3 = obj1\n",
        "hex(id(obj3)) # note como aqui temos o mesmo endereco do obj1"
      ],
      "execution_count": 0,
      "outputs": [
        {
          "output_type": "execute_result",
          "data": {
            "text/plain": [
              "'0x1076fc048'"
            ]
          },
          "metadata": {
            "tags": []
          },
          "execution_count": 9
        }
      ]
    },
    {
      "cell_type": "markdown",
      "metadata": {
        "id": "TkFUjx3EjixX",
        "colab_type": "text"
      },
      "source": [
        "Agora tornar os nossos objetos um pouco mais inteligentes. Vamos adicionar um método, nome bonito para uma função, que altera o valor do atributo value."
      ]
    },
    {
      "cell_type": "code",
      "metadata": {
        "id": "KCGYhaRyjixY",
        "colab_type": "code",
        "colab": {}
      },
      "source": [
        "class Agregador(object):\n",
        "    \n",
        "    def __init__(self):\n",
        "        self._value = 0 \n",
        "    \n",
        "    def adiciona(self, value):\n",
        "        self._value += value\n",
        "        \n",
        "    def get_value(self):\n",
        "        return self._value"
      ],
      "execution_count": 0,
      "outputs": []
    },
    {
      "cell_type": "code",
      "metadata": {
        "id": "4_bkHXafjixc",
        "colab_type": "code",
        "colab": {}
      },
      "source": [
        "agg = Agregador()"
      ],
      "execution_count": 0,
      "outputs": []
    },
    {
      "cell_type": "markdown",
      "metadata": {
        "id": "P4Z_7HyOjixg",
        "colab_type": "text"
      },
      "source": [
        "Observe como temos uma chamada `get_value()`. "
      ]
    },
    {
      "cell_type": "code",
      "metadata": {
        "id": "19LajfrVjixi",
        "colab_type": "code",
        "outputId": "5e1d3843-b875-4fb8-f3d7-b459476552d0",
        "colab": {
          "base_uri": "https://localhost:8080/",
          "height": 34
        }
      },
      "source": [
        "print(agg.get_value())"
      ],
      "execution_count": 0,
      "outputs": [
        {
          "output_type": "stream",
          "text": [
            "0\n"
          ],
          "name": "stdout"
        }
      ]
    },
    {
      "cell_type": "markdown",
      "metadata": {
        "id": "Vz8Je1Osjixn",
        "colab_type": "text"
      },
      "source": [
        "Ao adicionar alguma coisa, temos um novo estado!"
      ]
    },
    {
      "cell_type": "code",
      "metadata": {
        "id": "MMO2Z8XRjixn",
        "colab_type": "code",
        "outputId": "4746cb9c-f6a6-4a17-d015-82308aff71fa",
        "colab": {}
      },
      "source": [
        "agg.adiciona(7)\n",
        "print(agg.get_value())"
      ],
      "execution_count": 0,
      "outputs": [
        {
          "output_type": "stream",
          "text": [
            "7\n"
          ],
          "name": "stdout"
        }
      ]
    },
    {
      "cell_type": "markdown",
      "metadata": {
        "id": "CTkEuhTZjixq",
        "colab_type": "text"
      },
      "source": [
        "Abaixo temos dois objetos diferentes com o mesmo estado. É isto!"
      ]
    },
    {
      "cell_type": "code",
      "metadata": {
        "id": "DfFkbteGjixq",
        "colab_type": "code",
        "outputId": "6e78ef60-0d5d-4723-f1f1-c9679dd4af1a",
        "colab": {}
      },
      "source": [
        "agg2 = Agregador()\n",
        "agg2.adiciona(agg.get_value())\n",
        "\n",
        "print(agg == agg2)\n",
        "print(agg.get_value() == agg2.get_value())"
      ],
      "execution_count": 0,
      "outputs": [
        {
          "output_type": "stream",
          "text": [
            "False\n",
            "True\n"
          ],
          "name": "stdout"
        }
      ]
    },
    {
      "cell_type": "markdown",
      "metadata": {
        "id": "qSQzPvpxjixu",
        "colab_type": "text"
      },
      "source": [
        "## Forward e Backward"
      ]
    },
    {
      "cell_type": "markdown",
      "metadata": {
        "id": "GgT71U5rjixv",
        "colab_type": "text"
      },
      "source": [
        "Imagine que você tem uma memória onde você guarda algumas funções para derivar. Por clareza, o seu código de autograd, estimo o `mxnet`, só sabe derivar a forma $f(x, n) = x^n$. Vamos criar uma mini-biblioteca de autoderivar agora. A mesma é composta de classes que representam constantes. Vamos chamar isto de uma camada constante, para usar os termos que serão comuns em mxnet/pytorch."
      ]
    },
    {
      "cell_type": "code",
      "metadata": {
        "id": "fs3DRAU6jixw",
        "colab_type": "code",
        "colab": {}
      },
      "source": [
        "class CamadaConstante(object):\n",
        "    \n",
        "    def __init__(self, valor):\n",
        "        self.valor = valor\n",
        "    \n",
        "    def avalia(self):\n",
        "        return self.valor\n",
        "    \n",
        "    def feedforward(self, camada_anterior):\n",
        "        return self.valor\n",
        "    \n",
        "    def backpropagate(self):\n",
        "        return 0"
      ],
      "execution_count": 0,
      "outputs": []
    },
    {
      "cell_type": "markdown",
      "metadata": {
        "id": "sgMoLigAjixz",
        "colab_type": "text"
      },
      "source": [
        "Observe como a mesma apenas retorna o valor no método `feedforward`. O mesmo representa o código executado dentro do autograd. Neste momento, avaliamos funções. Aqui, a função nada mais é do que uma constante.\n",
        "\n",
        "Além do mais, temos um parâmetro no `__init__`. Tal método é uma chamada especial que inicializa o estado. Note no passo a passo [deste link](http://pythontutor.com/visualize.html#code=class%20CamadaConstante%28object%29%3A%0A%20%20%20%20%0A%20%20%20%20def%20__init__%28self,%20valor%29%3A%0A%20%20%20%20%20%20%20%20self.valor%20%3D%20valor%0A%20%20%20%20%20%20%20%20%0A%20%20%20%20def%20feedforward%28self%29%3A%0A%20%20%20%20%20%20%20%20return%20self.valor%0A%20%20%20%20%0A%20%20%20%20def%20backpropagate%28self%29%3A%0A%20%20%20%20%20%20%20%20return%200%0A%20%20%20%20%20%20%20%20%0A%20%20%20%20%20%20%20%20%0Acamada%20%3D%20CamadaConstante%287%29%0Aprint%28camada.feedforward%28%29%29%0Aprint%28camada.backpropagate%28%29%29%0A%0Acamada%20%3D%20CamadaConstante%2812%29%0Aprint%28camada.feedforward%28%29%29%0Aprint%28camada.backpropagate%28%29%29&cumulative=false&curInstr=0&heapPrimitives=nevernest&mode=display&origin=opt-frontend.js&py=py3anaconda&rawInputLstJSON=%5B%5D&textReferences=false) como ela é chamada ao criar o objeto.\n",
        "\n",
        "Note também como em algum momento temos dois objetos na memória com estados diferentes.\n",
        "\n",
        "**Brinque com o passo a passo do link acima antes de continuar!**\n",
        "\n",
        ".\n",
        ".\n",
        "."
      ]
    },
    {
      "cell_type": "markdown",
      "metadata": {
        "id": "SPgJ01k2jix0",
        "colab_type": "text"
      },
      "source": [
        "Agora, vamos criar uma camada que cuida da forma: $f(x, n) = x^n$"
      ]
    },
    {
      "cell_type": "code",
      "metadata": {
        "id": "a1Xty5Dhjix1",
        "colab_type": "code",
        "colab": {}
      },
      "source": [
        "class CamadaPolinomial(object):\n",
        "    \n",
        "    def __init__(self, n):\n",
        "        self.n = n\n",
        "    \n",
        "    def avalia(self):\n",
        "        return np.power(self.x, self.n)\n",
        "    \n",
        "    def feedforward(self, camada_anterior):\n",
        "        self.x = camada_anterior.avalia()\n",
        "        return np.power(self.x, self.n)\n",
        "    \n",
        "    def backpropagate(self):\n",
        "        return self.n * self.x"
      ],
      "execution_count": 0,
      "outputs": []
    },
    {
      "cell_type": "markdown",
      "metadata": {
        "id": "7ai7YFY5jix8",
        "colab_type": "text"
      },
      "source": [
        "A classe `CamadaPolinomial` cuida de derivar polinômios. Note que no método `feedforward` fazemos duas coisas:\n",
        "\n",
        "1. Avaliamos uma constante\n",
        "1. Guardamos o valor da mesma\n",
        "1. Retornamos $f(x, n) = x^n$"
      ]
    },
    {
      "cell_type": "code",
      "metadata": {
        "id": "nkx3dyHJjix-",
        "colab_type": "code",
        "outputId": "5e80141f-5bce-4d3b-f9b5-bd7f1d52fe92",
        "colab": {}
      },
      "source": [
        "rede_neural = CamadaPolinomial(7)\n",
        "rede_neural.feedforward(CamadaConstante(9))"
      ],
      "execution_count": 0,
      "outputs": [
        {
          "output_type": "execute_result",
          "data": {
            "text/plain": [
              "4782969"
            ]
          },
          "metadata": {
            "tags": []
          },
          "execution_count": 17
        }
      ]
    },
    {
      "cell_type": "markdown",
      "metadata": {
        "id": "yArU86afjiyG",
        "colab_type": "text"
      },
      "source": [
        "Parece que o código está correto!"
      ]
    },
    {
      "cell_type": "code",
      "metadata": {
        "id": "Mc0FCeRcjiyG",
        "colab_type": "code",
        "outputId": "e93e7900-2bbd-4b0c-9f53-6be1f3ef803b",
        "colab": {}
      },
      "source": [
        "np.power(9, 7)"
      ],
      "execution_count": 0,
      "outputs": [
        {
          "output_type": "execute_result",
          "data": {
            "text/plain": [
              "4782969"
            ]
          },
          "metadata": {
            "tags": []
          },
          "execution_count": 18
        }
      ]
    },
    {
      "cell_type": "markdown",
      "metadata": {
        "id": "XALwExmIjiyJ",
        "colab_type": "text"
      },
      "source": [
        "Ao chamar o `backpropagate`, temos a derivada: $f'(x) = nx$"
      ]
    },
    {
      "cell_type": "code",
      "metadata": {
        "id": "yq8a-KN-jiyL",
        "colab_type": "code",
        "outputId": "18cf007d-f477-4ad3-d868-9404f7d71f3d",
        "colab": {}
      },
      "source": [
        "rede_neural.backpropagate()"
      ],
      "execution_count": 0,
      "outputs": [
        {
          "output_type": "execute_result",
          "data": {
            "text/plain": [
              "63"
            ]
          },
          "metadata": {
            "tags": []
          },
          "execution_count": 19
        }
      ]
    },
    {
      "cell_type": "code",
      "metadata": {
        "id": "W9TFGLt4jiyR",
        "colab_type": "code",
        "outputId": "b7f7dfa1-22b3-463a-df40-54332b0d2e39",
        "colab": {}
      },
      "source": [
        "7 * 9"
      ],
      "execution_count": 0,
      "outputs": [
        {
          "output_type": "execute_result",
          "data": {
            "text/plain": [
              "63"
            ]
          },
          "metadata": {
            "tags": []
          },
          "execution_count": 20
        }
      ]
    },
    {
      "cell_type": "markdown",
      "metadata": {
        "id": "Qz564ZOFjiyW",
        "colab_type": "text"
      },
      "source": [
        "A ideia da derivação automágica do mxnet é mais ou menos essa. Diferente da brincadeira acima, a biblioteca é capaz de derivar bem mais do que polinômios e constantes.\n",
        "\n",
        "Observe como abaixo usando uma lista simulamos a ideia de uma camada passando mensagens para outras. Caso necessite visualizar, o passo a passo está [aqui]()."
      ]
    },
    {
      "cell_type": "code",
      "metadata": {
        "id": "kofjcL8VjiyW",
        "colab_type": "code",
        "colab": {}
      },
      "source": [
        "rede_neural = []\n",
        "rede_neural.append(CamadaConstante(7))\n",
        "rede_neural.append(CamadaPolinomial(1))\n",
        "rede_neural.append(CamadaPolinomial(9))"
      ],
      "execution_count": 0,
      "outputs": []
    },
    {
      "cell_type": "code",
      "metadata": {
        "id": "zfTq2-7ojiyY",
        "colab_type": "code",
        "outputId": "e9ed2c5f-37bb-4b41-b22a-02f0ccd83492",
        "colab": {}
      },
      "source": [
        "rede_neural[0].feedforward(7)\n",
        "rede_neural[1].feedforward(rede_neural[0])\n",
        "rede_neural[2].feedforward(rede_neural[1])\n",
        "rede_neural[2].backpropagate()"
      ],
      "execution_count": 0,
      "outputs": [
        {
          "output_type": "execute_result",
          "data": {
            "text/plain": [
              "63"
            ]
          },
          "metadata": {
            "tags": []
          },
          "execution_count": 22
        }
      ]
    }
  ]
}