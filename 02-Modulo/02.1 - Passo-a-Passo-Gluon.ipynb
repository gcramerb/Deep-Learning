{
  "nbformat": 4,
  "nbformat_minor": 0,
  "metadata": {
    "accelerator": "GPU",
    "colab": {
      "name": "passo_a_passo.ipynb",
      "version": "0.3.2",
      "provenance": [],
      "collapsed_sections": [
        "Azv2ajIYkIjH",
        "rRTTtpx4FhOC",
        "YkxA9w4sLX1L"
      ]
    },
    "kernelspec": {
      "name": "python3",
      "display_name": "Python 3"
    },
    "language_info": {
      "codemirror_mode": {
        "name": "ipython",
        "version": 3
      },
      "file_extension": ".py",
      "mimetype": "text/x-python",
      "name": "python",
      "nbconvert_exporter": "python",
      "pygments_lexer": "ipython3",
      "version": "3.6.8"
    }
  },
  "cells": [
    {
      "cell_type": "markdown",
      "metadata": {
        "colab_type": "text",
        "id": "Ed03SC1Jm9Yy"
      },
      "source": [
        "# Aprendizado Profundo - UFMG\n",
        "\n",
        "## Passo à Passo das Redes Neurais\n",
        "\n",
        "A criação e treinamento de uma rede neural tem alguns passos que foram um *pipeline* completo.\n",
        "Nesta aula, vamos ver cada passo para criar e treinar uma rede neural do zero usando MXNet.\n"
      ]
    },
    {
      "cell_type": "markdown",
      "metadata": {
        "colab_type": "text",
        "id": "Gp6CwWnFnTwb"
      },
      "source": [
        "Antes de começar, vamos instalar o MXNet. Esse pequeno bloco de código abaixo é usado somente para instalar o MXNet para CUDA 10. Execute esse bloco somente uma vez e ignore possíveis erros levantados durante a instalação.\n",
        "\n",
        "Configure também o Collab para fazer uso de GPUs.\n",
        "\n",
        "Clique em \"Runtime\" depois \"Change Runtime\" e por altere as configurações da seguinte forma:\n",
        "\n",
        "![](https://www.kdnuggets.com/wp-content/uploads/colab-settings-1.png)\n",
        "\n",
        "Lembre-se de instalar o mxnet com gpu, descomente o código abaixo."
      ]
    },
    {
      "cell_type": "code",
      "metadata": {
        "id": "9fepvFVeudN0",
        "colab_type": "code",
        "colab": {
          "base_uri": "https://localhost:8080/",
          "height": 295
        },
        "outputId": "daca5b49-1a7e-429a-8421-e159ae956334"
      },
      "source": [
        "! pip install mxnet-cu100"
      ],
      "execution_count": 4,
      "outputs": [
        {
          "output_type": "stream",
          "text": [
            "Collecting mxnet-cu100\n",
            "\u001b[?25l  Downloading https://files.pythonhosted.org/packages/56/d3/e939814957c2f09ecdd22daa166898889d54e5981e356832425d514edfb6/mxnet_cu100-1.5.0-py2.py3-none-manylinux1_x86_64.whl (540.1MB)\n",
            "\u001b[K     |████████████████████████████████| 540.1MB 33kB/s \n",
            "\u001b[?25hRequirement already satisfied: numpy<2.0.0,>1.16.0 in /usr/local/lib/python3.6/dist-packages (from mxnet-cu100) (1.16.5)\n",
            "Requirement already satisfied: requests<3,>=2.20.0 in /usr/local/lib/python3.6/dist-packages (from mxnet-cu100) (2.21.0)\n",
            "Collecting graphviz<0.9.0,>=0.8.1 (from mxnet-cu100)\n",
            "  Downloading https://files.pythonhosted.org/packages/53/39/4ab213673844e0c004bed8a0781a0721a3f6bb23eb8854ee75c236428892/graphviz-0.8.4-py2.py3-none-any.whl\n",
            "Requirement already satisfied: urllib3<1.25,>=1.21.1 in /usr/local/lib/python3.6/dist-packages (from requests<3,>=2.20.0->mxnet-cu100) (1.24.3)\n",
            "Requirement already satisfied: certifi>=2017.4.17 in /usr/local/lib/python3.6/dist-packages (from requests<3,>=2.20.0->mxnet-cu100) (2019.6.16)\n",
            "Requirement already satisfied: idna<2.9,>=2.5 in /usr/local/lib/python3.6/dist-packages (from requests<3,>=2.20.0->mxnet-cu100) (2.8)\n",
            "Requirement already satisfied: chardet<3.1.0,>=3.0.2 in /usr/local/lib/python3.6/dist-packages (from requests<3,>=2.20.0->mxnet-cu100) (3.0.4)\n",
            "Installing collected packages: graphviz, mxnet-cu100\n",
            "  Found existing installation: graphviz 0.10.1\n",
            "    Uninstalling graphviz-0.10.1:\n",
            "      Successfully uninstalled graphviz-0.10.1\n",
            "Successfully installed graphviz-0.8.4 mxnet-cu100-1.5.0\n"
          ],
          "name": "stdout"
        }
      ]
    },
    {
      "cell_type": "markdown",
      "metadata": {
        "id": "Y75oaArEudOA",
        "colab_type": "text"
      },
      "source": [
        "O próximo bloco contém nossos importes. O mais importante aqui é o gluon. Gluon é uma API mais alto nível para criação de redes neurais. Por baixo, temos um código estilo o de backpragation da aula passada. Porém, é bem melhor :-) Mais rápido, usa GPUs, carrega dados etc.\n",
        "\n",
        "Note como fazemos import de várias partes do gluon. Um código completo com mxnet + gluon vai fazer algo como:\n",
        "\n",
        "```python\n",
        "from mxnet import autograd\n",
        "from mxnet import gluon\n",
        "from mxnet import init\n",
        "from mxnet import nd\n",
        "\n",
        "from mxnet.gluon import data as gdata\n",
        "from mxnet.gluon import loss as gloss\n",
        "from mxnet.gluon import nn\n",
        "from mxnet.gluon import utils```"
      ]
    },
    {
      "cell_type": "markdown",
      "metadata": {
        "id": "Dhgi1b9EudOE",
        "colab_type": "text"
      },
      "source": [
        "O próximo abaixo configura o mxnet para fazer uso de GPUs.\n",
        "\n",
        "**ATENÇÃO: a alteração deste bloco pode implicar em problemas na execução dos blocos restantes!**"
      ]
    },
    {
      "cell_type": "code",
      "metadata": {
        "colab_type": "code",
        "id": "XW-VATPAldgt",
        "colab": {}
      },
      "source": [
        "from mxnet import autograd\n",
        "from mxnet import gluon\n",
        "from mxnet import init\n",
        "from mxnet import nd\n",
        "\n",
        "from mxnet.gluon import data as gdata\n",
        "from mxnet.gluon import loss as gloss\n",
        "from mxnet.gluon import nn\n",
        "from mxnet.gluon import utils\n",
        "\n",
        "import os\n",
        "import sys\n",
        "import time\n",
        "import mxnet as mx"
      ],
      "execution_count": 0,
      "outputs": []
    },
    {
      "cell_type": "code",
      "metadata": {
        "id": "7Num_41mudOQ",
        "colab_type": "code",
        "colab": {}
      },
      "source": [
        "import matplotlib.pyplot as plt\n",
        "plt.ion()"
      ],
      "execution_count": 0,
      "outputs": []
    },
    {
      "cell_type": "code",
      "metadata": {
        "id": "EiPvbF6XudOX",
        "colab_type": "code",
        "colab": {
          "base_uri": "https://localhost:8080/",
          "height": 34
        },
        "outputId": "7c023eae-ad70-46d9-b70d-9a8f7869f8d4"
      },
      "source": [
        "# Tenta encontrar GPU\n",
        "def try_gpu():\n",
        "    try:\n",
        "        ctx = mx.gpu()\n",
        "        _ = nd.zeros((1,), ctx=ctx)\n",
        "    except mx.base.MXNetError:\n",
        "        ctx = mx.cpu()\n",
        "    return ctx\n",
        "\n",
        "# CTX é um contexto mxnet, caso exista GPU o código rola nela. Caso não, executa na CPU mesmo.\n",
        "ctx = try_gpu()\n",
        "ctx"
      ],
      "execution_count": 32,
      "outputs": [
        {
          "output_type": "execute_result",
          "data": {
            "text/plain": [
              "gpu(0)"
            ]
          },
          "metadata": {
            "tags": []
          },
          "execution_count": 32
        }
      ]
    },
    {
      "cell_type": "markdown",
      "metadata": {
        "colab_type": "text",
        "id": "Azv2ajIYkIjH"
      },
      "source": [
        "## Passo 1: Carregar os dados\n",
        "\n",
        "Para treinar qualquer modelo de aprendizado de máquina, devemos carregar os dados.\n",
        "Caso o modelo seja não supervisionado, teremos os dados somente.\n",
        "Já para modelos treinados supervisionadamente, teremos os dados e os rótulos (também conhecidos como *labels* ou *ground-truths*).\n",
        "\n",
        "Obserne como o MXNET importa dados, pelo menos os didáticos, de forma muito simples."
      ]
    },
    {
      "cell_type": "code",
      "metadata": {
        "id": "L6-T2TfmudOi",
        "colab_type": "code",
        "colab": {
          "base_uri": "https://localhost:8080/",
          "height": 86
        },
        "outputId": "de584f13-5c26-4cd8-8919-8f02a2f95b23"
      },
      "source": [
        "mnist_train = gdata.vision.MNIST(train=True)\n",
        "mnist_test = gdata.vision.MNIST(train=False)"
      ],
      "execution_count": 8,
      "outputs": [
        {
          "output_type": "stream",
          "text": [
            "Downloading /root/.mxnet/datasets/mnist/train-images-idx3-ubyte.gz from https://apache-mxnet.s3-accelerate.dualstack.amazonaws.com/gluon/dataset/mnist/train-images-idx3-ubyte.gz...\n",
            "Downloading /root/.mxnet/datasets/mnist/train-labels-idx1-ubyte.gz from https://apache-mxnet.s3-accelerate.dualstack.amazonaws.com/gluon/dataset/mnist/train-labels-idx1-ubyte.gz...\n",
            "Downloading /root/.mxnet/datasets/mnist/t10k-images-idx3-ubyte.gz from https://apache-mxnet.s3-accelerate.dualstack.amazonaws.com/gluon/dataset/mnist/t10k-images-idx3-ubyte.gz...\n",
            "Downloading /root/.mxnet/datasets/mnist/t10k-labels-idx1-ubyte.gz from https://apache-mxnet.s3-accelerate.dualstack.amazonaws.com/gluon/dataset/mnist/t10k-labels-idx1-ubyte.gz...\n"
          ],
          "name": "stdout"
        }
      ]
    },
    {
      "cell_type": "markdown",
      "metadata": {
        "id": "gpgRuvVhudOv",
        "colab_type": "text"
      },
      "source": [
        "Cada conjunto acima agora é um iterador. Podemos passar pelos elementos"
      ]
    },
    {
      "cell_type": "code",
      "metadata": {
        "id": "iueeOXnKudO0",
        "colab_type": "code",
        "colab": {
          "base_uri": "https://localhost:8080/",
          "height": 52
        },
        "outputId": "3a042063-3bcd-4ce1-b7ca-f402b7479683"
      },
      "source": [
        "for xi, yi in mnist_train:\n",
        "    print(xi.shape)\n",
        "    print(yi)\n",
        "    break"
      ],
      "execution_count": 9,
      "outputs": [
        {
          "output_type": "stream",
          "text": [
            "(28, 28, 1)\n",
            "5\n"
          ],
          "name": "stdout"
        }
      ]
    },
    {
      "cell_type": "markdown",
      "metadata": {
        "id": "_aQ9FO9iudO-",
        "colab_type": "text"
      },
      "source": [
        "No loop acima, vemos que o treino é uma image de 28, 28 por 1. A resposta é uma classe. A base é bem similar com as outras que usamo junto com skimage."
      ]
    },
    {
      "cell_type": "code",
      "metadata": {
        "id": "KcFyhzlSudPA",
        "colab_type": "code",
        "colab": {
          "base_uri": "https://localhost:8080/",
          "height": 52
        },
        "outputId": "c1106dc8-a3c7-43a8-8de8-c7f0a765d668"
      },
      "source": [
        "for xi, yi in mnist_train:\n",
        "    print(type(xi))\n",
        "    print(type(yi))\n",
        "    break"
      ],
      "execution_count": 10,
      "outputs": [
        {
          "output_type": "stream",
          "text": [
            "<class 'mxnet.ndarray.ndarray.NDArray'>\n",
            "<class 'numpy.int32'>\n"
          ],
          "name": "stdout"
        }
      ]
    },
    {
      "cell_type": "markdown",
      "metadata": {
        "id": "Hr2nQRBTudPJ",
        "colab_type": "text"
      },
      "source": [
        "O X é um TENSOR, o teste um inteiro. Como esperado, temos o número 5. Cada imagem é um número.\n",
        "\n",
        "Observe que precisei fazer um reshape para plotar, pois original o mxnet trabalha com tensores. Então, converti para uma imagem: (28, 28, 1) -> (28, 28)"
      ]
    },
    {
      "cell_type": "code",
      "metadata": {
        "scrolled": true,
        "id": "oSyo26jLudPL",
        "colab_type": "code",
        "colab": {
          "base_uri": "https://localhost:8080/",
          "height": 275
        },
        "outputId": "d991655e-65f3-4db0-92a6-1681ea84cf53"
      },
      "source": [
        "for xi, yi in mnist_train:\n",
        "    Img = xi.reshape((28, 28))\n",
        "    plt.matshow(Img.asnumpy())\n",
        "    break"
      ],
      "execution_count": 11,
      "outputs": [
        {
          "output_type": "display_data",
          "data": {
            "image/png": "[encoded data removed]",
            "text/plain": [
              "<Figure size 288x288 with 1 Axes>"
            ]
          },
          "metadata": {
            "tags": []
          }
        }
      ]
    },
    {
      "cell_type": "markdown",
      "metadata": {
        "id": "BMBpgAYXudPZ",
        "colab_type": "text"
      },
      "source": [
        "Vamos supor que nossa ideia fosse fazer uso de um multiplayer perceptron simples. O mesmo trabalha em cima de uma vetor. Portanto, temos que converter imagem ao carregar. Para isto, podemos fazer uso de um Transformer. Existe um mundo de [Transformers](https://mxnet.incubator.apache.org/api/python/gluon/data.html). Use o comando help para entender os mesmos."
      ]
    },
    {
      "cell_type": "code",
      "metadata": {
        "id": "KeInNAfGudPa",
        "colab_type": "code",
        "colab": {
          "base_uri": "https://localhost:8080/",
          "height": 1000
        },
        "outputId": "711f84c7-0fc7-4c71-9cc2-cc06bce68598"
      },
      "source": [
        "help(gdata.vision.transforms.Cast)\n",
        "gdata.vision.transforms.ToTensor\n",
        "gdata.vision.transforms.Resize\n",
        "gdata.vision.transforms.Normalize"
      ],
      "execution_count": 12,
      "outputs": [
        {
          "output_type": "stream",
          "text": [
            "Help on class Cast in module mxnet.gluon.data.vision.transforms:\n",
            "\n",
            "class Cast(mxnet.gluon.block.HybridBlock)\n",
            " |  Cast input to a specific data type\n",
            " |  \n",
            " |  Parameters\n",
            " |  ----------\n",
            " |  dtype : str, default 'float32'\n",
            " |      The target data type, in string or `numpy.dtype`.\n",
            " |  \n",
            " |  \n",
            " |  Inputs:\n",
            " |      - **data**: input tensor with arbitrary shape and dtype.\n",
            " |  \n",
            " |  Outputs:\n",
            " |      - **out**: output tensor with the same shape as `data` and data type as dtype.\n",
            " |  \n",
            " |  Method resolution order:\n",
            " |      Cast\n",
            " |      mxnet.gluon.block.HybridBlock\n",
            " |      mxnet.gluon.block.Block\n",
            " |      builtins.object\n",
            " |  \n",
            " |  Methods defined here:\n",
            " |  \n",
            " |  __init__(self, dtype='float32')\n",
            " |      Initialize self.  See help(type(self)) for accurate signature.\n",
            " |  \n",
            " |  hybrid_forward(self, F, x)\n",
            " |      Overrides to construct symbolic graph for this `Block`.\n",
            " |      \n",
            " |      Parameters\n",
            " |      ----------\n",
            " |      x : Symbol or NDArray\n",
            " |          The first input tensor.\n",
            " |      *args : list of Symbol or list of NDArray\n",
            " |          Additional input tensors.\n",
            " |  \n",
            " |  ----------------------------------------------------------------------\n",
            " |  Methods inherited from mxnet.gluon.block.HybridBlock:\n",
            " |  \n",
            " |  __setattr__(self, name, value)\n",
            " |      Registers parameters.\n",
            " |  \n",
            " |  cast(self, dtype)\n",
            " |      Cast this Block to use another data type.\n",
            " |      \n",
            " |      Parameters\n",
            " |      ----------\n",
            " |      dtype : str or numpy.dtype\n",
            " |          The new data type.\n",
            " |  \n",
            " |  export(self, path, epoch=0, remove_amp_cast=True)\n",
            " |      Export HybridBlock to json format that can be loaded by\n",
            " |      `SymbolBlock.imports`, `mxnet.mod.Module` or the C++ interface.\n",
            " |      \n",
            " |      .. note:: When there are only one input, it will have name `data`. When there\n",
            " |                Are more than one inputs, they will be named as `data0`, `data1`, etc.\n",
            " |      \n",
            " |      Parameters\n",
            " |      ----------\n",
            " |      path : str\n",
            " |          Path to save model. Two files `path-symbol.json` and `path-xxxx.params`\n",
            " |          will be created, where xxxx is the 4 digits epoch number.\n",
            " |      epoch : int\n",
            " |          Epoch number of saved model.\n",
            " |  \n",
            " |  forward(self, x, *args)\n",
            " |      Defines the forward computation. Arguments can be either\n",
            " |      :py:class:`NDArray` or :py:class:`Symbol`.\n",
            " |  \n",
            " |  hybridize(self, active=True, **kwargs)\n",
            " |      Activates or deactivates :py:class:`HybridBlock` s recursively. Has no effect on\n",
            " |      non-hybrid children.\n",
            " |      \n",
            " |      Parameters\n",
            " |      ----------\n",
            " |      active : bool, default True\n",
            " |          Whether to turn hybrid on or off.\n",
            " |      static_alloc : bool, default False\n",
            " |          Statically allocate memory to improve speed. Memory usage may increase.\n",
            " |      static_shape : bool, default False\n",
            " |          Optimize for invariant input shapes between iterations. Must also\n",
            " |          set static_alloc to True. Change of input shapes is still allowed\n",
            " |          but slower.\n",
            " |  \n",
            " |  infer_shape(self, *args)\n",
            " |      Infers shape of Parameters from inputs.\n",
            " |  \n",
            " |  infer_type(self, *args)\n",
            " |      Infers data type of Parameters from inputs.\n",
            " |  \n",
            " |  register_child(self, block, name=None)\n",
            " |      Registers block as a child of self. :py:class:`Block` s assigned to self as\n",
            " |      attributes will be registered automatically.\n",
            " |  \n",
            " |  ----------------------------------------------------------------------\n",
            " |  Methods inherited from mxnet.gluon.block.Block:\n",
            " |  \n",
            " |  __call__(self, *args)\n",
            " |      Calls forward. Only accepts positional arguments.\n",
            " |  \n",
            " |  __repr__(self)\n",
            " |      Return repr(self).\n",
            " |  \n",
            " |  apply(self, fn)\n",
            " |      Applies ``fn`` recursively to every child block as well as self.\n",
            " |      \n",
            " |      Parameters\n",
            " |      ----------\n",
            " |      fn : callable\n",
            " |          Function to be applied to each submodule, of form `fn(block)`.\n",
            " |      \n",
            " |      Returns\n",
            " |      -------\n",
            " |      this block\n",
            " |  \n",
            " |  collect_params(self, select=None)\n",
            " |      Returns a :py:class:`ParameterDict` containing this :py:class:`Block` and all of its\n",
            " |      children's Parameters(default), also can returns the select :py:class:`ParameterDict`\n",
            " |      which match some given regular expressions.\n",
            " |      \n",
            " |      For example, collect the specified parameters in ['conv1_weight', 'conv1_bias', 'fc_weight',\n",
            " |      'fc_bias']::\n",
            " |      \n",
            " |          model.collect_params('conv1_weight|conv1_bias|fc_weight|fc_bias')\n",
            " |      \n",
            " |      or collect all parameters whose names end with 'weight' or 'bias', this can be done\n",
            " |      using regular expressions::\n",
            " |      \n",
            " |          model.collect_params('.*weight|.*bias')\n",
            " |      \n",
            " |      Parameters\n",
            " |      ----------\n",
            " |      select : str\n",
            " |          regular expressions\n",
            " |      \n",
            " |      Returns\n",
            " |      -------\n",
            " |      The selected :py:class:`ParameterDict`\n",
            " |  \n",
            " |  initialize(self, init=<mxnet.initializer.Uniform object at 0x7fb258acfdd8>, ctx=None, verbose=False, force_reinit=False)\n",
            " |      Initializes :py:class:`Parameter` s of this :py:class:`Block` and its children.\n",
            " |      Equivalent to ``block.collect_params().initialize(...)``\n",
            " |      \n",
            " |      Parameters\n",
            " |      ----------\n",
            " |      init : Initializer\n",
            " |          Global default Initializer to be used when :py:meth:`Parameter.init` is ``None``.\n",
            " |          Otherwise, :py:meth:`Parameter.init` takes precedence.\n",
            " |      ctx : Context or list of Context\n",
            " |          Keeps a copy of Parameters on one or many context(s).\n",
            " |      verbose : bool, default False\n",
            " |          Whether to verbosely print out details on initialization.\n",
            " |      force_reinit : bool, default False\n",
            " |          Whether to force re-initialization if parameter is already initialized.\n",
            " |  \n",
            " |  load_parameters(self, filename, ctx=None, allow_missing=False, ignore_extra=False, cast_dtype=False, dtype_source='current')\n",
            " |      Load parameters from file previously saved by `save_parameters`.\n",
            " |      \n",
            " |      Parameters\n",
            " |      ----------\n",
            " |      filename : str\n",
            " |          Path to parameter file.\n",
            " |      ctx : Context or list of Context, default cpu()\n",
            " |          Context(s) to initialize loaded parameters on.\n",
            " |      allow_missing : bool, default False\n",
            " |          Whether to silently skip loading parameters not represents in the file.\n",
            " |      ignore_extra : bool, default False\n",
            " |          Whether to silently ignore parameters from the file that are not\n",
            " |          present in this Block.\n",
            " |      cast_dtype : bool, default False\n",
            " |          Cast the data type of the NDArray loaded from the checkpoint to the dtype\n",
            " |          provided by the Parameter if any.\n",
            " |      dtype_source : str, default 'current'\n",
            " |          must be in {'current', 'saved'}\n",
            " |          Only valid if cast_dtype=True, specify the source of the dtype for casting\n",
            " |          the parameters\n",
            " |      References\n",
            " |      ----------\n",
            " |      `Saving and Loading Gluon Models         <https://mxnet.incubator.apache.org/tutorials/gluon/save_load_params.html>`_\n",
            " |  \n",
            " |  load_params(self, filename, ctx=None, allow_missing=False, ignore_extra=False)\n",
            " |      [Deprecated] Please use load_parameters.\n",
            " |      \n",
            " |      Load parameters from file.\n",
            " |      \n",
            " |      filename : str\n",
            " |          Path to parameter file.\n",
            " |      ctx : Context or list of Context, default cpu()\n",
            " |          Context(s) to initialize loaded parameters on.\n",
            " |      allow_missing : bool, default False\n",
            " |          Whether to silently skip loading parameters not represents in the file.\n",
            " |      ignore_extra : bool, default False\n",
            " |          Whether to silently ignore parameters from the file that are not\n",
            " |          present in this Block.\n",
            " |  \n",
            " |  name_scope(self)\n",
            " |      Returns a name space object managing a child :py:class:`Block` and parameter\n",
            " |      names. Should be used within a ``with`` statement::\n",
            " |      \n",
            " |          with self.name_scope():\n",
            " |              self.dense = nn.Dense(20)\n",
            " |      \n",
            " |      Please refer to\n",
            " |      `naming tutorial <http://mxnet.incubator.apache.org/tutorials/gluon/naming.html>`_\n",
            " |      for more info on prefix and naming.\n",
            " |  \n",
            " |  register_forward_hook(self, hook)\n",
            " |      Registers a forward hook on the block.\n",
            " |      \n",
            " |      The hook function is called immediately after :func:`forward`.\n",
            " |      It should not modify the input or output.\n",
            " |      \n",
            " |      Parameters\n",
            " |      ----------\n",
            " |      hook : callable\n",
            " |          The forward hook function of form `hook(block, input, output) -> None`.\n",
            " |      \n",
            " |      Returns\n",
            " |      -------\n",
            " |      :class:`mxnet.gluon.utils.HookHandle`\n",
            " |  \n",
            " |  register_forward_pre_hook(self, hook)\n",
            " |      Registers a forward pre-hook on the block.\n",
            " |      \n",
            " |      The hook function is called immediately before :func:`forward`.\n",
            " |      It should not modify the input or output.\n",
            " |      \n",
            " |      Parameters\n",
            " |      ----------\n",
            " |      hook : callable\n",
            " |          The forward hook function of form `hook(block, input) -> None`.\n",
            " |      \n",
            " |      Returns\n",
            " |      -------\n",
            " |      :class:`mxnet.gluon.utils.HookHandle`\n",
            " |  \n",
            " |  save_parameters(self, filename)\n",
            " |      Save parameters to file.\n",
            " |      \n",
            " |      Saved parameters can only be loaded with `load_parameters`. Note that this\n",
            " |      method only saves parameters, not model structure. If you want to save\n",
            " |      model structures, please use :py:meth:`HybridBlock.export`.\n",
            " |      \n",
            " |      Parameters\n",
            " |      ----------\n",
            " |      filename : str\n",
            " |          Path to file.\n",
            " |      \n",
            " |      References\n",
            " |      ----------\n",
            " |      `Saving and Loading Gluon Models         <https://mxnet.incubator.apache.org/tutorials/gluon/save_load_params.html>`_\n",
            " |  \n",
            " |  save_params(self, filename)\n",
            " |      [Deprecated] Please use save_parameters. Note that if you want load\n",
            " |      from SymbolBlock later, please use export instead.\n",
            " |      \n",
            " |      Save parameters to file.\n",
            " |      \n",
            " |      filename : str\n",
            " |          Path to file.\n",
            " |  \n",
            " |  summary(self, *inputs)\n",
            " |      Print the summary of the model's output and parameters.\n",
            " |      \n",
            " |      The network must have been initialized, and must not have been hybridized.\n",
            " |      \n",
            " |      Parameters\n",
            " |      ----------\n",
            " |      inputs : object\n",
            " |          Any input that the model supports. For any tensor in the input, only\n",
            " |          :class:`mxnet.ndarray.NDArray` is supported.\n",
            " |  \n",
            " |  ----------------------------------------------------------------------\n",
            " |  Data descriptors inherited from mxnet.gluon.block.Block:\n",
            " |  \n",
            " |  __dict__\n",
            " |      dictionary for instance variables (if defined)\n",
            " |  \n",
            " |  __weakref__\n",
            " |      list of weak references to the object (if defined)\n",
            " |  \n",
            " |  name\n",
            " |      Name of this :py:class:`Block`, without '_' in the end.\n",
            " |  \n",
            " |  params\n",
            " |      Returns this :py:class:`Block`'s parameter dictionary (does not include its\n",
            " |      children's parameters).\n",
            " |  \n",
            " |  prefix\n",
            " |      Prefix of this :py:class:`Block`.\n",
            "\n"
          ],
          "name": "stdout"
        },
        {
          "output_type": "execute_result",
          "data": {
            "text/plain": [
              "mxnet.gluon.data.vision.transforms.Normalize"
            ]
          },
          "metadata": {
            "tags": []
          },
          "execution_count": 12
        }
      ]
    },
    {
      "cell_type": "markdown",
      "metadata": {
        "id": "3aVbsOEmudPf",
        "colab_type": "text"
      },
      "source": [
        "Vamos supor que você queira trabalhar com uma imagem em float32. Use um transformer!"
      ]
    },
    {
      "cell_type": "code",
      "metadata": {
        "id": "8ocOiWTYudPh",
        "colab_type": "code",
        "colab": {
          "base_uri": "https://localhost:8080/",
          "height": 34
        },
        "outputId": "b5ef93bc-6da8-4f49-f633-f2596a17296b"
      },
      "source": [
        "xi, yi = next(iter(mnist_train))\n",
        "print(xi.dtype)"
      ],
      "execution_count": 13,
      "outputs": [
        {
          "output_type": "stream",
          "text": [
            "<class 'numpy.uint8'>\n"
          ],
          "name": "stdout"
        }
      ]
    },
    {
      "cell_type": "code",
      "metadata": {
        "id": "JLNGGPACudPp",
        "colab_type": "code",
        "colab": {
          "base_uri": "https://localhost:8080/",
          "height": 34
        },
        "outputId": "5826f733-5e4b-4835-fd02-32384bb6e4a4"
      },
      "source": [
        "transform = gdata.vision.transforms.Cast('float32')\n",
        "xi_new = transform(xi)\n",
        "print(xi_new.dtype)"
      ],
      "execution_count": 14,
      "outputs": [
        {
          "output_type": "stream",
          "text": [
            "<class 'numpy.float32'>\n"
          ],
          "name": "stdout"
        }
      ]
    },
    {
      "cell_type": "markdown",
      "metadata": {
        "id": "2rtogmyBudPx",
        "colab_type": "text"
      },
      "source": [
        "Podemos criar nossos transformers também! Por baixo são funções simples."
      ]
    },
    {
      "cell_type": "code",
      "metadata": {
        "id": "o940WhIeudPz",
        "colab_type": "code",
        "colab": {}
      },
      "source": [
        "def transform(xi, yi):\n",
        "    return xi.reshape(28*28).astype('float32'), yi.astype('float32')"
      ],
      "execution_count": 0,
      "outputs": []
    },
    {
      "cell_type": "code",
      "metadata": {
        "id": "3Wp_rd-JudP2",
        "colab_type": "code",
        "colab": {
          "base_uri": "https://localhost:8080/",
          "height": 34
        },
        "outputId": "52323aed-85f4-4847-e52a-e57485a30a2d"
      },
      "source": [
        "xi_new, yi_new = transform(xi, yi)\n",
        "print(xi_new.shape)"
      ],
      "execution_count": 16,
      "outputs": [
        {
          "output_type": "stream",
          "text": [
            "(784,)\n"
          ],
          "name": "stdout"
        }
      ]
    },
    {
      "cell_type": "markdown",
      "metadata": {
        "id": "dxmENCBrudP9",
        "colab_type": "text"
      },
      "source": [
        "Jogamos o transformer no carregamento dos dados e voilà!"
      ]
    },
    {
      "cell_type": "code",
      "metadata": {
        "id": "N2HafqgQudP_",
        "colab_type": "code",
        "colab": {}
      },
      "source": [
        "mnist_train = gdata.vision.MNIST(train=True, transform=transform)\n",
        "mnist_test = gdata.vision.MNIST(train=False, transform=transform)"
      ],
      "execution_count": 0,
      "outputs": []
    },
    {
      "cell_type": "code",
      "metadata": {
        "id": "SKOsKWGYudQE",
        "colab_type": "code",
        "colab": {
          "base_uri": "https://localhost:8080/",
          "height": 52
        },
        "outputId": "cfd0e652-687c-4dd6-91a9-a5348d10324f"
      },
      "source": [
        "for xi, yi in mnist_train:\n",
        "    print(xi.shape)\n",
        "    print(xi.dtype)\n",
        "    break"
      ],
      "execution_count": 18,
      "outputs": [
        {
          "output_type": "stream",
          "text": [
            "(784,)\n",
            "<class 'numpy.float32'>\n"
          ],
          "name": "stdout"
        }
      ]
    },
    {
      "cell_type": "markdown",
      "metadata": {
        "id": "Q3gduJeRudQP",
        "colab_type": "text"
      },
      "source": [
        "Com a classe `gluon.data.DataLoader` conseguimos iterar pela base em minibatches. Esta é a ideia para executar um Minibatch-GD (abaixo)."
      ]
    },
    {
      "cell_type": "code",
      "metadata": {
        "id": "dITSqNKOudQR",
        "colab_type": "code",
        "colab": {}
      },
      "source": [
        "mnist_train = gdata.vision.MNIST(train=True, transform=transform)\n",
        "mnist_test = gdata.vision.MNIST(train=False, transform=transform)"
      ],
      "execution_count": 0,
      "outputs": []
    },
    {
      "cell_type": "code",
      "metadata": {
        "id": "59YqKGXrudQZ",
        "colab_type": "code",
        "colab": {}
      },
      "source": [
        "minibatch_train = gluon.data.DataLoader(mnist_train, 50)\n",
        "minibatch_test = gluon.data.DataLoader(mnist_test, 50)"
      ],
      "execution_count": 0,
      "outputs": []
    },
    {
      "cell_type": "code",
      "metadata": {
        "id": "DejKEv4QudQf",
        "colab_type": "code",
        "colab": {
          "base_uri": "https://localhost:8080/",
          "height": 52
        },
        "outputId": "f41c3aed-21e6-4aab-ad1e-0fd0b47ba412"
      },
      "source": [
        "for xi, yi in minibatch_train:\n",
        "    print(xi.shape) # note como carregamos 50 vetores de tamanho 784\n",
        "    print(xi.dtype)\n",
        "    break"
      ],
      "execution_count": 21,
      "outputs": [
        {
          "output_type": "stream",
          "text": [
            "(50, 784)\n",
            "<class 'numpy.float32'>\n"
          ],
          "name": "stdout"
        }
      ]
    },
    {
      "cell_type": "markdown",
      "metadata": {
        "id": "9UqB--ITudQl",
        "colab_type": "text"
      },
      "source": [
        "Uma prática comum que você pode ter nos seus dados é criar pastas de imagem de treino, teste e validação. Não temos isto pronto no notebook mas seria algo como o código abaixo. Note o uso de um `gluon.data.vision.ImageFolderDataset`.\n",
        "\n",
        "```python\n",
        "# loading the data and apply pre-processing(transforms) on images\n",
        "train_data = gluon.data.DataLoader(\n",
        "    gluon.data.vision.ImageFolderDataset(train_path), transform=transformer,\n",
        "    batch_size=batch_size, shuffle=True, num_workers=num_workers)\n",
        "\n",
        "val_data = gluon.data.DataLoader(\n",
        "    gluon.data.vision.ImageFolderDataset(val_path), transform=transformer,\n",
        "    batch_size=batch_size, shuffle=False, num_workers=num_workers)\n",
        "\n",
        "test_data = gluon.data.DataLoader(\n",
        "    gluon.data.vision.ImageFolderDataset(test_path), transform=transformer,\n",
        "    batch_size=batch_size, shuffle=False, num_workers=num_workers)\n",
        "```"
      ]
    },
    {
      "cell_type": "markdown",
      "metadata": {
        "colab_type": "text",
        "id": "rRTTtpx4FhOC"
      },
      "source": [
        "## Passo 2: Definir a arquitetura\n",
        "\n",
        "Um modelo deve ser definito para ser treinado usando os dados desejados.\n",
        "No caso de redes neurais, criaremos uma nova arquitetura.\n",
        "Tal arquitetura pode ser composta de diversos tipos de camadas como, por exemplo, [Densas](https://mxnet.incubator.apache.org/api/python/gluon/nn.html#mxnet.gluon.nn.Dense) (camadas totalmente conectadas como as que implementamos do zero), [convolucionais](https://mxnet.incubator.apache.org/api/python/gluon/nn.html#mxnet.gluon.nn.Conv2D), e [recorrentes](https://mxnet.incubator.apache.org/api/python/gluon/rnn.html#mxnet.gluon.rnn.RNN).\n",
        "Veremos todas essas camadas ao longo do curso.\n",
        "\n",
        "O código abaixo cria uma rede simples MLP. Note como a mesma tem 10 saídas. A entrada não é definida, o mxnet é inteligente suficiente para adivinhar o formato da camada-zero usando os dados.\n",
        "\n",
        "(sim, o reshape de antes não serve de nada, mas ok, ajuda para aprender)"
      ]
    },
    {
      "cell_type": "code",
      "metadata": {
        "id": "XTAf7RvJudQs",
        "colab_type": "code",
        "colab": {}
      },
      "source": [
        "net = nn.Sequential()\n",
        "net.add(nn.Dense(10))\n",
        "net.initialize(init.Normal(sigma=0.01)) # valores iniciais são uma normal"
      ],
      "execution_count": 0,
      "outputs": []
    },
    {
      "cell_type": "markdown",
      "metadata": {
        "colab_type": "text",
        "id": "BAgtOMZKHqS9"
      },
      "source": [
        "## Passo 3: Definir a função de custo (função de perda ou *loss*)\n",
        "\n",
        "Funções de perda, também conhecidas como *loss functions*, são muito importantes para o aprendizagem de máquinas, pois servem como uma forma de medir a distância ou a diferença entre a saída prevista de um modelo e o seu valor real, auxiliando então no treino no modelo.\n",
        "\n",
        "Diversas funções de perda foram propostas ao longo do tempo para diferentes tipos de problemas.\n",
        "Algumas dessas funções foram propostas para auxiliar no treino de modelos de regressão linear, como as *loss* [L1](https://mxnet.incubator.apache.org/api/python/gluon/loss.html#mxnet.gluon.loss.L2Loss), [L2](https://mxnet.incubator.apache.org/api/python/gluon/loss.html#mxnet.gluon.loss.L1Loss).\n",
        "Já outras foram propostas para problemas de classificação, como [Hinge](https://mxnet.incubator.apache.org/api/python/gluon/loss.html#mxnet.gluon.loss.HingeLoss), e [Cross Entropy](https://mxnet.incubator.apache.org/api/python/gluon/loss.html#mxnet.gluon.loss.SoftmaxCrossEntropyLoss).\n",
        "\n",
        "Veremos várias funções de custo mais adiante no curso.\n",
        "Neste primeiro momento, focaremos na função [Cross Entropy](https://mxnet.incubator.apache.org/api/python/gluon/loss.html#mxnet.gluon.loss.SoftmaxCrossEntropyLoss)  combinada com a ativação [Softmax](https://mxnet.incubator.apache.org/api/python/symbol/symbol.html#mxnet.symbol.Symbol.softmax), pois é a combinação mais comum nos dias de hoje para a tarefa de classificação.\n",
        "\n",
        "O pequeno bloco de código abaixo implementa essa função de perda em MXNet."
      ]
    },
    {
      "cell_type": "code",
      "metadata": {
        "colab_type": "code",
        "id": "WVoEMNgBIt9v",
        "colab": {}
      },
      "source": [
        "# função de custo (ou loss)\n",
        "cross_entropy = gloss.SoftmaxCrossEntropyLoss()"
      ],
      "execution_count": 0,
      "outputs": []
    },
    {
      "cell_type": "markdown",
      "metadata": {
        "colab_type": "text",
        "id": "BDJGM6GrJIeV"
      },
      "source": [
        "## Passo 4: Definir o algoritmo de otimização\n",
        "\n",
        "Definimos uma arquitetura, composta de diversos pesos geralmente inicializados aleatoriamente, e definimos também uma função que custo que nos permite avaliar o quão bem esta rede neural está.\n",
        "Entretanto, para que possamos alterar os pesos e fazer a rede convergir para um bom resultados, devemos definir um algoritmo de otimização, que usará derivadas parciais da função de custo em relação àos pesos para otimizar a rede.\n",
        "\n",
        "Diversos algoritmos foram propostos ao longo dos anos como, por exemplo, [Stochastic Gradient Descent (SGD)](https://mxnet.incubator.apache.org/api/python/optimization/optimization.html#mxnet.optimizer.SGD), [Adam](https://mxnet.incubator.apache.org/api/python/optimization/optimization.html#mxnet.optimizer.Adam), e [RMSProp](https://mxnet.incubator.apache.org/api/python/optimization/optimization.html#mxnet.optimizer.RMSProp).\n",
        "Veremos mais adianta sobre cada um desses algoritmos.\n",
        "Nesse primeiro momento, usaremos o algoritmo mais comum: [Stochastic Gradient Descent (SGD)](https://mxnet.incubator.apache.org/api/python/optimization/optimization.html#mxnet.optimizer.SGD).\n",
        "\n",
        "O código abaixo implementa uma função de otimização usando o SGD para otimizar todos os parâmetros da rede neural proposta."
      ]
    },
    {
      "cell_type": "code",
      "metadata": {
        "colab_type": "code",
        "id": "SvJ1W-niJIGA",
        "colab": {}
      },
      "source": [
        "# trainer do gluon\n",
        "lr = 0.5\n",
        "trainer = gluon.Trainer(net.collect_params(), 'sgd', {'learning_rate': lr})"
      ],
      "execution_count": 0,
      "outputs": []
    },
    {
      "cell_type": "markdown",
      "metadata": {
        "id": "iJ1XE7-tudRM",
        "colab_type": "text"
      },
      "source": [
        "### Treinando\n",
        "\n",
        "A partir deste momento já podemos treinar! Observe como a biblioteca permite de forma muito simples uma implementação do gradiente descendente"
      ]
    },
    {
      "cell_type": "code",
      "metadata": {
        "id": "fOvArNxPudRO",
        "colab_type": "code",
        "colab": {}
      },
      "source": [
        "# 1. Carrega dados\n",
        "mnist_train = gdata.vision.MNIST(train=True, transform=transform)\n",
        "mnist_test = gdata.vision.MNIST(train=False, transform=transform)\n",
        "\n",
        "# 2. Define mini-batch\n",
        "minibatch_train = gluon.data.DataLoader(mnist_train, 50)\n",
        "minibatch_test = gluon.data.DataLoader(mnist_test, 50)\n",
        "\n",
        "# 3. Define rede\n",
        "\n",
        "net = nn.Sequential()\n",
        "net.add(nn.Dense(10))\n",
        "net.initialize(init.Normal(sigma=0.01)) # valores iniciais são uma normal\n",
        "\n",
        "# 4. Define loss e treinamento\n",
        "cross_entropy = gloss.SoftmaxCrossEntropyLoss()\n",
        "lr = 0.01\n",
        "trainer = gluon.Trainer(net.collect_params(), 'sgd', {'learning_rate': lr})"
      ],
      "execution_count": 0,
      "outputs": []
    },
    {
      "cell_type": "markdown",
      "metadata": {
        "id": "ZVroepQeudRX",
        "colab_type": "text"
      },
      "source": [
        "Agora, treine!"
      ]
    },
    {
      "cell_type": "code",
      "metadata": {
        "id": "71_EeFF6udRb",
        "colab_type": "code",
        "colab": {
          "base_uri": "https://localhost:8080/",
          "height": 104
        },
        "outputId": "6e018a5a-61e7-4702-cbcd-a23f50d03cd6"
      },
      "source": [
        "n_epochs = 5\n",
        "for i in range(n_epochs):         # número de iterações, não verificamos convergencia\n",
        "    cumulative_loss = 0\n",
        "    for data, y in minibatch_train:       # para cada minibatch\n",
        "        with mx.autograd.record():        # indicando que vamos derivar\n",
        "            P = net(data)                 # execute o softmax, retorne as probabilidades, forward\n",
        "            loss = cross_entropy(P, y)    # compute a perda\n",
        "        loss.backward()                   # atualiza os pesos com backward, nosso backprop de antes\n",
        "        trainer.step(data.shape[0])       # atualize os parâmetros com a derivada\n",
        "        cumulative_loss += nd.sum(loss).asscalar()\n",
        "    print('Iteração {}. Perda {}'.format(i, cumulative_loss / len(data)))"
      ],
      "execution_count": 26,
      "outputs": [
        {
          "output_type": "stream",
          "text": [
            "Iteração 0. Perda 324451.44067504886\n",
            "Iteração 1. Perda 246036.3835131836\n",
            "Iteração 2. Perda 235866.63478955269\n",
            "Iteração 3. Perda 224891.85356711387\n",
            "Iteração 4. Perda 226296.88347029925\n"
          ],
          "name": "stdout"
        }
      ]
    },
    {
      "cell_type": "markdown",
      "metadata": {
        "id": "FlV_NsPnudRj",
        "colab_type": "text"
      },
      "source": [
        "Podemos treinar aquiteturas mais complicadas. Abaixo, treinaremos uma arquitetura baseada na [LeNet-5](https://ieeexplore.ieee.org/document/726791).\n",
        "\n",
        "Notem que, além de definir o tipo da camada, é necessário também definir a sua ativação.\n",
        "Existem diversos tipos de ativações como, por exemplo, [ReLU](https://mxnet.incubator.apache.org/api/python/symbol/symbol.html#mxnet.symbol.Symbol.relu), [LeakyReLU](https://mxnet.incubator.apache.org/api/python/gluon/nn.html#mxnet.gluon.nn.LeakyReLU), e [sigmoid](https://mxnet.incubator.apache.org/api/python/symbol/symbol.html#mxnet.symbol.Symbol.sigmoid).\n",
        "Neste primeiro momento, usaremos somente a ReLU.\n",
        "Porém, veremos mais de perto várias outras ativações ao longo deste curso.\n",
        "\n",
        "O trecho de código abaixo implementa uma rede simples usando [ReLUs](https://mxnet.incubator.apache.org/api/python/symbol/symbol.html#mxnet.symbol.Symbol.relu) no framework MXNet."
      ]
    },
    {
      "cell_type": "code",
      "metadata": {
        "id": "_rMB6xhTudRm",
        "colab_type": "code",
        "colab": {}
      },
      "source": [
        "# 1. Carrega dados\n",
        "mnist_train = gdata.vision.MNIST(train=True, transform=transform)\n",
        "mnist_test = gdata.vision.MNIST(train=False, transform=transform)\n",
        "\n",
        "# 2. Define mini-batch\n",
        "minibatch_train = gluon.data.DataLoader(mnist_train, 50)\n",
        "minibatch_test = gluon.data.DataLoader(mnist_test, 50)\n",
        "\n",
        "# 3. Define rede\n",
        "\n",
        "net = nn.Sequential()\n",
        "net.add(nn.Dense(128, activation='relu'),\n",
        "        nn.Dense(64, activation='relu'),\n",
        "        nn.Dense(10))\n",
        "net.initialize(init.Normal(sigma=0.01), ctx=ctx) # observe aqui o uso do ctx! use a GPU!!\n",
        "\n",
        "# 4. Define loss e treinamento\n",
        "cross_entropy = gloss.SoftmaxCrossEntropyLoss()\n",
        "lr = 0.5\n",
        "trainer = gluon.Trainer(net.collect_params(), 'sgd', {'learning_rate': lr})"
      ],
      "execution_count": 0,
      "outputs": []
    },
    {
      "cell_type": "markdown",
      "metadata": {
        "id": "Sbj2Yq-PudRq",
        "colab_type": "text"
      },
      "source": [
        "Observe como nessa rede nova a perda é bem menor logo de cara, parece melhor!"
      ]
    },
    {
      "cell_type": "code",
      "metadata": {
        "colab_type": "code",
        "id": "FAEBKuhzHLeO",
        "colab": {
          "base_uri": "https://localhost:8080/",
          "height": 104
        },
        "outputId": "78448668-2447-4f88-de04-2d5af10b6f30"
      },
      "source": [
        "iteracoes_treino = 5\n",
        "for i in range(iteracoes_treino):         # número de iterações, não verificamos convergencia\n",
        "    cumulative_loss = 0\n",
        "    for data, y in minibatch_train:# para cada minibatch\n",
        "        data, y = data.as_in_context(ctx), y.as_in_context(ctx) \n",
        "        with mx.autograd.record():        # indicando que vamos derivar\n",
        "            P = net(data)                 # execute o softmax, retorne as probabilidades, forward\n",
        "            loss = cross_entropy(P, y)    # compute a perda\n",
        "        loss.backward()                   # atualiza os pesos com backward, nosso backprop de antes\n",
        "        trainer.step(data.shape[0])       # atualize os parâmetros com a derivada\n",
        "        cumulative_loss += nd.sum(loss).asscalar()\n",
        "    print('Iteração {}. Perda {}'.format(i, cumulative_loss / len(data)))"
      ],
      "execution_count": 34,
      "outputs": [
        {
          "output_type": "stream",
          "text": [
            "Iteração 0. Perda 4645989.648864136\n",
            "Iteração 1. Perda 2764.4041143798827\n",
            "Iteração 2. Perda 2764.4041143798827\n",
            "Iteração 3. Perda 2764.4041143798827\n",
            "Iteração 4. Perda 2764.4041143798827\n"
          ],
          "name": "stdout"
        }
      ]
    },
    {
      "cell_type": "markdown",
      "metadata": {
        "id": "ViMClzK3udRz",
        "colab_type": "text"
      },
      "source": [
        "Abaixo rodamos um minibatch apenas. Note como a rede gera previsões. Para cada instância, temos 10 elementos da camada final. A probabilidade de cada classe!"
      ]
    },
    {
      "cell_type": "code",
      "metadata": {
        "id": "5lMvDgA2udR2",
        "colab_type": "code",
        "colab": {
          "base_uri": "https://localhost:8080/",
          "height": 34
        },
        "outputId": "aaec80ac-525c-40aa-8918-ec644208f7c9"
      },
      "source": [
        "for data, y in minibatch_test:\n",
        "    data= data.as_in_context(ctx)\n",
        "    P = net(data)                # faça uma previsão\n",
        "    print(P.shape)\n",
        "    break"
      ],
      "execution_count": 36,
      "outputs": [
        {
          "output_type": "stream",
          "text": [
            "(50, 10)\n"
          ],
          "name": "stdout"
        }
      ]
    },
    {
      "cell_type": "markdown",
      "metadata": {
        "id": "7tKyO7NcudR6",
        "colab_type": "text"
      },
      "source": [
        "Abaixo avaliamos a acurácia no teste.\n",
        "\n",
        "Note o use da classe `mx.metric.Accuracy()`. A mesma acumula resultados para cada minibatch do teste. Sim, é esquisito, mas deixa a ideia de iterar por batches consistente em treino/teste."
      ]
    },
    {
      "cell_type": "code",
      "metadata": {
        "id": "A3QwsX5xudR7",
        "colab_type": "code",
        "colab": {
          "base_uri": "https://localhost:8080/",
          "height": 34
        },
        "outputId": "910c553b-84b7-4f0a-a3e9-10fb578ebd94"
      },
      "source": [
        "from mxnet import metric\n",
        "\n",
        "acc = metric.Accuracy()\n",
        "i = 0\n",
        "for data, y in minibatch_test:            # para cada minibatch do teste\n",
        "    data, y = data.as_in_context(ctx), y.as_in_context(ctx) \n",
        "    P = net(data)                         # faça uma previsão\n",
        "    pred = P.argmax(axis=1)               # pegue a classe mais provavel\n",
        "    acc.update(preds = pred, labels = y)  # atualize a accuracy\n",
        "print(acc)"
      ],
      "execution_count": 38,
      "outputs": [
        {
          "output_type": "stream",
          "text": [
            "EvalMetric: {'accuracy': 0.1027}\n"
          ],
          "name": "stdout"
        }
      ]
    },
    {
      "cell_type": "markdown",
      "metadata": {
        "colab_type": "text",
        "id": "YkxA9w4sLX1L"
      },
      "source": [
        "## Passo 5: Colando Tudo Junto\n",
        "\n",
        "\n",
        "No geral, não vamos fazer isso sempre do zero. \n",
        "\n",
        "Portanto, abaixo implementamos algumas funções auxiliares. As mesmas carregam os dados, quebram treinam e validam, reportam métricas. Vamos usar elas nos outros notebooks.\n",
        "\n",
        "Portanto, criamos conjuntos de treino/validação. Este é último passo para então treinar a rede neural. Abixo, temos uma função que que recebe os dados, a rede, o *loss*, e o algoritmo de otimização, e realmente converge o modelo."
      ]
    },
    {
      "cell_type": "code",
      "metadata": {
        "colab_type": "code",
        "id": "tlBGUroCFfyh",
        "colab": {}
      },
      "source": [
        "## carregando dados\n",
        "\n",
        "# código para carregar o dataset do MNIST\n",
        "# http://yann.lecun.com/exdb/mnist/\n",
        "def load_data_mnist(batch_size, resize=None, root=os.path.join(\n",
        "        '~', '.mxnet', 'datasets', 'mnist')):\n",
        "    \"\"\"Download the MNIST dataset and then load into memory.\"\"\"\n",
        "    root = os.path.expanduser(root)\n",
        "    transformer = []\n",
        "    if resize:\n",
        "        transformer += [gdata.vision.transforms.Resize(resize)]\n",
        "    transformer += [gdata.vision.transforms.ToTensor()]\n",
        "    transformer = gdata.vision.transforms.Compose(transformer)\n",
        "\n",
        "    mnist_train = gdata.vision.MNIST(root=root, train=True)\n",
        "    mnist_test = gdata.vision.MNIST(root=root, train=False)\n",
        "    num_workers = 0 if sys.platform.startswith('win32') else 4\n",
        "\n",
        "    train_iter = gdata.DataLoader(mnist_train.transform_first(transformer),\n",
        "                                  batch_size, shuffle=True,\n",
        "                                  num_workers=num_workers)\n",
        "    test_iter = gdata.DataLoader(mnist_test.transform_first(transformer),\n",
        "                                 batch_size, shuffle=False,\n",
        "                                 num_workers=num_workers)\n",
        "    return train_iter, test_iter\n",
        "\n",
        "# funções básicas\n",
        "def _get_batch(batch, ctx):\n",
        "    \"\"\"Return features and labels on ctx.\"\"\"\n",
        "    features, labels = batch\n",
        "    if labels.dtype != features.dtype:\n",
        "        labels = labels.astype(features.dtype)\n",
        "    return (gutils.split_and_load(features, ctx),\n",
        "            gutils.split_and_load(labels, ctx), features.shape[0])\n",
        "\n",
        "# Função usada para calcular acurácia\n",
        "def evaluate_accuracy(data_iter, net, loss, ctx=[mx.cpu()]):\n",
        "    \"\"\"Evaluate accuracy of a model on the given data set.\"\"\"\n",
        "    if isinstance(ctx, mx.Context):\n",
        "        ctx = [ctx]\n",
        "    acc_sum, n, l = nd.array([0]), 0, 0\n",
        "    for batch in data_iter:\n",
        "        features, labels, _ = _get_batch(batch, ctx)\n",
        "        for X, y in zip(features, labels):\n",
        "            # X, y = X.as_in_context(ctx), y.as_in_context(ctx)\n",
        "            y = y.astype('float32')\n",
        "            y_hat = net(X)\n",
        "            l += loss(y_hat, y).sum()\n",
        "            acc_sum += (y_hat.argmax(axis=1) == y).sum().copyto(mx.cpu())\n",
        "            n += y.size\n",
        "        acc_sum.wait_to_read()\n",
        "    return acc_sum.asscalar() / n, l.asscalar() / n\n",
        "  \n",
        "# Função usada no treinamento e validação da rede\n",
        "def train_validate(net, train_iter, test_iter, batch_size, trainer, loss, ctx,\n",
        "                   num_epochs):\n",
        "    print('training on', ctx)\n",
        "    for epoch in range(num_epochs):\n",
        "        train_l_sum, train_acc_sum, n, start = 0.0, 0.0, 0, time.time()\n",
        "        for X, y in train_iter:\n",
        "            X, y = X.as_in_context(ctx), y.as_in_context(ctx)\n",
        "            with autograd.record():\n",
        "                y_hat = net(X)\n",
        "                l = loss(y_hat, y).sum()\n",
        "            l.backward()\n",
        "            trainer.step(batch_size)\n",
        "            y = y.astype('float32')\n",
        "            train_l_sum += l.asscalar()\n",
        "            train_acc_sum += (y_hat.argmax(axis=1) == y).sum().asscalar()\n",
        "            n += y.size\n",
        "        test_acc, test_loss = evaluate_accuracy(test_iter, net, loss, ctx)\n",
        "        print('epoch %d, train loss %.4f, train acc %.3f, test loss %.4f, '\n",
        "              'test acc %.3f, time %.1f sec'\n",
        "              % (epoch + 1, train_l_sum / n, train_acc_sum / n, test_loss, \n",
        "                 test_acc, time.time() - start))"
      ],
      "execution_count": 0,
      "outputs": []
    },
    {
      "cell_type": "code",
      "metadata": {
        "id": "Cohun4_uudSD",
        "colab_type": "code",
        "colab": {}
      },
      "source": [
        "# carregamento do dado: mnist\n",
        "batch_size = 256\n",
        "train_iter, test_iter = load_data_mnist(batch_size)"
      ],
      "execution_count": 0,
      "outputs": []
    },
    {
      "cell_type": "code",
      "metadata": {
        "id": "3QxGRC2RudSF",
        "colab_type": "code",
        "colab": {}
      },
      "source": [
        "# criando a rede\n",
        "net = nn.Sequential()\n",
        "net.add(nn.Dense(128, activation='relu'),\n",
        "        nn.Dense(64, activation='relu'),\n",
        "        nn.Dense(10))\n",
        "net.initialize(init.Normal(sigma=0.01), ctx=ctx) # observe aqui o uso do ctx! use a GPU!!\n",
        "\n",
        "cross_entropy = gloss.SoftmaxCrossEntropyLoss()\n",
        "lr = 0.5\n",
        "trainer = gluon.Trainer(net.collect_params(), 'sgd', {'learning_rate': lr})"
      ],
      "execution_count": 0,
      "outputs": []
    },
    {
      "cell_type": "code",
      "metadata": {
        "id": "dhcTQ7SCudSI",
        "colab_type": "code",
        "colab": {
          "base_uri": "https://localhost:8080/",
          "height": 590
        },
        "outputId": "ce243563-1b4a-4647-9d3a-c3f3c3530b28"
      },
      "source": [
        "num_epochs = 10\n",
        "train_validate(net, train_iter, test_iter, batch_size, trainer, cross_entropy,  ctx, num_epochs)"
      ],
      "execution_count": 43,
      "outputs": [
        {
          "output_type": "stream",
          "text": [
            "training on gpu(0)\n"
          ],
          "name": "stdout"
        },
        {
          "output_type": "error",
          "ename": "NameError",
          "evalue": "ignored",
          "traceback": [
            "\u001b[0;31m---------------------------------------------------------------------------\u001b[0m",
            "\u001b[0;31mNameError\u001b[0m                                 Traceback (most recent call last)",
            "\u001b[0;32m<ipython-input-43-0862bb0b0d67>\u001b[0m in \u001b[0;36m<module>\u001b[0;34m()\u001b[0m\n\u001b[1;32m      1\u001b[0m \u001b[0mnum_epochs\u001b[0m \u001b[0;34m=\u001b[0m \u001b[0;36m10\u001b[0m\u001b[0;34m\u001b[0m\u001b[0;34m\u001b[0m\u001b[0m\n\u001b[0;32m----> 2\u001b[0;31m \u001b[0mtrain_validate\u001b[0m\u001b[0;34m(\u001b[0m\u001b[0mnet\u001b[0m\u001b[0;34m,\u001b[0m \u001b[0mtrain_iter\u001b[0m\u001b[0;34m,\u001b[0m \u001b[0mtest_iter\u001b[0m\u001b[0;34m,\u001b[0m \u001b[0mbatch_size\u001b[0m\u001b[0;34m,\u001b[0m \u001b[0mtrainer\u001b[0m\u001b[0;34m,\u001b[0m \u001b[0mcross_entropy\u001b[0m\u001b[0;34m,\u001b[0m  \u001b[0mctx\u001b[0m\u001b[0;34m,\u001b[0m \u001b[0mnum_epochs\u001b[0m\u001b[0;34m)\u001b[0m\u001b[0;34m\u001b[0m\u001b[0;34m\u001b[0m\u001b[0m\n\u001b[0m",
            "\u001b[0;32m<ipython-input-39-e1753d177ac0>\u001b[0m in \u001b[0;36mtrain_validate\u001b[0;34m(net, train_iter, test_iter, batch_size, trainer, loss, ctx, num_epochs)\u001b[0m\n\u001b[1;32m     65\u001b[0m             \u001b[0mtrain_acc_sum\u001b[0m \u001b[0;34m+=\u001b[0m \u001b[0;34m(\u001b[0m\u001b[0my_hat\u001b[0m\u001b[0;34m.\u001b[0m\u001b[0margmax\u001b[0m\u001b[0;34m(\u001b[0m\u001b[0maxis\u001b[0m\u001b[0;34m=\u001b[0m\u001b[0;36m1\u001b[0m\u001b[0;34m)\u001b[0m \u001b[0;34m==\u001b[0m \u001b[0my\u001b[0m\u001b[0;34m)\u001b[0m\u001b[0;34m.\u001b[0m\u001b[0msum\u001b[0m\u001b[0;34m(\u001b[0m\u001b[0;34m)\u001b[0m\u001b[0;34m.\u001b[0m\u001b[0masscalar\u001b[0m\u001b[0;34m(\u001b[0m\u001b[0;34m)\u001b[0m\u001b[0;34m\u001b[0m\u001b[0;34m\u001b[0m\u001b[0m\n\u001b[1;32m     66\u001b[0m             \u001b[0mn\u001b[0m \u001b[0;34m+=\u001b[0m \u001b[0my\u001b[0m\u001b[0;34m.\u001b[0m\u001b[0msize\u001b[0m\u001b[0;34m\u001b[0m\u001b[0;34m\u001b[0m\u001b[0m\n\u001b[0;32m---> 67\u001b[0;31m         \u001b[0mtest_acc\u001b[0m\u001b[0;34m,\u001b[0m \u001b[0mtest_loss\u001b[0m \u001b[0;34m=\u001b[0m \u001b[0mevaluate_accuracy\u001b[0m\u001b[0;34m(\u001b[0m\u001b[0mtest_iter\u001b[0m\u001b[0;34m,\u001b[0m \u001b[0mnet\u001b[0m\u001b[0;34m,\u001b[0m \u001b[0mloss\u001b[0m\u001b[0;34m,\u001b[0m \u001b[0mctx\u001b[0m\u001b[0;34m)\u001b[0m\u001b[0;34m\u001b[0m\u001b[0;34m\u001b[0m\u001b[0m\n\u001b[0m\u001b[1;32m     68\u001b[0m         print('epoch %d, train loss %.4f, train acc %.3f, test loss %.4f, '\n\u001b[1;32m     69\u001b[0m               \u001b[0;34m'test acc %.3f, time %.1f sec'\u001b[0m\u001b[0;34m\u001b[0m\u001b[0;34m\u001b[0m\u001b[0m\n",
            "\u001b[0;32m<ipython-input-39-e1753d177ac0>\u001b[0m in \u001b[0;36mevaluate_accuracy\u001b[0;34m(data_iter, net, loss, ctx)\u001b[0m\n\u001b[1;32m     37\u001b[0m     \u001b[0macc_sum\u001b[0m\u001b[0;34m,\u001b[0m \u001b[0mn\u001b[0m\u001b[0;34m,\u001b[0m \u001b[0ml\u001b[0m \u001b[0;34m=\u001b[0m \u001b[0mnd\u001b[0m\u001b[0;34m.\u001b[0m\u001b[0marray\u001b[0m\u001b[0;34m(\u001b[0m\u001b[0;34m[\u001b[0m\u001b[0;36m0\u001b[0m\u001b[0;34m]\u001b[0m\u001b[0;34m)\u001b[0m\u001b[0;34m,\u001b[0m \u001b[0;36m0\u001b[0m\u001b[0;34m,\u001b[0m \u001b[0;36m0\u001b[0m\u001b[0;34m\u001b[0m\u001b[0;34m\u001b[0m\u001b[0m\n\u001b[1;32m     38\u001b[0m     \u001b[0;32mfor\u001b[0m \u001b[0mbatch\u001b[0m \u001b[0;32min\u001b[0m \u001b[0mdata_iter\u001b[0m\u001b[0;34m:\u001b[0m\u001b[0;34m\u001b[0m\u001b[0;34m\u001b[0m\u001b[0m\n\u001b[0;32m---> 39\u001b[0;31m         \u001b[0mfeatures\u001b[0m\u001b[0;34m,\u001b[0m \u001b[0mlabels\u001b[0m\u001b[0;34m,\u001b[0m \u001b[0m_\u001b[0m \u001b[0;34m=\u001b[0m \u001b[0m_get_batch\u001b[0m\u001b[0;34m(\u001b[0m\u001b[0mbatch\u001b[0m\u001b[0;34m,\u001b[0m \u001b[0mctx\u001b[0m\u001b[0;34m)\u001b[0m\u001b[0;34m\u001b[0m\u001b[0;34m\u001b[0m\u001b[0m\n\u001b[0m\u001b[1;32m     40\u001b[0m         \u001b[0;32mfor\u001b[0m \u001b[0mX\u001b[0m\u001b[0;34m,\u001b[0m \u001b[0my\u001b[0m \u001b[0;32min\u001b[0m \u001b[0mzip\u001b[0m\u001b[0;34m(\u001b[0m\u001b[0mfeatures\u001b[0m\u001b[0;34m,\u001b[0m \u001b[0mlabels\u001b[0m\u001b[0;34m)\u001b[0m\u001b[0;34m:\u001b[0m\u001b[0;34m\u001b[0m\u001b[0;34m\u001b[0m\u001b[0m\n\u001b[1;32m     41\u001b[0m             \u001b[0;31m# X, y = X.as_in_context(ctx), y.as_in_context(ctx)\u001b[0m\u001b[0;34m\u001b[0m\u001b[0;34m\u001b[0m\u001b[0;34m\u001b[0m\u001b[0m\n",
            "\u001b[0;32m<ipython-input-39-e1753d177ac0>\u001b[0m in \u001b[0;36m_get_batch\u001b[0;34m(batch, ctx)\u001b[0m\n\u001b[1;32m     27\u001b[0m     \u001b[0;32mif\u001b[0m \u001b[0mlabels\u001b[0m\u001b[0;34m.\u001b[0m\u001b[0mdtype\u001b[0m \u001b[0;34m!=\u001b[0m \u001b[0mfeatures\u001b[0m\u001b[0;34m.\u001b[0m\u001b[0mdtype\u001b[0m\u001b[0;34m:\u001b[0m\u001b[0;34m\u001b[0m\u001b[0;34m\u001b[0m\u001b[0m\n\u001b[1;32m     28\u001b[0m         \u001b[0mlabels\u001b[0m \u001b[0;34m=\u001b[0m \u001b[0mlabels\u001b[0m\u001b[0;34m.\u001b[0m\u001b[0mastype\u001b[0m\u001b[0;34m(\u001b[0m\u001b[0mfeatures\u001b[0m\u001b[0;34m.\u001b[0m\u001b[0mdtype\u001b[0m\u001b[0;34m)\u001b[0m\u001b[0;34m\u001b[0m\u001b[0;34m\u001b[0m\u001b[0m\n\u001b[0;32m---> 29\u001b[0;31m     return (gutils.split_and_load(features, ctx),\n\u001b[0m\u001b[1;32m     30\u001b[0m             gutils.split_and_load(labels, ctx), features.shape[0])\n\u001b[1;32m     31\u001b[0m \u001b[0;34m\u001b[0m\u001b[0m\n",
            "\u001b[0;31mNameError\u001b[0m: name 'gutils' is not defined"
          ]
        }
      ]
    },
    {
      "cell_type": "code",
      "metadata": {
        "id": "nFlxQuxjudSL",
        "colab_type": "code",
        "colab": {}
      },
      "source": [
        ""
      ],
      "execution_count": 0,
      "outputs": []
    }
  ]
}